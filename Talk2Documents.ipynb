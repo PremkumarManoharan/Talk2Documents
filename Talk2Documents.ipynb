{
  "cells": [
    {
      "cell_type": "markdown",
      "metadata": {
        "id": "FI6OrHr9R6AA"
      },
      "source": [
        "# Document QnA using Gemini and Vertex AI Vector Search\n",
        "\n",
        "<table align=\"left\">\n",
        "  <td style=\"text-align: center\">\n",
        "    <a href=\"https://colab.research.google.com/github/GoogleCloudPlatform/generative-ai/blob/main/gemini/use-cases/retrieval-augmented-generation/Document_QnA_using_gemini_and_vector_search.ipynb\">\n",
        "      <img src=\"https://cloud.google.com/ml-engine/images/colab-logo-32px.png\" alt=\"Google Colaboratory logo\"><br> Run in Colab\n",
        "    </a>\n",
        "  </td>\n",
        "  <td style=\"text-align: center\">\n",
        "    <a href=\"https://console.cloud.google.com/vertex-ai/colab/import/https:%2F%2Fraw.githubusercontent.com%2FGoogleCloudPlatform%2Fgenerative-ai%2Fmain%2Fgemini%2Fuse-cases%2Fretrieval-augmented-generation%2FDocument_QnA_using_gemini_and_vector_search.ipynb\">\n",
        "      <img width=\"32px\" src=\"https://lh3.googleusercontent.com/JmcxdQi-qOpctIvWKgPtrzZdJJK-J3sWE1RsfjZNwshCFgE_9fULcNpuXYTilIR2hjwN\" alt=\"Google Cloud Colab Enterprise logo\"><br> Run in Colab Enterprise\n",
        "    </a>\n",
        "  </td>    \n",
        "  <td style=\"text-align: center\">\n",
        "    <a href=\"https://github.com/GoogleCloudPlatform/generative-ai/blob/main/gemini/use-cases/retrieval-augmented-generation/Document_QnA_using_gemini_and_vector_search.ipynb\">\n",
        "      <img src=\"https://cloud.google.com/ml-engine/images/github-logo-32px.png\" alt=\"GitHub logo\"><br> View on GitHub\n",
        "    </a>\n",
        "  </td>\n",
        "  <td style=\"text-align: center\">\n",
        "    <a href=\"https://console.cloud.google.com/vertex-ai/workbench/deploy-notebook?download_url=https://raw.githubusercontent.com/GoogleCloudPlatform/generative-ai/main/gemini/use-cases/retrieval-augmented-generation/Document_QnA_using_gemini_and_vector_search.ipynb\">\n",
        "      <img src=\"https://lh3.googleusercontent.com/UiNooY4LUgW_oTvpsNhPpQzsstV5W8F7rYgxgGBD85cWJoLmrOzhVs_ksK_vgx40SHs7jCqkTkCk=e14-rj-sc0xffffff-h130-w32\" alt=\"Vertex AI logo\"><br> Open in Vertex AI Workbench\n",
        "    </a>\n",
        "  </td>\n",
        "</table>"
      ]
    },
    {
      "cell_type": "markdown",
      "metadata": {
        "id": "-3K6twUOR-jD"
      },
      "source": [
        "| | |\n",
        "|-|-|\n",
        "|Author(s) | [Aakash Gouda](https://github.com/aksstar) , [Bhushan Garware](https://github.com/BhushanGarware)|"
      ]
    },
    {
      "cell_type": "markdown",
      "metadata": {
        "id": "INIA40pMSYOn"
      },
      "source": [
        "## Overview\n",
        "\n",
        "Retrieval augmented generation (RAG) has become a popular paradigm for enabling LLMs to access external data and also as a mechanism for grounding to mitigate against hallucinations.\n",
        "\n",
        "In this notebook, you will learn how to perform RAG where you will perform Q&A over a document filled with both text and images.\n",
        "\n",
        "### Gemini\n",
        "\n",
        "Gemini is a family of generative AI models developed by Google DeepMind that is designed for multimodal use cases. The Gemini API gives you access to the Gemini 1.0 Pro Vision and Gemini 1.0 Pro models.\n",
        "\n",
        "### Comparing text-based and multimodal RAG\n",
        "\n",
        "Multimodal RAG offers several advantages over text-based RAG:\n",
        "\n",
        "1. **Enhanced knowledge access:** Multimodal RAG can access and process both textual and visual information, providing a richer and more comprehensive knowledge base for the LLM.\n",
        "2. **Improved reasoning capabilities:** By incorporating visual cues, multimodal RAG can make better informed inferences across different types of data modalities.\n",
        "\n",
        "This notebook shows you how to use multimodal RAG with Vertex AI Gemini API, [text embeddings](https://cloud.google.com/vertex-ai/docs/generative-ai/model-reference/text-embeddings) to build a question answering system for a PDF document.\n"
      ]
    },
    {
      "cell_type": "markdown",
      "metadata": {
        "id": "0M72MEscSasQ"
      },
      "source": [
        "### Costs\n",
        "\n",
        "This tutorial uses billable components of Google Cloud:\n",
        "\n",
        "- Vertex AI\n",
        "\n",
        "Learn about [Vertex AI pricing](https://cloud.google.com/vertex-ai/pricing) and use the [Pricing Calculator](https://cloud.google.com/products/calculator/) to generate a cost estimate based on your projected usage."
      ]
    },
    {
      "cell_type": "markdown",
      "metadata": {
        "id": "9VEOKEsLSdTx"
      },
      "source": [
        "### Objectives\n",
        "\n",
        "This notebook provides a guide to building a questions answering system using multimodal retrieval augmented generation (RAG).\n",
        "\n",
        "You will complete the following tasks:\n",
        "\n",
        "1. Extract data from documents containing both text and images using Gemini Vision Pro, and generate embeddings of the data, store it in vector store\n",
        "2. Search the vector store with text queries to find similar text data\n",
        "3. Using Text data as context, generate answer to the user query using Gemini Pro Model."
      ]
    },
    {
      "cell_type": "markdown",
      "metadata": {
        "id": "r11Gu7qNgx1p"
      },
      "source": [
        "## Getting Started"
      ]
    },
    {
      "cell_type": "markdown",
      "metadata": {
        "id": "No17Cw5hgx12"
      },
      "source": [
        "### Install Vertex AI SDK and other required packages\n"
      ]
    },
    {
      "cell_type": "code",
      "execution_count": 36,
      "metadata": {
        "id": "Hfn_UeXyTHaH"
      },
      "outputs": [],
      "source": [
        "!pip install --upgrade --quiet pymupdf langchain gradio google-cloud-aiplatform langchain_google_vertexai"
      ]
    },
    {
      "cell_type": "markdown",
      "metadata": {
        "id": "j7UyNVSiyQ96"
      },
      "source": [
        "### Restart runtime\n",
        "\n",
        "To use the newly installed packages in this Jupyter runtime, you must restart the runtime. You can do this by running the cell below, which restarts the current kernel.\n",
        "\n",
        "The restart might take a minute or longer. After its restarted, continue to the next step."
      ]
    },
    {
      "cell_type": "code",
      "execution_count": 37,
      "metadata": {
        "id": "YmY9HVVGSBW5",
        "colab": {
          "base_uri": "https://localhost:8080/"
        },
        "outputId": "4d89d0b9-c417-4835-b71b-32d1b8a261b2"
      },
      "outputs": [
        {
          "output_type": "execute_result",
          "data": {
            "text/plain": [
              "{'status': 'ok', 'restart': True}"
            ]
          },
          "metadata": {},
          "execution_count": 37
        }
      ],
      "source": [
        "import IPython\n",
        "\n",
        "app = IPython.Application.instance()\n",
        "app.kernel.do_shutdown(True)"
      ]
    },
    {
      "cell_type": "markdown",
      "metadata": {
        "id": "EXQZrM5hQeKb"
      },
      "source": [
        "<div class=\"alert alert-block alert-warning\">\n",
        "<b>⚠️ Wait for the kernel to finish restarting before you continue. ⚠️</b>\n",
        "</div>"
      ]
    },
    {
      "cell_type": "markdown",
      "metadata": {
        "id": "dmWOrTJ3gx13"
      },
      "source": [
        "### Authenticate your notebook environment (Colab only)\n",
        "\n",
        "If you are running this notebook on Google Colab, run the cell below to authenticate your environment.\n",
        "\n",
        "This step is not required if you are using [Vertex AI Workbench](https://cloud.google.com/vertex-ai-workbench)."
      ]
    },
    {
      "cell_type": "code",
      "execution_count": 29,
      "metadata": {
        "id": "NyKGtVQjgx13"
      },
      "outputs": [],
      "source": [
        "import sys\n",
        "\n",
        "# Additional authentication is required for Google Colab\n",
        "if \"google.colab\" in sys.modules:\n",
        "    # Authenticate user to Google Cloud\n",
        "    from google.colab import auth\n",
        "\n",
        "    auth.authenticate_user()"
      ]
    },
    {
      "cell_type": "markdown",
      "metadata": {
        "id": "DF4l8DTdWgPY"
      },
      "source": [
        "### Define Google Cloud project information and initialize Vertex AI\n",
        "\n",
        "To get started using Vertex AI, you must have an existing Google Cloud project and [enable the Vertex AI API](https://console.cloud.google.com/flows/enableapi?apiid=aiplatform.googleapis.com).\n",
        "\n",
        "Learn more about [setting up a project and a development environment](https://cloud.google.com/vertex-ai/docs/start/cloud-environment)."
      ]
    },
    {
      "cell_type": "code",
      "execution_count": 30,
      "metadata": {
        "id": "Nqwi-5ufWp_B"
      },
      "outputs": [],
      "source": [
        "# Define project information\n",
        "PROJECT_ID = \"genai-projects-429119\"  # @param {type:\"string\"}\n",
        "LOCATION = \"us-east1\"  # @param {type:\"string\"}\n",
        "\n",
        "# Initialize Vertex AI\n",
        "import vertexai\n",
        "\n",
        "vertexai.init(project=PROJECT_ID, location=LOCATION)"
      ]
    },
    {
      "cell_type": "code",
      "source": [
        "!pip install langchain_community"
      ],
      "metadata": {
        "colab": {
          "base_uri": "https://localhost:8080/"
        },
        "id": "tGI-RZmhUu1g",
        "outputId": "effa7c12-fda4-4beb-e208-a9e00f4f75cf"
      },
      "execution_count": 31,
      "outputs": [
        {
          "output_type": "stream",
          "name": "stdout",
          "text": [
            "Requirement already satisfied: langchain_community in /usr/local/lib/python3.10/dist-packages (0.2.7)\n",
            "Requirement already satisfied: PyYAML>=5.3 in /usr/local/lib/python3.10/dist-packages (from langchain_community) (6.0.1)\n",
            "Requirement already satisfied: SQLAlchemy<3,>=1.4 in /usr/local/lib/python3.10/dist-packages (from langchain_community) (2.0.31)\n",
            "Requirement already satisfied: aiohttp<4.0.0,>=3.8.3 in /usr/local/lib/python3.10/dist-packages (from langchain_community) (3.9.5)\n",
            "Requirement already satisfied: dataclasses-json<0.7,>=0.5.7 in /usr/local/lib/python3.10/dist-packages (from langchain_community) (0.6.7)\n",
            "Requirement already satisfied: langchain<0.3.0,>=0.2.7 in /usr/local/lib/python3.10/dist-packages (from langchain_community) (0.2.7)\n",
            "Requirement already satisfied: langchain-core<0.3.0,>=0.2.12 in /usr/local/lib/python3.10/dist-packages (from langchain_community) (0.2.13)\n",
            "Requirement already satisfied: langsmith<0.2.0,>=0.1.0 in /usr/local/lib/python3.10/dist-packages (from langchain_community) (0.1.85)\n",
            "Requirement already satisfied: numpy<2,>=1 in /usr/local/lib/python3.10/dist-packages (from langchain_community) (1.25.2)\n",
            "Requirement already satisfied: requests<3,>=2 in /usr/local/lib/python3.10/dist-packages (from langchain_community) (2.31.0)\n",
            "Requirement already satisfied: tenacity!=8.4.0,<9.0.0,>=8.1.0 in /usr/local/lib/python3.10/dist-packages (from langchain_community) (8.4.2)\n",
            "Requirement already satisfied: aiosignal>=1.1.2 in /usr/local/lib/python3.10/dist-packages (from aiohttp<4.0.0,>=3.8.3->langchain_community) (1.3.1)\n",
            "Requirement already satisfied: attrs>=17.3.0 in /usr/local/lib/python3.10/dist-packages (from aiohttp<4.0.0,>=3.8.3->langchain_community) (23.2.0)\n",
            "Requirement already satisfied: frozenlist>=1.1.1 in /usr/local/lib/python3.10/dist-packages (from aiohttp<4.0.0,>=3.8.3->langchain_community) (1.4.1)\n",
            "Requirement already satisfied: multidict<7.0,>=4.5 in /usr/local/lib/python3.10/dist-packages (from aiohttp<4.0.0,>=3.8.3->langchain_community) (6.0.5)\n",
            "Requirement already satisfied: yarl<2.0,>=1.0 in /usr/local/lib/python3.10/dist-packages (from aiohttp<4.0.0,>=3.8.3->langchain_community) (1.9.4)\n",
            "Requirement already satisfied: async-timeout<5.0,>=4.0 in /usr/local/lib/python3.10/dist-packages (from aiohttp<4.0.0,>=3.8.3->langchain_community) (4.0.3)\n",
            "Requirement already satisfied: marshmallow<4.0.0,>=3.18.0 in /usr/local/lib/python3.10/dist-packages (from dataclasses-json<0.7,>=0.5.7->langchain_community) (3.21.3)\n",
            "Requirement already satisfied: typing-inspect<1,>=0.4.0 in /usr/local/lib/python3.10/dist-packages (from dataclasses-json<0.7,>=0.5.7->langchain_community) (0.9.0)\n",
            "Requirement already satisfied: langchain-text-splitters<0.3.0,>=0.2.0 in /usr/local/lib/python3.10/dist-packages (from langchain<0.3.0,>=0.2.7->langchain_community) (0.2.2)\n",
            "Requirement already satisfied: pydantic<3,>=1 in /usr/local/lib/python3.10/dist-packages (from langchain<0.3.0,>=0.2.7->langchain_community) (2.8.0)\n",
            "Requirement already satisfied: jsonpatch<2.0,>=1.33 in /usr/local/lib/python3.10/dist-packages (from langchain-core<0.3.0,>=0.2.12->langchain_community) (1.33)\n",
            "Requirement already satisfied: packaging<25,>=23.2 in /usr/local/lib/python3.10/dist-packages (from langchain-core<0.3.0,>=0.2.12->langchain_community) (24.1)\n",
            "Requirement already satisfied: orjson<4.0.0,>=3.9.14 in /usr/local/lib/python3.10/dist-packages (from langsmith<0.2.0,>=0.1.0->langchain_community) (3.10.6)\n",
            "Requirement already satisfied: charset-normalizer<4,>=2 in /usr/local/lib/python3.10/dist-packages (from requests<3,>=2->langchain_community) (3.3.2)\n",
            "Requirement already satisfied: idna<4,>=2.5 in /usr/local/lib/python3.10/dist-packages (from requests<3,>=2->langchain_community) (3.7)\n",
            "Requirement already satisfied: urllib3<3,>=1.21.1 in /usr/local/lib/python3.10/dist-packages (from requests<3,>=2->langchain_community) (2.0.7)\n",
            "Requirement already satisfied: certifi>=2017.4.17 in /usr/local/lib/python3.10/dist-packages (from requests<3,>=2->langchain_community) (2024.6.2)\n",
            "Requirement already satisfied: typing-extensions>=4.6.0 in /usr/local/lib/python3.10/dist-packages (from SQLAlchemy<3,>=1.4->langchain_community) (4.12.2)\n",
            "Requirement already satisfied: greenlet!=0.4.17 in /usr/local/lib/python3.10/dist-packages (from SQLAlchemy<3,>=1.4->langchain_community) (3.0.3)\n",
            "Requirement already satisfied: jsonpointer>=1.9 in /usr/local/lib/python3.10/dist-packages (from jsonpatch<2.0,>=1.33->langchain-core<0.3.0,>=0.2.12->langchain_community) (3.0.0)\n",
            "Requirement already satisfied: annotated-types>=0.4.0 in /usr/local/lib/python3.10/dist-packages (from pydantic<3,>=1->langchain<0.3.0,>=0.2.7->langchain_community) (0.7.0)\n",
            "Requirement already satisfied: pydantic-core==2.20.0 in /usr/local/lib/python3.10/dist-packages (from pydantic<3,>=1->langchain<0.3.0,>=0.2.7->langchain_community) (2.20.0)\n",
            "Requirement already satisfied: mypy-extensions>=0.3.0 in /usr/local/lib/python3.10/dist-packages (from typing-inspect<1,>=0.4.0->dataclasses-json<0.7,>=0.5.7->langchain_community) (1.0.0)\n"
          ]
        }
      ]
    },
    {
      "cell_type": "markdown",
      "metadata": {
        "id": "jXHfaVS66_01"
      },
      "source": [
        "### Import libraries\n",
        "Let's start by importing the libraries that we will need for this tutorial\n"
      ]
    },
    {
      "cell_type": "code",
      "execution_count": 32,
      "metadata": {
        "id": "lslYAvw37JGQ",
        "colab": {
          "base_uri": "https://localhost:8080/"
        },
        "outputId": "5a5963b7-7e04-4513-e732-cc134e9cf4a6"
      },
      "outputs": [
        {
          "output_type": "stream",
          "name": "stdout",
          "text": [
            "Vertex AI SDK version: 1.59.0\n",
            "LangChain version: 0.2.7\n"
          ]
        }
      ],
      "source": [
        "# File system operations and displaying images\n",
        "import os\n",
        "\n",
        "# Import utility functions for timing and file handling\n",
        "import time\n",
        "\n",
        "# Libraries for downloading files, data manipulation, and creating a user interface\n",
        "import uuid\n",
        "from datetime import datetime\n",
        "\n",
        "import fitz\n",
        "import gradio as gr\n",
        "import pandas as pd\n",
        "\n",
        "# Initialize Vertex AI libraries for working with generative models\n",
        "from google.cloud import aiplatform\n",
        "from PIL import Image as PIL_Image\n",
        "from vertexai.generative_models import GenerativeModel, Image\n",
        "from vertexai.language_models import TextEmbeddingModel\n",
        "\n",
        "# Print Vertex AI SDK version\n",
        "print(f\"Vertex AI SDK version: {aiplatform.__version__}\")\n",
        "\n",
        "# Import LangChain components\n",
        "import langchain\n",
        "\n",
        "print(f\"LangChain version: {langchain.__version__}\")\n",
        "from langchain.text_splitter import CharacterTextSplitter\n",
        "from langchain_community.document_loaders import DataFrameLoader"
      ]
    },
    {
      "cell_type": "markdown",
      "metadata": {
        "id": "lP1EMJL4ddcA"
      },
      "source": [
        "### Initializing Gemini Vision Pro and Text Embedding models"
      ]
    },
    {
      "cell_type": "code",
      "execution_count": 33,
      "metadata": {
        "id": "sNOqAHc3dbDf"
      },
      "outputs": [],
      "source": [
        "# Loading Gemini Pro Vision Model\n",
        "multimodal_model = GenerativeModel(\"gemini-1.0-pro-vision\")\n",
        "\n",
        "# Initializing embedding model\n",
        "text_embedding_model = TextEmbeddingModel.from_pretrained(\"textembedding-gecko@003\")\n",
        "\n",
        "# Loading Gemini Pro Model\n",
        "model = GenerativeModel(\"gemini-1.0-pro\")"
      ]
    },
    {
      "cell_type": "markdown",
      "metadata": {
        "id": "bOZpB1hCtYtQ"
      },
      "source": [
        "### Download from internet a sample PDF file and default image to be shown when no results are found\n",
        "[Skip this step if you have uploaded your PDF file]\n",
        "\n",
        "---\n",
        "\n",
        "\n",
        "This document describes the importance of stable power grids in Japan, highlighting the recent failure of a generator step-up transformer at the Nakoso Power Station and the rapid restoration response undertaken to maintain power supply stability."
      ]
    },
    {
      "cell_type": "code",
      "execution_count": 34,
      "metadata": {
        "id": "qCuvbLu9tDOa",
        "colab": {
          "base_uri": "https://localhost:8080/"
        },
        "outputId": "9e715293-427e-41e8-a33e-6a307d1c5c3c"
      },
      "outputs": [
        {
          "output_type": "stream",
          "name": "stdout",
          "text": [
            "--2024-07-11 23:46:16--  https://www.hitachi.com/rev/archive/2023/r2023_04/pdf/04a02.pdf\n",
            "Resolving www.hitachi.com (www.hitachi.com)... 18.160.41.98, 18.160.41.41, 18.160.41.35, ...\n",
            "Connecting to www.hitachi.com (www.hitachi.com)|18.160.41.98|:443... connected.\n",
            "HTTP request sent, awaiting response... 200 OK\n",
            "Length: 1462074 (1.4M) [application/pdf]\n",
            "Saving to: ‘04a02.pdf.2’\n",
            "\n",
            "04a02.pdf.2         100%[===================>]   1.39M  9.14MB/s    in 0.2s    \n",
            "\n",
            "2024-07-11 23:46:16 (9.14 MB/s) - ‘04a02.pdf.2’ saved [1462074/1462074]\n",
            "\n",
            "--2024-07-11 23:46:17--  https://img.freepik.com/free-vector/hand-drawn-no-data-illustration_23-2150696455.jpg\n",
            "Resolving img.freepik.com (img.freepik.com)... 23.53.35.206, 23.53.35.197, 2600:1408:ec00:1f::1735:23ce, ...\n",
            "Connecting to img.freepik.com (img.freepik.com)|23.53.35.206|:443... connected.\n",
            "HTTP request sent, awaiting response... 200 OK\n",
            "Length: 32694 (32K) [image/jpeg]\n",
            "Saving to: ‘hand-drawn-no-data-illustration_23-2150696455.jpg’\n",
            "\n",
            "hand-drawn-no-data- 100%[===================>]  31.93K  --.-KB/s    in 0.02s   \n",
            "\n",
            "2024-07-11 23:46:17 (1.87 MB/s) - ‘hand-drawn-no-data-illustration_23-2150696455.jpg’ saved [32694/32694]\n",
            "\n"
          ]
        }
      ],
      "source": [
        "!wget https://www.hitachi.com/rev/archive/2023/r2023_04/pdf/04a02.pdf\n",
        "!wget https://img.freepik.com/free-vector/hand-drawn-no-data-illustration_23-2150696455.jpg\n",
        "\n",
        "# Create an \"Images\" directory if it doesn't exist\n",
        "Image_Path = \"./Images/\"\n",
        "if not os.path.exists(Image_Path):\n",
        "    os.makedirs(Image_Path)\n",
        "\n",
        "!mv hand-drawn-no-data-illustration_23-2150696455.jpg {Image_Path}/blank.jpg"
      ]
    },
    {
      "cell_type": "markdown",
      "metadata": {
        "id": "XPQ5eqaTcLP7"
      },
      "source": [
        "### Split PDF to images and extract data using Gemini Vision Pro\n",
        "This module processes a set of images, extracting text and tabular data using a multimodal model (Gemini Vision Pro).\n",
        "It handles potential errors, stores the extracted information in a DataFrame, and saves the results to a CSV file."
      ]
    },
    {
      "cell_type": "code",
      "execution_count": 35,
      "metadata": {
        "id": "-41JZgAwsWXi"
      },
      "outputs": [],
      "source": [
        "# Run the following code for each file\n",
        "PDF_FILENAME = \"04a02.pdf\"  # Replace with your filename"
      ]
    },
    {
      "cell_type": "code",
      "execution_count": 36,
      "metadata": {
        "id": "pSKL45w4O5ob",
        "colab": {
          "base_uri": "https://localhost:8080/",
          "height": 385
        },
        "outputId": "a2153843-8c34-4f95-f109-2b7867525be1"
      },
      "outputs": [
        {
          "output_type": "stream",
          "name": "stdout",
          "text": [
            "processed image no: 0\n",
            "processed image no: 1\n",
            "processed image no: 2\n",
            "processed image no: 3\n",
            "processed image no: 4\n",
            "processed image no: 5\n",
            "processed image no: 6\n",
            "processed image no: 7\n",
            "processed image no: 8\n",
            "processed image no: 9\n"
          ]
        },
        {
          "output_type": "execute_result",
          "data": {
            "text/plain": [
              "   page_id               page_source  \\\n",
              "0        0  ./Images/04a02.pdf_3.jpg   \n",
              "1        1  ./Images/04a02.pdf_2.jpg   \n",
              "2        2  ./Images/04a02.pdf_6.jpg   \n",
              "3        3  ./Images/04a02.pdf_4.jpg   \n",
              "4        4  ./Images/04a02.pdf_5.jpg   \n",
              "\n",
              "                                        page_content  \n",
              "0   FEATURED ARTICLES\\nFigure 4- Transportation R...  \n",
              "1   3.1 Project Setup\\nImmediately after receivin...  \n",
              "2   275 kV switching\\nstation electric room\\nUnit...  \n",
              "3   Figure 5-Photographs of Transportation Route ...  \n",
              "4   FEATURED ARTICLES\\nFigure 6—Photographs of On...  "
            ],
            "text/html": [
              "\n",
              "  <div id=\"df-4befbcb8-e300-4823-9d32-13fa8d876aed\" class=\"colab-df-container\">\n",
              "    <div>\n",
              "<style scoped>\n",
              "    .dataframe tbody tr th:only-of-type {\n",
              "        vertical-align: middle;\n",
              "    }\n",
              "\n",
              "    .dataframe tbody tr th {\n",
              "        vertical-align: top;\n",
              "    }\n",
              "\n",
              "    .dataframe thead th {\n",
              "        text-align: right;\n",
              "    }\n",
              "</style>\n",
              "<table border=\"1\" class=\"dataframe\">\n",
              "  <thead>\n",
              "    <tr style=\"text-align: right;\">\n",
              "      <th></th>\n",
              "      <th>page_id</th>\n",
              "      <th>page_source</th>\n",
              "      <th>page_content</th>\n",
              "    </tr>\n",
              "  </thead>\n",
              "  <tbody>\n",
              "    <tr>\n",
              "      <th>0</th>\n",
              "      <td>0</td>\n",
              "      <td>./Images/04a02.pdf_3.jpg</td>\n",
              "      <td>FEATURED ARTICLES\\nFigure 4- Transportation R...</td>\n",
              "    </tr>\n",
              "    <tr>\n",
              "      <th>1</th>\n",
              "      <td>1</td>\n",
              "      <td>./Images/04a02.pdf_2.jpg</td>\n",
              "      <td>3.1 Project Setup\\nImmediately after receivin...</td>\n",
              "    </tr>\n",
              "    <tr>\n",
              "      <th>2</th>\n",
              "      <td>2</td>\n",
              "      <td>./Images/04a02.pdf_6.jpg</td>\n",
              "      <td>275 kV switching\\nstation electric room\\nUnit...</td>\n",
              "    </tr>\n",
              "    <tr>\n",
              "      <th>3</th>\n",
              "      <td>3</td>\n",
              "      <td>./Images/04a02.pdf_4.jpg</td>\n",
              "      <td>Figure 5-Photographs of Transportation Route ...</td>\n",
              "    </tr>\n",
              "    <tr>\n",
              "      <th>4</th>\n",
              "      <td>4</td>\n",
              "      <td>./Images/04a02.pdf_5.jpg</td>\n",
              "      <td>FEATURED ARTICLES\\nFigure 6—Photographs of On...</td>\n",
              "    </tr>\n",
              "  </tbody>\n",
              "</table>\n",
              "</div>\n",
              "    <div class=\"colab-df-buttons\">\n",
              "\n",
              "  <div class=\"colab-df-container\">\n",
              "    <button class=\"colab-df-convert\" onclick=\"convertToInteractive('df-4befbcb8-e300-4823-9d32-13fa8d876aed')\"\n",
              "            title=\"Convert this dataframe to an interactive table.\"\n",
              "            style=\"display:none;\">\n",
              "\n",
              "  <svg xmlns=\"http://www.w3.org/2000/svg\" height=\"24px\" viewBox=\"0 -960 960 960\">\n",
              "    <path d=\"M120-120v-720h720v720H120Zm60-500h600v-160H180v160Zm220 220h160v-160H400v160Zm0 220h160v-160H400v160ZM180-400h160v-160H180v160Zm440 0h160v-160H620v160ZM180-180h160v-160H180v160Zm440 0h160v-160H620v160Z\"/>\n",
              "  </svg>\n",
              "    </button>\n",
              "\n",
              "  <style>\n",
              "    .colab-df-container {\n",
              "      display:flex;\n",
              "      gap: 12px;\n",
              "    }\n",
              "\n",
              "    .colab-df-convert {\n",
              "      background-color: #E8F0FE;\n",
              "      border: none;\n",
              "      border-radius: 50%;\n",
              "      cursor: pointer;\n",
              "      display: none;\n",
              "      fill: #1967D2;\n",
              "      height: 32px;\n",
              "      padding: 0 0 0 0;\n",
              "      width: 32px;\n",
              "    }\n",
              "\n",
              "    .colab-df-convert:hover {\n",
              "      background-color: #E2EBFA;\n",
              "      box-shadow: 0px 1px 2px rgba(60, 64, 67, 0.3), 0px 1px 3px 1px rgba(60, 64, 67, 0.15);\n",
              "      fill: #174EA6;\n",
              "    }\n",
              "\n",
              "    .colab-df-buttons div {\n",
              "      margin-bottom: 4px;\n",
              "    }\n",
              "\n",
              "    [theme=dark] .colab-df-convert {\n",
              "      background-color: #3B4455;\n",
              "      fill: #D2E3FC;\n",
              "    }\n",
              "\n",
              "    [theme=dark] .colab-df-convert:hover {\n",
              "      background-color: #434B5C;\n",
              "      box-shadow: 0px 1px 3px 1px rgba(0, 0, 0, 0.15);\n",
              "      filter: drop-shadow(0px 1px 2px rgba(0, 0, 0, 0.3));\n",
              "      fill: #FFFFFF;\n",
              "    }\n",
              "  </style>\n",
              "\n",
              "    <script>\n",
              "      const buttonEl =\n",
              "        document.querySelector('#df-4befbcb8-e300-4823-9d32-13fa8d876aed button.colab-df-convert');\n",
              "      buttonEl.style.display =\n",
              "        google.colab.kernel.accessAllowed ? 'block' : 'none';\n",
              "\n",
              "      async function convertToInteractive(key) {\n",
              "        const element = document.querySelector('#df-4befbcb8-e300-4823-9d32-13fa8d876aed');\n",
              "        const dataTable =\n",
              "          await google.colab.kernel.invokeFunction('convertToInteractive',\n",
              "                                                    [key], {});\n",
              "        if (!dataTable) return;\n",
              "\n",
              "        const docLinkHtml = 'Like what you see? Visit the ' +\n",
              "          '<a target=\"_blank\" href=https://colab.research.google.com/notebooks/data_table.ipynb>data table notebook</a>'\n",
              "          + ' to learn more about interactive tables.';\n",
              "        element.innerHTML = '';\n",
              "        dataTable['output_type'] = 'display_data';\n",
              "        await google.colab.output.renderOutput(dataTable, element);\n",
              "        const docLink = document.createElement('div');\n",
              "        docLink.innerHTML = docLinkHtml;\n",
              "        element.appendChild(docLink);\n",
              "      }\n",
              "    </script>\n",
              "  </div>\n",
              "\n",
              "\n",
              "<div id=\"df-2a09f92d-650f-45d0-a50b-f551f3eaf40b\">\n",
              "  <button class=\"colab-df-quickchart\" onclick=\"quickchart('df-2a09f92d-650f-45d0-a50b-f551f3eaf40b')\"\n",
              "            title=\"Suggest charts\"\n",
              "            style=\"display:none;\">\n",
              "\n",
              "<svg xmlns=\"http://www.w3.org/2000/svg\" height=\"24px\"viewBox=\"0 0 24 24\"\n",
              "     width=\"24px\">\n",
              "    <g>\n",
              "        <path d=\"M19 3H5c-1.1 0-2 .9-2 2v14c0 1.1.9 2 2 2h14c1.1 0 2-.9 2-2V5c0-1.1-.9-2-2-2zM9 17H7v-7h2v7zm4 0h-2V7h2v10zm4 0h-2v-4h2v4z\"/>\n",
              "    </g>\n",
              "</svg>\n",
              "  </button>\n",
              "\n",
              "<style>\n",
              "  .colab-df-quickchart {\n",
              "      --bg-color: #E8F0FE;\n",
              "      --fill-color: #1967D2;\n",
              "      --hover-bg-color: #E2EBFA;\n",
              "      --hover-fill-color: #174EA6;\n",
              "      --disabled-fill-color: #AAA;\n",
              "      --disabled-bg-color: #DDD;\n",
              "  }\n",
              "\n",
              "  [theme=dark] .colab-df-quickchart {\n",
              "      --bg-color: #3B4455;\n",
              "      --fill-color: #D2E3FC;\n",
              "      --hover-bg-color: #434B5C;\n",
              "      --hover-fill-color: #FFFFFF;\n",
              "      --disabled-bg-color: #3B4455;\n",
              "      --disabled-fill-color: #666;\n",
              "  }\n",
              "\n",
              "  .colab-df-quickchart {\n",
              "    background-color: var(--bg-color);\n",
              "    border: none;\n",
              "    border-radius: 50%;\n",
              "    cursor: pointer;\n",
              "    display: none;\n",
              "    fill: var(--fill-color);\n",
              "    height: 32px;\n",
              "    padding: 0;\n",
              "    width: 32px;\n",
              "  }\n",
              "\n",
              "  .colab-df-quickchart:hover {\n",
              "    background-color: var(--hover-bg-color);\n",
              "    box-shadow: 0 1px 2px rgba(60, 64, 67, 0.3), 0 1px 3px 1px rgba(60, 64, 67, 0.15);\n",
              "    fill: var(--button-hover-fill-color);\n",
              "  }\n",
              "\n",
              "  .colab-df-quickchart-complete:disabled,\n",
              "  .colab-df-quickchart-complete:disabled:hover {\n",
              "    background-color: var(--disabled-bg-color);\n",
              "    fill: var(--disabled-fill-color);\n",
              "    box-shadow: none;\n",
              "  }\n",
              "\n",
              "  .colab-df-spinner {\n",
              "    border: 2px solid var(--fill-color);\n",
              "    border-color: transparent;\n",
              "    border-bottom-color: var(--fill-color);\n",
              "    animation:\n",
              "      spin 1s steps(1) infinite;\n",
              "  }\n",
              "\n",
              "  @keyframes spin {\n",
              "    0% {\n",
              "      border-color: transparent;\n",
              "      border-bottom-color: var(--fill-color);\n",
              "      border-left-color: var(--fill-color);\n",
              "    }\n",
              "    20% {\n",
              "      border-color: transparent;\n",
              "      border-left-color: var(--fill-color);\n",
              "      border-top-color: var(--fill-color);\n",
              "    }\n",
              "    30% {\n",
              "      border-color: transparent;\n",
              "      border-left-color: var(--fill-color);\n",
              "      border-top-color: var(--fill-color);\n",
              "      border-right-color: var(--fill-color);\n",
              "    }\n",
              "    40% {\n",
              "      border-color: transparent;\n",
              "      border-right-color: var(--fill-color);\n",
              "      border-top-color: var(--fill-color);\n",
              "    }\n",
              "    60% {\n",
              "      border-color: transparent;\n",
              "      border-right-color: var(--fill-color);\n",
              "    }\n",
              "    80% {\n",
              "      border-color: transparent;\n",
              "      border-right-color: var(--fill-color);\n",
              "      border-bottom-color: var(--fill-color);\n",
              "    }\n",
              "    90% {\n",
              "      border-color: transparent;\n",
              "      border-bottom-color: var(--fill-color);\n",
              "    }\n",
              "  }\n",
              "</style>\n",
              "\n",
              "  <script>\n",
              "    async function quickchart(key) {\n",
              "      const quickchartButtonEl =\n",
              "        document.querySelector('#' + key + ' button');\n",
              "      quickchartButtonEl.disabled = true;  // To prevent multiple clicks.\n",
              "      quickchartButtonEl.classList.add('colab-df-spinner');\n",
              "      try {\n",
              "        const charts = await google.colab.kernel.invokeFunction(\n",
              "            'suggestCharts', [key], {});\n",
              "      } catch (error) {\n",
              "        console.error('Error during call to suggestCharts:', error);\n",
              "      }\n",
              "      quickchartButtonEl.classList.remove('colab-df-spinner');\n",
              "      quickchartButtonEl.classList.add('colab-df-quickchart-complete');\n",
              "    }\n",
              "    (() => {\n",
              "      let quickchartButtonEl =\n",
              "        document.querySelector('#df-2a09f92d-650f-45d0-a50b-f551f3eaf40b button');\n",
              "      quickchartButtonEl.style.display =\n",
              "        google.colab.kernel.accessAllowed ? 'block' : 'none';\n",
              "    })();\n",
              "  </script>\n",
              "</div>\n",
              "\n",
              "    </div>\n",
              "  </div>\n"
            ],
            "application/vnd.google.colaboratory.intrinsic+json": {
              "type": "dataframe",
              "variable_name": "df",
              "summary": "{\n  \"name\": \"df\",\n  \"rows\": 10,\n  \"fields\": [\n    {\n      \"column\": \"page_id\",\n      \"properties\": {\n        \"dtype\": \"number\",\n        \"std\": 3,\n        \"min\": 0,\n        \"max\": 9,\n        \"num_unique_values\": 10,\n        \"samples\": [\n          8,\n          1,\n          5\n        ],\n        \"semantic_type\": \"\",\n        \"description\": \"\"\n      }\n    },\n    {\n      \"column\": \"page_source\",\n      \"properties\": {\n        \"dtype\": \"string\",\n        \"num_unique_values\": 10,\n        \"samples\": [\n          \"./Images/04a02.pdf_8.jpg\",\n          \"./Images/04a02.pdf_2.jpg\",\n          \"./Images/04a02.pdf_7.jpg\"\n        ],\n        \"semantic_type\": \"\",\n        \"description\": \"\"\n      }\n    },\n    {\n      \"column\": \"page_content\",\n      \"properties\": {\n        \"dtype\": \"string\",\n        \"num_unique_values\": 10,\n        \"samples\": [\n          \" 68\\nReferences\\n1) Agency for Natural Resources and Energy (ANRE), Ministry\\nof Economy, Trade and Industry (METI), \\\"Measures for\\nElectricity Supply and Demand for FY2021 Winter\\\" (Oct.\\n2021) in Japanese, https://www.meti.go.jp/press/2021/10/2\\n0211027003/20211027003-1.pdf\\n2) ANRE, METI, \\\"Outlook and Measures for Electricity Supply\\nand Demand for FY2022\\\" (Jan. 2022) in Japanese, https://\\nwww.meti.go.jp/shingikai/enecho/denryoku_gas/\\ndenryoku_gas/pdf/044_04_00.pdf\\n3) Japan Atomic Energy Relations Organization (JAERO),\\n4)\\n\\\"Nuclear and Energy Drawings [1-2-07] Change in Electricity\\nGenerated and Received by Source\\\" in Japanese, https://\\nwww.ene100.jp/zumen/1-2-7\\nJ\\u00f5ban Joint Power Co., Ltd., \\\"Electricity Sales and\\nFuel Consumption\\\" in Japanese, http://www.\\njoban-power.co.jp/category/nakoso_power_plant/\\nelectricity_sales_and_fuel_consumption/\\nAuthors\\nHikaru Fujita\\nT&D Engineering Department, Transmission System\\nDivision, Transmission & Distribution Systems\\nDivision, Power Grids Business Unit, Hitachi, Ltd.\\nCurrent work and research: Engineering of substation\\nsystems for industry.\\nMasaru Kashiwakura\\nTransformer Department, T&D Engineering and\\nProduction Division, Transmission & Distribution\\nSystems Division, Power Grids Business Unit, Hitachi,\\nLtd. Current work and research: Engineering of\\nmaintenance work for large-capacity transformers.\\nSociety memberships: The Institute of Electrical\\nEngineers of Japan (IEEJ).\\nAkihiro Kawagoe\\nValue Integration Center, Energy Business Division,\\nHitachi, Ltd. Current work and research: Procurement\\nof goods for T&D equipment production.\\nHisaki Hamamoto\\nTransformer Department, T&D Engineering and\\nProduction Division, Transmission & Distribution\\nSystems Division, Power Grids Business Unit, Hitachi,\\nLtd. Current work and research: Production control of\\ntransformers.\\nTetsuo Niitsuma\\nTransmission and Distribution QA Department,\\nQuality Assurance Division of Power Grids Business\\nUnit, Power Grids Business Unit, Hitachi, Ltd. Current\\nwork and research: Quality assurance of transformers.\\nYuzuru Mitani\\nBusiness Administration & Engineering Department,\\nT&D Engineering and Production Division,\\nTransmission & Distribution Systems Division, Power\\nGrids Business Unit, Hitachi, Ltd. Current work and\\nresearch: Engineering of transportation and site\\ninstallation.\\n | References | Authors |\\n| :--- | :--- |\\n| 1) Agency for Natural Resources and Energy (ANRE), Ministry of Economy, Trade and Industry (METI), \\\"Measures for Electricity Supply and Demand for FY2021 Winter\\\" (Oct. 2021) in Japanese, https://www.meti.go.jp/press/2021/10/20211027003/20211027003-1.pdf | Hikaru Fujita |\\n| 2) ANRE, METI, \\\"Outlook and Measures for Electricity Supply and Demand for FY2022\\\" (Jan. 2022) in Japanese, https://www.meti.go.jp/shingikai/enecho/denryoku_gas/denryoku_gas/pdf/044_04_00.pdf | T&D Engineering Department, Transmission System Division, Transmission & Distribution Systems Division, Power Grids Business Unit, Hitachi, Ltd. Current work and research: Engineering of substation systems for industry. |\\n| 3) Japan Atomic Energy Relations Organization (JAERO), \\\"Nuclear and Energy Drawings [1-2-07] Change in Electricity Generated and Received by Source\\\" in Japanese, https://www.ene100.jp/zumen/1-2-7 | Masaru Kashiwakura |\\n| 4) J\\u00f5ban Joint Power Co., Ltd., \\\"Electricity Sales and Fuel Consumption\\\" in Japanese, http://www.joban-power.co.jp/category/nakoso_power_plant/electricity_sales_and_fuel_consumption/ | Transformer Department, T&D Engineering and Production Division, Transmission & Distribution Systems Division, Power Grids Business Unit, Hitachi, Ltd. Current work and research: Engineering of maintenance work for large-capacity transformers. Society memberships: The Institute of Electrical Engineers of Japan (IEEJ). |\\n|  | Akihiro Kawagoe |\\n|  | Value Integration Center, Energy Business Division, Hitachi, Ltd. Current work and research: Procurement of goods for T&D equipment production. |\\n|  | Hisaki Hamamoto |\\n|  | Transformer Department, T&D Engineering and Production Division, Transmission & Distribution Systems Division, Power Grids Business Unit, Hitachi, Ltd. Current work and research: Production control of transformers. |\\n|  | Tetsuo Niitsuma |\\n|  | Transmission and Distribution QA Department, Quality Assurance Division of Power Grids Business Unit, Power Grids Business Unit, Hitachi, Ltd. Current work and research: Quality assurance of transformers. |\\n|  | Yuzuru Mitani |\\n|  | Business Administration & Engineering Department, T&D Engineering and Production Division, Transmission & Distribution Systems Division, Power Grids Business Unit, Hitachi, Ltd. Current work and research: Engineering of transportation and site installation. |\",\n          \" 3.1 Project Setup\\nImmediately after receiving the restoration instructions,\\nHitachi appointed its internal project members (from\\nthe business unit and design, procurement, manufactur-\\ning, quality assurance, transportation, and construction\\ndepartments) and set up regular meetings (within Hitachi:\\nevery Tuesday, between the customer and Hitachi: every\\nWednesday). This created a system that could confirm the\\nprogress of work in a timely manner. Hitachi also held\\nad hoc meetings if any urgent matters were discovered to\\nensure actions could be taken without delay to avoid risks\\n(process delay or malfunctions) or to make the most of\\nopportunities (shortening the process).\\n3.2 Design, Procurement, and Manufacturing Measures\\n(1) Repeated existing design\\nRepeating the same design as the existing plant enabled\\nthe design time to be shortened compared to completely\\nnew manufacturing.\\nFigure 3 - Overview of Transformer Manufacturing Flow\\nThe process for winding, core stacking, core assembly, final assembly, factory testing, and readying for delivery was shortened via measures such as\\novertime and day and night work shifts.\\n(1) Material reception\\n(2) Winding\\nElectric wire\\nPress board\\nSilicon steel\\nplate\\n(4) Iron plate cutting\\n(5) Core stacking\\n(6) Core assembly\\n(3) Coil assembly\\n(7) Coil and core assembly\\n(8) Coil and\\ncore preliminary\\ntesting\\n(9) Coil and core drying\\n(10) Tank/cover\\n(11) Inner tank\\ninsertion\\n(12) Overall assembly\\n(final assembly)\\n(13) Vacuum lubrication,\\ndegassing circulation\\n(14) Testing\\n(15) Readying\\nfor delivery\\n(16) Transportation\\nLTC: on-load tap changer\\nExterior parts\\n\\u2022 LTC\\n\\u2022 Bushing\\n\\u2022 Cooler\\n\\u2022 Control panel\\n\\u2022 Auxiliary device\\nparts, etc.\\n | 3.1 | Project Setup |\\n| :---: | :---: |\\n| Immediately after receiving the restoration instructions, Hitachi appointed its internal project members (from the business unit and design, procurement, manufacturing, quality assurance, transportation, and construction departments) and set up regular meetings (within Hitachi: every Tuesday, between the customer and Hitachi: every Wednesday). This created a system that could confirm the progress of work in a timely manner. Hitachi also held ad hoc meetings if any urgent matters were discovered to ensure actions could be taken without delay to avoid risks (process delay or malfunctions) or to make the most of opportunities (shortening the process). |\\n| 3.2 | Design, Procurement, and Manufacturing Measures |\\n| :---: | :---: |\\n| (1) Repeated existing design |\\n| Repeating the same design as the existing plant enabled the design time to be shortened compared to completely new manufacturing. |\",\n          \" FEATURED ARTICLES\\nFigure 8 - Diagram of Induced Voltage Countermeasures\\nMeasures were taken to reduce the induced current when disconnecting and connecting the lead wire between the transformer and cable heads, which\\nreduced the risk of accidental electric shocks and allowed work to proceed.\\nLead wire\\nBg\\nUnit No. 8 GSUT\\nNeutral point grounding\\nElectric shock risk while working\\n(induced current from unit No. 9 cable)\\nHV winding\\nSteps (2) and (5)\\nUnit No. 9\\nUnit No. 8\\n(operating)\\n(stopped)\\nCH\\nlo1 + lo2\\n\\u2192\\u2192\\n\\u2193\\nlol\\nWork grounding\\nStep (1)\\nSteps (3) and (4)\\n102\\nWork timing\\nWhen disconnecting\\nexisting transformer\\nlead wire\\nWhen connecting new\\ntransformer lead wire\\nActions\\nReduce induced current by constructing detour circuit (procedure below)\\n(1) Connect the grounding wire to the CH section\\n(2) Disconnect the grounding wire connected to the neutral point\\n(3) Measure the current flowing to the lead wire with a clamp meter\\n(4) If there is no energized current or the current is low, cut the lead wire (x section) according\\nto the worksite instructions (quality assurance staff)\\n(5) After work, reconnect the grounding wire to the neutral point\\nAs above [in step (4), connect the lead wire]\\n+\\nFurther reduce the induced voltage by limiting the output of unit No. 9\\n(from normal level of 500 MW to 250 MW during work)\\nHV: high-voltage side CH: cable head Bg: bushing\\n5. Prevention of Accidental\\nElectric Shocks\\nDuring the work disconnecting the existing transformer\\nfrom the cable heads, induced current from the adjacent\\noperating unit No. 9 was observed. As a result, Hitachi\\nconsidered countermeasures against electric shocks (see\\nFigure 8).\\nMeasures to reduce the induced current were taken by\\nconstructing a detour circuit when disconnecting the lead\\nwire between the existing transformer and the cable heads.\\nThe results of subsequent verification also confirmed the\\neffect of reducing the induced current by limiting the out-\\nput of unit No. 9. Therefore, when connecting the lead wire\\nbetween the new transformer and the cable heads, in addi-\\ntion to constructing the detour circuit, Hitachi asked the\\ncustomer to limit the output of unit No. 9, which further\\nreduced the induced current and made the work safe.\\n6. Conclusions\\nThis project to help solve the social problem of a power\\nsupply crunch was an invaluable experience for Hitachi, as\\nit looked beyond conventional frameworks to take the best\\nactions it could, while sharing with the customer infor-\\nmation about the risks and opportunities of shortening\\nprocesses. Hitachi made a significant contribution to power\\nsupply stabilization in Japan by rapidly restoring the unit\\nNo. 8 GSUT.\\nAcknowledgments\\nIn the work on the rapid restoration of the unit No. 8\\nGSUT at the Nakoso Power Station of Joban Joint Power\\nCo., Ltd., Hitachi received the support of Joban Joint Power\\nCo., Ltd. and many other stakeholders. The authors would\\nlike to express their deepest gratitude to everyone involved\\nin the project.\\nHitachi Review Vol. 72, No. 4 438-439\\n67\\n | Work timing | Actions |\\n| :--- | :---: |\\n| When disconnecting existing transformer lead wire | Reduce induced current by constructing detour circuit (procedure below) |\\n|  | (1) Connect the grounding wire to the CH section |\\n|  | (2) Disconnect the grounding wire connected to the neutral point |\\n|  | (3) Measure the current flowing to the lead wire with a clamp meter |\\n|  | (4) If there is no energized current or the current is low, cut the lead wire (x section) according to the worksite instructions (quality assurance staff) |\\n|  | (5) After work, reconnect the grounding wire to the neutral point |\\n| When connecting new transformer lead wire | As above [in step (4), connect the lead wire] |\\n|  | Further reduce the induced voltage by limiting the output of unit No. 9 (from normal level of 500 MW to 250 MW during work) |\"\n        ],\n        \"semantic_type\": \"\",\n        \"description\": \"\"\n      }\n    }\n  ]\n}"
            }
          },
          "metadata": {},
          "execution_count": 36
        }
      ],
      "source": [
        "# To get better resolution\n",
        "zoom_x = 2.0  # horizontal zoom\n",
        "zoom_y = 2.0  # vertical zoom\n",
        "mat = fitz.Matrix(zoom_x, zoom_y)  # zoom factor 2 in each dimension\n",
        "\n",
        "doc = fitz.open(PDF_FILENAME)  # open document\n",
        "for page in doc:  # iterate through the pages\n",
        "    pix = page.get_pixmap(matrix=mat)  # render page to an image\n",
        "    outpath = f\"./Images/{PDF_FILENAME}_{page.number}.jpg\"\n",
        "    pix.save(outpath)  # store image as a PNG\n",
        "\n",
        "# Define the path where images are located\n",
        "image_names = os.listdir(Image_Path)\n",
        "Max_images = len(image_names)\n",
        "\n",
        "# Create empty lists to store image information\n",
        "page_source = []\n",
        "page_content = []\n",
        "page_id = []\n",
        "\n",
        "p_id = 0  # Initialize image ID counter\n",
        "rest_count = 0  # Initialize counter for error handling\n",
        "\n",
        "while p_id < Max_images:\n",
        "    try:\n",
        "        # Construct the full path to the current image\n",
        "        image_path = Image_Path + image_names[p_id]\n",
        "\n",
        "        # Load the image\n",
        "        image = Image.load_from_file(image_path)\n",
        "\n",
        "        # Generate prompts for text and table extraction\n",
        "        prompt_text = \"Extract all text content in the image\"\n",
        "        prompt_table = (\n",
        "            \"Detect table in this image. Extract content maintaining the structure\"\n",
        "        )\n",
        "\n",
        "        # Extract text using your multimodal model\n",
        "        contents = [image, prompt_text]\n",
        "        response = multimodal_model.generate_content(contents)\n",
        "        text_content = response.text\n",
        "\n",
        "        # Extract table using your multimodal model\n",
        "        contents = [image, prompt_table]\n",
        "        response = multimodal_model.generate_content(contents)\n",
        "        table_content = response.text\n",
        "\n",
        "        # Log progress and store results\n",
        "        print(f\"processed image no: {p_id}\")\n",
        "        page_source.append(image_path)\n",
        "        page_content.append(text_content + \"\\n\" + table_content)\n",
        "        page_id.append(p_id)\n",
        "        p_id += 1\n",
        "\n",
        "    except Exception as err:\n",
        "        # Handle errors during processing\n",
        "        print(err)\n",
        "        print(\"Taking Some Rest\")\n",
        "        time.sleep(1)  # Pause execution for 1 second\n",
        "        rest_count += 1\n",
        "        if rest_count == 5:  # Limit consecutive error handling\n",
        "            rest_count = 0\n",
        "            print(f\"Cannot process image no: {image_path}\")\n",
        "            p_id += 1  # Move to the next image\n",
        "\n",
        "# Create a DataFrame to store extracted information\n",
        "df = pd.DataFrame(\n",
        "    {\"page_id\": page_id, \"page_source\": page_source, \"page_content\": page_content}\n",
        ")\n",
        "del page_id, page_source, page_content  # Conserve memory\n",
        "df.head()  # Preview the DataFrame"
      ]
    },
    {
      "cell_type": "markdown",
      "metadata": {
        "id": "ECB4ixV6VF0B"
      },
      "source": [
        "# Generate Text Embeddings\n",
        "Leverage a powerful language model textembedding-gecko to generate rich text embeddings that helps us find relevant information from a dataset."
      ]
    },
    {
      "cell_type": "code",
      "execution_count": 37,
      "metadata": {
        "id": "kHtZhmkYVCFP",
        "colab": {
          "base_uri": "https://localhost:8080/",
          "height": 329
        },
        "outputId": "b1e17eae-5cc5-4caa-962e-aea6f2a83036"
      },
      "outputs": [
        {
          "output_type": "stream",
          "name": "stdout",
          "text": [
            "# of documents loaded (pre-chunking) = 10\n",
            "# of documents = 10\n"
          ]
        },
        {
          "output_type": "execute_result",
          "data": {
            "text/plain": [
              "                                     id  \\\n",
              "0  007325e8-6866-4d2d-941f-16f2a8092a49   \n",
              "1  83ccf2fa-d38c-4661-8c5f-05dba43d86c1   \n",
              "2  840c021c-7bb0-4e8d-af15-3a351a9fc967   \n",
              "3  055db5cb-e63a-44f0-815f-83cdc25866ec   \n",
              "4  6bf67cab-f5cd-453f-bede-0a8c2f16c4fb   \n",
              "\n",
              "                                           embedding  \\\n",
              "0  [-0.011819671839475632, -0.02715255878865719, ...   \n",
              "1  [-0.003075208282098174, -0.03155430406332016, ...   \n",
              "2  [0.003090956946834922, -0.01532957423478365, -...   \n",
              "3  [0.01011629682034254, -0.011379333212971687, -...   \n",
              "4  [-0.00552772730588913, -0.012883924879133701, ...   \n",
              "\n",
              "                page_source                                               text  \n",
              "0  ./Images/04a02.pdf_3.jpg  FEATURED ARTICLES\\nFigure 4- Transportation Ro...  \n",
              "1  ./Images/04a02.pdf_2.jpg  3.1 Project Setup\\nImmediately after receiving...  \n",
              "2  ./Images/04a02.pdf_6.jpg  275 kV switching\\nstation electric room\\nUnit ...  \n",
              "3  ./Images/04a02.pdf_4.jpg  Figure 5-Photographs of Transportation Route f...  \n",
              "4  ./Images/04a02.pdf_5.jpg  FEATURED ARTICLES\\nFigure 6—Photographs of Ons...  "
            ],
            "text/html": [
              "\n",
              "  <div id=\"df-c737f0ef-28fb-4233-b6b0-f4915d1175d4\" class=\"colab-df-container\">\n",
              "    <div>\n",
              "<style scoped>\n",
              "    .dataframe tbody tr th:only-of-type {\n",
              "        vertical-align: middle;\n",
              "    }\n",
              "\n",
              "    .dataframe tbody tr th {\n",
              "        vertical-align: top;\n",
              "    }\n",
              "\n",
              "    .dataframe thead th {\n",
              "        text-align: right;\n",
              "    }\n",
              "</style>\n",
              "<table border=\"1\" class=\"dataframe\">\n",
              "  <thead>\n",
              "    <tr style=\"text-align: right;\">\n",
              "      <th></th>\n",
              "      <th>id</th>\n",
              "      <th>embedding</th>\n",
              "      <th>page_source</th>\n",
              "      <th>text</th>\n",
              "    </tr>\n",
              "  </thead>\n",
              "  <tbody>\n",
              "    <tr>\n",
              "      <th>0</th>\n",
              "      <td>007325e8-6866-4d2d-941f-16f2a8092a49</td>\n",
              "      <td>[-0.011819671839475632, -0.02715255878865719, ...</td>\n",
              "      <td>./Images/04a02.pdf_3.jpg</td>\n",
              "      <td>FEATURED ARTICLES\\nFigure 4- Transportation Ro...</td>\n",
              "    </tr>\n",
              "    <tr>\n",
              "      <th>1</th>\n",
              "      <td>83ccf2fa-d38c-4661-8c5f-05dba43d86c1</td>\n",
              "      <td>[-0.003075208282098174, -0.03155430406332016, ...</td>\n",
              "      <td>./Images/04a02.pdf_2.jpg</td>\n",
              "      <td>3.1 Project Setup\\nImmediately after receiving...</td>\n",
              "    </tr>\n",
              "    <tr>\n",
              "      <th>2</th>\n",
              "      <td>840c021c-7bb0-4e8d-af15-3a351a9fc967</td>\n",
              "      <td>[0.003090956946834922, -0.01532957423478365, -...</td>\n",
              "      <td>./Images/04a02.pdf_6.jpg</td>\n",
              "      <td>275 kV switching\\nstation electric room\\nUnit ...</td>\n",
              "    </tr>\n",
              "    <tr>\n",
              "      <th>3</th>\n",
              "      <td>055db5cb-e63a-44f0-815f-83cdc25866ec</td>\n",
              "      <td>[0.01011629682034254, -0.011379333212971687, -...</td>\n",
              "      <td>./Images/04a02.pdf_4.jpg</td>\n",
              "      <td>Figure 5-Photographs of Transportation Route f...</td>\n",
              "    </tr>\n",
              "    <tr>\n",
              "      <th>4</th>\n",
              "      <td>6bf67cab-f5cd-453f-bede-0a8c2f16c4fb</td>\n",
              "      <td>[-0.00552772730588913, -0.012883924879133701, ...</td>\n",
              "      <td>./Images/04a02.pdf_5.jpg</td>\n",
              "      <td>FEATURED ARTICLES\\nFigure 6—Photographs of Ons...</td>\n",
              "    </tr>\n",
              "  </tbody>\n",
              "</table>\n",
              "</div>\n",
              "    <div class=\"colab-df-buttons\">\n",
              "\n",
              "  <div class=\"colab-df-container\">\n",
              "    <button class=\"colab-df-convert\" onclick=\"convertToInteractive('df-c737f0ef-28fb-4233-b6b0-f4915d1175d4')\"\n",
              "            title=\"Convert this dataframe to an interactive table.\"\n",
              "            style=\"display:none;\">\n",
              "\n",
              "  <svg xmlns=\"http://www.w3.org/2000/svg\" height=\"24px\" viewBox=\"0 -960 960 960\">\n",
              "    <path d=\"M120-120v-720h720v720H120Zm60-500h600v-160H180v160Zm220 220h160v-160H400v160Zm0 220h160v-160H400v160ZM180-400h160v-160H180v160Zm440 0h160v-160H620v160ZM180-180h160v-160H180v160Zm440 0h160v-160H620v160Z\"/>\n",
              "  </svg>\n",
              "    </button>\n",
              "\n",
              "  <style>\n",
              "    .colab-df-container {\n",
              "      display:flex;\n",
              "      gap: 12px;\n",
              "    }\n",
              "\n",
              "    .colab-df-convert {\n",
              "      background-color: #E8F0FE;\n",
              "      border: none;\n",
              "      border-radius: 50%;\n",
              "      cursor: pointer;\n",
              "      display: none;\n",
              "      fill: #1967D2;\n",
              "      height: 32px;\n",
              "      padding: 0 0 0 0;\n",
              "      width: 32px;\n",
              "    }\n",
              "\n",
              "    .colab-df-convert:hover {\n",
              "      background-color: #E2EBFA;\n",
              "      box-shadow: 0px 1px 2px rgba(60, 64, 67, 0.3), 0px 1px 3px 1px rgba(60, 64, 67, 0.15);\n",
              "      fill: #174EA6;\n",
              "    }\n",
              "\n",
              "    .colab-df-buttons div {\n",
              "      margin-bottom: 4px;\n",
              "    }\n",
              "\n",
              "    [theme=dark] .colab-df-convert {\n",
              "      background-color: #3B4455;\n",
              "      fill: #D2E3FC;\n",
              "    }\n",
              "\n",
              "    [theme=dark] .colab-df-convert:hover {\n",
              "      background-color: #434B5C;\n",
              "      box-shadow: 0px 1px 3px 1px rgba(0, 0, 0, 0.15);\n",
              "      filter: drop-shadow(0px 1px 2px rgba(0, 0, 0, 0.3));\n",
              "      fill: #FFFFFF;\n",
              "    }\n",
              "  </style>\n",
              "\n",
              "    <script>\n",
              "      const buttonEl =\n",
              "        document.querySelector('#df-c737f0ef-28fb-4233-b6b0-f4915d1175d4 button.colab-df-convert');\n",
              "      buttonEl.style.display =\n",
              "        google.colab.kernel.accessAllowed ? 'block' : 'none';\n",
              "\n",
              "      async function convertToInteractive(key) {\n",
              "        const element = document.querySelector('#df-c737f0ef-28fb-4233-b6b0-f4915d1175d4');\n",
              "        const dataTable =\n",
              "          await google.colab.kernel.invokeFunction('convertToInteractive',\n",
              "                                                    [key], {});\n",
              "        if (!dataTable) return;\n",
              "\n",
              "        const docLinkHtml = 'Like what you see? Visit the ' +\n",
              "          '<a target=\"_blank\" href=https://colab.research.google.com/notebooks/data_table.ipynb>data table notebook</a>'\n",
              "          + ' to learn more about interactive tables.';\n",
              "        element.innerHTML = '';\n",
              "        dataTable['output_type'] = 'display_data';\n",
              "        await google.colab.output.renderOutput(dataTable, element);\n",
              "        const docLink = document.createElement('div');\n",
              "        docLink.innerHTML = docLinkHtml;\n",
              "        element.appendChild(docLink);\n",
              "      }\n",
              "    </script>\n",
              "  </div>\n",
              "\n",
              "\n",
              "<div id=\"df-2ab0e1aa-06bf-422d-9b81-81dd320cb06e\">\n",
              "  <button class=\"colab-df-quickchart\" onclick=\"quickchart('df-2ab0e1aa-06bf-422d-9b81-81dd320cb06e')\"\n",
              "            title=\"Suggest charts\"\n",
              "            style=\"display:none;\">\n",
              "\n",
              "<svg xmlns=\"http://www.w3.org/2000/svg\" height=\"24px\"viewBox=\"0 0 24 24\"\n",
              "     width=\"24px\">\n",
              "    <g>\n",
              "        <path d=\"M19 3H5c-1.1 0-2 .9-2 2v14c0 1.1.9 2 2 2h14c1.1 0 2-.9 2-2V5c0-1.1-.9-2-2-2zM9 17H7v-7h2v7zm4 0h-2V7h2v10zm4 0h-2v-4h2v4z\"/>\n",
              "    </g>\n",
              "</svg>\n",
              "  </button>\n",
              "\n",
              "<style>\n",
              "  .colab-df-quickchart {\n",
              "      --bg-color: #E8F0FE;\n",
              "      --fill-color: #1967D2;\n",
              "      --hover-bg-color: #E2EBFA;\n",
              "      --hover-fill-color: #174EA6;\n",
              "      --disabled-fill-color: #AAA;\n",
              "      --disabled-bg-color: #DDD;\n",
              "  }\n",
              "\n",
              "  [theme=dark] .colab-df-quickchart {\n",
              "      --bg-color: #3B4455;\n",
              "      --fill-color: #D2E3FC;\n",
              "      --hover-bg-color: #434B5C;\n",
              "      --hover-fill-color: #FFFFFF;\n",
              "      --disabled-bg-color: #3B4455;\n",
              "      --disabled-fill-color: #666;\n",
              "  }\n",
              "\n",
              "  .colab-df-quickchart {\n",
              "    background-color: var(--bg-color);\n",
              "    border: none;\n",
              "    border-radius: 50%;\n",
              "    cursor: pointer;\n",
              "    display: none;\n",
              "    fill: var(--fill-color);\n",
              "    height: 32px;\n",
              "    padding: 0;\n",
              "    width: 32px;\n",
              "  }\n",
              "\n",
              "  .colab-df-quickchart:hover {\n",
              "    background-color: var(--hover-bg-color);\n",
              "    box-shadow: 0 1px 2px rgba(60, 64, 67, 0.3), 0 1px 3px 1px rgba(60, 64, 67, 0.15);\n",
              "    fill: var(--button-hover-fill-color);\n",
              "  }\n",
              "\n",
              "  .colab-df-quickchart-complete:disabled,\n",
              "  .colab-df-quickchart-complete:disabled:hover {\n",
              "    background-color: var(--disabled-bg-color);\n",
              "    fill: var(--disabled-fill-color);\n",
              "    box-shadow: none;\n",
              "  }\n",
              "\n",
              "  .colab-df-spinner {\n",
              "    border: 2px solid var(--fill-color);\n",
              "    border-color: transparent;\n",
              "    border-bottom-color: var(--fill-color);\n",
              "    animation:\n",
              "      spin 1s steps(1) infinite;\n",
              "  }\n",
              "\n",
              "  @keyframes spin {\n",
              "    0% {\n",
              "      border-color: transparent;\n",
              "      border-bottom-color: var(--fill-color);\n",
              "      border-left-color: var(--fill-color);\n",
              "    }\n",
              "    20% {\n",
              "      border-color: transparent;\n",
              "      border-left-color: var(--fill-color);\n",
              "      border-top-color: var(--fill-color);\n",
              "    }\n",
              "    30% {\n",
              "      border-color: transparent;\n",
              "      border-left-color: var(--fill-color);\n",
              "      border-top-color: var(--fill-color);\n",
              "      border-right-color: var(--fill-color);\n",
              "    }\n",
              "    40% {\n",
              "      border-color: transparent;\n",
              "      border-right-color: var(--fill-color);\n",
              "      border-top-color: var(--fill-color);\n",
              "    }\n",
              "    60% {\n",
              "      border-color: transparent;\n",
              "      border-right-color: var(--fill-color);\n",
              "    }\n",
              "    80% {\n",
              "      border-color: transparent;\n",
              "      border-right-color: var(--fill-color);\n",
              "      border-bottom-color: var(--fill-color);\n",
              "    }\n",
              "    90% {\n",
              "      border-color: transparent;\n",
              "      border-bottom-color: var(--fill-color);\n",
              "    }\n",
              "  }\n",
              "</style>\n",
              "\n",
              "  <script>\n",
              "    async function quickchart(key) {\n",
              "      const quickchartButtonEl =\n",
              "        document.querySelector('#' + key + ' button');\n",
              "      quickchartButtonEl.disabled = true;  // To prevent multiple clicks.\n",
              "      quickchartButtonEl.classList.add('colab-df-spinner');\n",
              "      try {\n",
              "        const charts = await google.colab.kernel.invokeFunction(\n",
              "            'suggestCharts', [key], {});\n",
              "      } catch (error) {\n",
              "        console.error('Error during call to suggestCharts:', error);\n",
              "      }\n",
              "      quickchartButtonEl.classList.remove('colab-df-spinner');\n",
              "      quickchartButtonEl.classList.add('colab-df-quickchart-complete');\n",
              "    }\n",
              "    (() => {\n",
              "      let quickchartButtonEl =\n",
              "        document.querySelector('#df-2ab0e1aa-06bf-422d-9b81-81dd320cb06e button');\n",
              "      quickchartButtonEl.style.display =\n",
              "        google.colab.kernel.accessAllowed ? 'block' : 'none';\n",
              "    })();\n",
              "  </script>\n",
              "</div>\n",
              "\n",
              "    </div>\n",
              "  </div>\n"
            ],
            "application/vnd.google.colaboratory.intrinsic+json": {
              "type": "dataframe",
              "variable_name": "embedding_df",
              "summary": "{\n  \"name\": \"embedding_df\",\n  \"rows\": 10,\n  \"fields\": [\n    {\n      \"column\": \"id\",\n      \"properties\": {\n        \"dtype\": \"string\",\n        \"num_unique_values\": 10,\n        \"samples\": [\n          \"6acb9a37-5c45-4aaf-8aff-c5df415b3cb2\",\n          \"83ccf2fa-d38c-4661-8c5f-05dba43d86c1\",\n          \"54622066-56ab-4253-9030-935e9a50bd10\"\n        ],\n        \"semantic_type\": \"\",\n        \"description\": \"\"\n      }\n    },\n    {\n      \"column\": \"embedding\",\n      \"properties\": {\n        \"dtype\": \"object\",\n        \"semantic_type\": \"\",\n        \"description\": \"\"\n      }\n    },\n    {\n      \"column\": \"page_source\",\n      \"properties\": {\n        \"dtype\": \"string\",\n        \"num_unique_values\": 10,\n        \"samples\": [\n          \"./Images/04a02.pdf_8.jpg\",\n          \"./Images/04a02.pdf_2.jpg\",\n          \"./Images/04a02.pdf_7.jpg\"\n        ],\n        \"semantic_type\": \"\",\n        \"description\": \"\"\n      }\n    },\n    {\n      \"column\": \"text\",\n      \"properties\": {\n        \"dtype\": \"string\",\n        \"num_unique_values\": 10,\n        \"samples\": [\n          \"68\\nReferences\\n1) Agency for Natural Resources and Energy (ANRE), Ministry\\nof Economy, Trade and Industry (METI), \\\"Measures for\\nElectricity Supply and Demand for FY2021 Winter\\\" (Oct.\\n2021) in Japanese, https://www.meti.go.jp/press/2021/10/2\\n0211027003/20211027003-1.pdf\\n2) ANRE, METI, \\\"Outlook and Measures for Electricity Supply\\nand Demand for FY2022\\\" (Jan. 2022) in Japanese, https://\\nwww.meti.go.jp/shingikai/enecho/denryoku_gas/\\ndenryoku_gas/pdf/044_04_00.pdf\\n3) Japan Atomic Energy Relations Organization (JAERO),\\n4)\\n\\\"Nuclear and Energy Drawings [1-2-07] Change in Electricity\\nGenerated and Received by Source\\\" in Japanese, https://\\nwww.ene100.jp/zumen/1-2-7\\nJ\\u00f5ban Joint Power Co., Ltd., \\\"Electricity Sales and\\nFuel Consumption\\\" in Japanese, http://www.\\njoban-power.co.jp/category/nakoso_power_plant/\\nelectricity_sales_and_fuel_consumption/\\nAuthors\\nHikaru Fujita\\nT&D Engineering Department, Transmission System\\nDivision, Transmission & Distribution Systems\\nDivision, Power Grids Business Unit, Hitachi, Ltd.\\nCurrent work and research: Engineering of substation\\nsystems for industry.\\nMasaru Kashiwakura\\nTransformer Department, T&D Engineering and\\nProduction Division, Transmission & Distribution\\nSystems Division, Power Grids Business Unit, Hitachi,\\nLtd. Current work and research: Engineering of\\nmaintenance work for large-capacity transformers.\\nSociety memberships: The Institute of Electrical\\nEngineers of Japan (IEEJ).\\nAkihiro Kawagoe\\nValue Integration Center, Energy Business Division,\\nHitachi, Ltd. Current work and research: Procurement\\nof goods for T&D equipment production.\\nHisaki Hamamoto\\nTransformer Department, T&D Engineering and\\nProduction Division, Transmission & Distribution\\nSystems Division, Power Grids Business Unit, Hitachi,\\nLtd. Current work and research: Production control of\\ntransformers.\\nTetsuo Niitsuma\\nTransmission and Distribution QA Department,\\nQuality Assurance Division of Power Grids Business\\nUnit, Power Grids Business Unit, Hitachi, Ltd. Current\\nwork and research: Quality assurance of transformers.\\nYuzuru Mitani\\nBusiness Administration & Engineering Department,\\nT&D Engineering and Production Division,\\nTransmission & Distribution Systems Division, Power\\nGrids Business Unit, Hitachi, Ltd. Current work and\\nresearch: Engineering of transportation and site\\ninstallation.\\n | References | Authors |\\n| :--- | :--- |\\n| 1) Agency for Natural Resources and Energy (ANRE), Ministry of Economy, Trade and Industry (METI), \\\"Measures for Electricity Supply and Demand for FY2021 Winter\\\" (Oct. 2021) in Japanese, https://www.meti.go.jp/press/2021/10/20211027003/20211027003-1.pdf | Hikaru Fujita |\\n| 2) ANRE, METI, \\\"Outlook and Measures for Electricity Supply and Demand for FY2022\\\" (Jan. 2022) in Japanese, https://www.meti.go.jp/shingikai/enecho/denryoku_gas/denryoku_gas/pdf/044_04_00.pdf | T&D Engineering Department, Transmission System Division, Transmission & Distribution Systems Division, Power Grids Business Unit, Hitachi, Ltd. Current work and research: Engineering of substation systems for industry. |\\n| 3) Japan Atomic Energy Relations Organization (JAERO), \\\"Nuclear and Energy Drawings [1-2-07] Change in Electricity Generated and Received by Source\\\" in Japanese, https://www.ene100.jp/zumen/1-2-7 | Masaru Kashiwakura |\\n| 4) J\\u00f5ban Joint Power Co., Ltd., \\\"Electricity Sales and Fuel Consumption\\\" in Japanese, http://www.joban-power.co.jp/category/nakoso_power_plant/electricity_sales_and_fuel_consumption/ | Transformer Department, T&D Engineering and Production Division, Transmission & Distribution Systems Division, Power Grids Business Unit, Hitachi, Ltd. Current work and research: Engineering of maintenance work for large-capacity transformers. Society memberships: The Institute of Electrical Engineers of Japan (IEEJ). |\\n|  | Akihiro Kawagoe |\\n|  | Value Integration Center, Energy Business Division, Hitachi, Ltd. Current work and research: Procurement of goods for T&D equipment production. |\\n|  | Hisaki Hamamoto |\\n|  | Transformer Department, T&D Engineering and Production Division, Transmission & Distribution Systems Division, Power Grids Business Unit, Hitachi, Ltd. Current work and research: Production control of transformers. |\\n|  | Tetsuo Niitsuma |\\n|  | Transmission and Distribution QA Department, Quality Assurance Division of Power Grids Business Unit, Power Grids Business Unit, Hitachi, Ltd. Current work and research: Quality assurance of transformers. |\\n|  | Yuzuru Mitani |\\n|  | Business Administration & Engineering Department, T&D Engineering and Production Division, Transmission & Distribution Systems Division, Power Grids Business Unit, Hitachi, Ltd. Current work and research: Engineering of transportation and site installation. |\",\n          \"3.1 Project Setup\\nImmediately after receiving the restoration instructions,\\nHitachi appointed its internal project members (from\\nthe business unit and design, procurement, manufactur-\\ning, quality assurance, transportation, and construction\\ndepartments) and set up regular meetings (within Hitachi:\\nevery Tuesday, between the customer and Hitachi: every\\nWednesday). This created a system that could confirm the\\nprogress of work in a timely manner. Hitachi also held\\nad hoc meetings if any urgent matters were discovered to\\nensure actions could be taken without delay to avoid risks\\n(process delay or malfunctions) or to make the most of\\nopportunities (shortening the process).\\n3.2 Design, Procurement, and Manufacturing Measures\\n(1) Repeated existing design\\nRepeating the same design as the existing plant enabled\\nthe design time to be shortened compared to completely\\nnew manufacturing.\\nFigure 3 - Overview of Transformer Manufacturing Flow\\nThe process for winding, core stacking, core assembly, final assembly, factory testing, and readying for delivery was shortened via measures such as\\novertime and day and night work shifts.\\n(1) Material reception\\n(2) Winding\\nElectric wire\\nPress board\\nSilicon steel\\nplate\\n(4) Iron plate cutting\\n(5) Core stacking\\n(6) Core assembly\\n(3) Coil assembly\\n(7) Coil and core assembly\\n(8) Coil and\\ncore preliminary\\ntesting\\n(9) Coil and core drying\\n(10) Tank/cover\\n(11) Inner tank\\ninsertion\\n(12) Overall assembly\\n(final assembly)\\n(13) Vacuum lubrication,\\ndegassing circulation\\n(14) Testing\\n(15) Readying\\nfor delivery\\n(16) Transportation\\nLTC: on-load tap changer\\nExterior parts\\n\\u2022 LTC\\n\\u2022 Bushing\\n\\u2022 Cooler\\n\\u2022 Control panel\\n\\u2022 Auxiliary device\\nparts, etc.\\n | 3.1 | Project Setup |\\n| :---: | :---: |\\n| Immediately after receiving the restoration instructions, Hitachi appointed its internal project members (from the business unit and design, procurement, manufacturing, quality assurance, transportation, and construction departments) and set up regular meetings (within Hitachi: every Tuesday, between the customer and Hitachi: every Wednesday). This created a system that could confirm the progress of work in a timely manner. Hitachi also held ad hoc meetings if any urgent matters were discovered to ensure actions could be taken without delay to avoid risks (process delay or malfunctions) or to make the most of opportunities (shortening the process). |\\n| 3.2 | Design, Procurement, and Manufacturing Measures |\\n| :---: | :---: |\\n| (1) Repeated existing design |\\n| Repeating the same design as the existing plant enabled the design time to be shortened compared to completely new manufacturing. |\",\n          \"FEATURED ARTICLES\\nFigure 8 - Diagram of Induced Voltage Countermeasures\\nMeasures were taken to reduce the induced current when disconnecting and connecting the lead wire between the transformer and cable heads, which\\nreduced the risk of accidental electric shocks and allowed work to proceed.\\nLead wire\\nBg\\nUnit No. 8 GSUT\\nNeutral point grounding\\nElectric shock risk while working\\n(induced current from unit No. 9 cable)\\nHV winding\\nSteps (2) and (5)\\nUnit No. 9\\nUnit No. 8\\n(operating)\\n(stopped)\\nCH\\nlo1 + lo2\\n\\u2192\\u2192\\n\\u2193\\nlol\\nWork grounding\\nStep (1)\\nSteps (3) and (4)\\n102\\nWork timing\\nWhen disconnecting\\nexisting transformer\\nlead wire\\nWhen connecting new\\ntransformer lead wire\\nActions\\nReduce induced current by constructing detour circuit (procedure below)\\n(1) Connect the grounding wire to the CH section\\n(2) Disconnect the grounding wire connected to the neutral point\\n(3) Measure the current flowing to the lead wire with a clamp meter\\n(4) If there is no energized current or the current is low, cut the lead wire (x section) according\\nto the worksite instructions (quality assurance staff)\\n(5) After work, reconnect the grounding wire to the neutral point\\nAs above [in step (4), connect the lead wire]\\n+\\nFurther reduce the induced voltage by limiting the output of unit No. 9\\n(from normal level of 500 MW to 250 MW during work)\\nHV: high-voltage side CH: cable head Bg: bushing\\n5. Prevention of Accidental\\nElectric Shocks\\nDuring the work disconnecting the existing transformer\\nfrom the cable heads, induced current from the adjacent\\noperating unit No. 9 was observed. As a result, Hitachi\\nconsidered countermeasures against electric shocks (see\\nFigure 8).\\nMeasures to reduce the induced current were taken by\\nconstructing a detour circuit when disconnecting the lead\\nwire between the existing transformer and the cable heads.\\nThe results of subsequent verification also confirmed the\\neffect of reducing the induced current by limiting the out-\\nput of unit No. 9. Therefore, when connecting the lead wire\\nbetween the new transformer and the cable heads, in addi-\\ntion to constructing the detour circuit, Hitachi asked the\\ncustomer to limit the output of unit No. 9, which further\\nreduced the induced current and made the work safe.\\n6. Conclusions\\nThis project to help solve the social problem of a power\\nsupply crunch was an invaluable experience for Hitachi, as\\nit looked beyond conventional frameworks to take the best\\nactions it could, while sharing with the customer infor-\\nmation about the risks and opportunities of shortening\\nprocesses. Hitachi made a significant contribution to power\\nsupply stabilization in Japan by rapidly restoring the unit\\nNo. 8 GSUT.\\nAcknowledgments\\nIn the work on the rapid restoration of the unit No. 8\\nGSUT at the Nakoso Power Station of Joban Joint Power\\nCo., Ltd., Hitachi received the support of Joban Joint Power\\nCo., Ltd. and many other stakeholders. The authors would\\nlike to express their deepest gratitude to everyone involved\\nin the project.\\nHitachi Review Vol. 72, No. 4 438-439\\n67\\n | Work timing | Actions |\\n| :--- | :---: |\\n| When disconnecting existing transformer lead wire | Reduce induced current by constructing detour circuit (procedure below) |\\n|  | (1) Connect the grounding wire to the CH section |\\n|  | (2) Disconnect the grounding wire connected to the neutral point |\\n|  | (3) Measure the current flowing to the lead wire with a clamp meter |\\n|  | (4) If there is no energized current or the current is low, cut the lead wire (x section) according to the worksite instructions (quality assurance staff) |\\n|  | (5) After work, reconnect the grounding wire to the neutral point |\\n| When connecting new transformer lead wire | As above [in step (4), connect the lead wire] |\\n|  | Further reduce the induced voltage by limiting the output of unit No. 9 (from normal level of 500 MW to 250 MW during work) |\"\n        ],\n        \"semantic_type\": \"\",\n        \"description\": \"\"\n      }\n    }\n  ]\n}"
            }
          },
          "metadata": {},
          "execution_count": 37
        }
      ],
      "source": [
        "def generate_text_embedding(text) -> list:\n",
        "    \"\"\"Text embedding with a Large Language Model.\"\"\"\n",
        "    embeddings = text_embedding_model.get_embeddings([text])\n",
        "    vector = embeddings[0].values\n",
        "    return vector\n",
        "\n",
        "\n",
        "# Create a DataFrameLoader to prepare data for LangChain\n",
        "loader = DataFrameLoader(df, page_content_column=\"page_content\")\n",
        "\n",
        "# Load documents from the 'page_content' column of your DataFrame\n",
        "documents = loader.load()\n",
        "\n",
        "# Log the number of documents loaded\n",
        "print(f\"# of documents loaded (pre-chunking) = {len(documents)}\")\n",
        "\n",
        "# Create a text splitter to divide documents into smaller chunks\n",
        "text_splitter = CharacterTextSplitter(\n",
        "    chunk_size=10000,  # Target size of approximately 10000 characters per chunk\n",
        "    chunk_overlap=200,  # overlap between chunks\n",
        ")\n",
        "\n",
        "# Split the loaded documents\n",
        "doc_splits = text_splitter.split_documents(documents)\n",
        "\n",
        "# Add a 'chunk' ID to each document split's metadata for tracking\n",
        "for idx, split in enumerate(doc_splits):\n",
        "    split.metadata[\"chunk\"] = idx\n",
        "\n",
        "# Log the number of documents after splitting\n",
        "print(f\"# of documents = {len(doc_splits)}\")\n",
        "\n",
        "texts = [doc.page_content for doc in doc_splits]\n",
        "text_embeddings_list = []\n",
        "id_list = []\n",
        "page_source_list = []\n",
        "for doc in doc_splits:\n",
        "    id = uuid.uuid4()\n",
        "    text_embeddings_list.append(generate_text_embedding(doc.page_content))\n",
        "    id_list.append(str(id))\n",
        "    page_source_list.append(doc.metadata[\"page_source\"])\n",
        "    time.sleep(1)  # So that we don't run into Quota Issue\n",
        "\n",
        "# Creating a dataframe of ID, embeddings, page_source and text\n",
        "embedding_df = pd.DataFrame(\n",
        "    {\n",
        "        \"id\": id_list,\n",
        "        \"embedding\": text_embeddings_list,\n",
        "        \"page_source\": page_source_list,\n",
        "        \"text\": texts,\n",
        "    }\n",
        ")\n",
        "embedding_df.head()"
      ]
    },
    {
      "cell_type": "markdown",
      "metadata": {
        "id": "NQ2iLT3BG8vS"
      },
      "source": [
        "### Creating Vertex AI: Vector Search\n",
        "The code configures and deploys a vector search index on Google Cloud, making it ready to store and search through embeddings.\n",
        "\n",
        "Embedding size :  The number of values used to represent a piece of text in vector form. Larger dimensions mean a denser and potentially more expressive representation.\n",
        "\n",
        "\n",
        "Dimensions vs. Latency\n",
        "\n",
        "* Search: Higher-dimensional embeddings can make vector similarity searches slower, especially in large databases.\n",
        "* Computation: Calculations with larger vectors generally take more time during model training and inference.\n"
      ]
    },
    {
      "cell_type": "code",
      "execution_count": 38,
      "metadata": {
        "id": "WtCRJeKsYc6w"
      },
      "outputs": [],
      "source": [
        "VECTOR_SEARCH_REGION = \"us-central1\"\n",
        "VECTOR_SEARCH_INDEX_NAME = f\"{PROJECT_ID}-vector-search-index-ht\"\n",
        "VECTOR_SEARCH_EMBEDDING_DIR = f\"{PROJECT_ID}-vector-search-bucket-ht\"\n",
        "VECTOR_SEARCH_DIMENSIONS = 768"
      ]
    },
    {
      "cell_type": "markdown",
      "metadata": {
        "id": "6pu1a3zjfQ0D"
      },
      "source": [
        "### Save the embeddings in a JSON file\n",
        "To load the embeddings to Vector Search, we need to save them in JSON files with JSONL format. See more information in the docs at [Input data format and structure](https://cloud.google.com/vertex-ai/docs/matching-engine/match-eng-setup/format-structure#data-file-formats).\n",
        "\n",
        "First, export the `id` and `embedding` columns from the DataFrame in JSONL format, and save it.\n",
        "\n",
        "Then, create a new Cloud Storage bucket and copy the file to it."
      ]
    },
    {
      "cell_type": "code",
      "execution_count": 39,
      "metadata": {
        "id": "mSqVnRpqh7Yc",
        "colab": {
          "base_uri": "https://localhost:8080/"
        },
        "outputId": "2ec86607-43d1-4954-bd25-04083c973944"
      },
      "outputs": [
        {
          "output_type": "stream",
          "name": "stdout",
          "text": [
            "{\"id\":\"007325e8-6866-4d2d-941f-16f2a8092a49\",\"embedding\":[-0.0118196718,-0.0271525588,-0.0529962108,0.020440435,0.0214561131,0.0161057655,0.0321323164,0.0056794016,0.0280338712,0.0502329953,-0.0359840132,-0.017401699,-0.0130833555,-0.0225657281,0.0297060274,-0.0563688427,0.0274591092,0.0494254269,-0.0014458442,-0.0425696336,-0.0024956085,-0.0191000756,0.0216128249,-0.0548094809,-0.018579267,-0.0309994183,-0.0068485248,-0.0510230213,-0.0239476934,0.032494057,-0.0268873945,0.0350705311,-0.0495298132,0.0054584695,-0.0120465495,-0.006058095,-0.010175569,0.0367310569,-0.0120774657,0.033023376,0.0008032573,-0.0057615307,0.000744199,-0.0193105731,0.0261570122,-0.0301802624,0.0282066464,0.0363632627,0.0385235958,-0.0850229859,-0.0271205977,-0.0306570195,0.0032586488,-0.0010844042,0.0371914729,-0.0073655685,0.0198302455,-0.026046481,-0.0319445729,0.0373903401,-0.0144977439,-0.0020391785,-0.0269424617,0.0246107876,-0.0524751544,-0.0810783505,-0.0398414694,0.0208274443,0.0731040463,-0.0642528534,0.0254793558,0.0017623382,0.0321838595,-0.0130426288,-0.0425890163,-0.1118983477,-0.0388980173,0.0657950118,0.0311571173,-0.0465184562,-0.0328475647,-0.0323619619,-0.0083715925,-0.041026108,-0.0614985973,0.0026798826,-0.0483457223,0.0247686543,-0.0390598029,-0.0014304207,0.0379395783,0.014752659,0.0431880839,-0.0559668392,-0.0325623006,0.0089953355,0.013619951,-0.0272132996,0.0193535425,-0.0762221888,0.0004072235,-0.0227883216,-0.0656424388,0.0241751056,0.0107853962,0.0130404858,0.0045092627,0.0171281528,-0.0316137895,0.0374547467,-0.0338821821,-0.0102295317,-0.0409045927,-0.0747496709,0.0284549408,-0.0158914067,-0.0118136266,0.0559821166,0.0523591936,0.0033791186,0.0313732997,0.0083233621,0.0629208982,-0.017192319,-0.0323313475,0.0592012256,0.0349294953,0.0473496541,0.0603546277,0.0294500571,-0.0086019533,-0.0337965451,0.0125714121,-0.0103644682,0.0311335288,0.0160574764,0.0561694428,0.0263631791,0.0834618211,-0.0201627798,-0.035616897,0.0063965362,-0.0061719627,0.0527528077,0.002565759,-0.002893395,0.0470907986,0.018812824,0.0037151007,-0.020954432,-0.0206329022,0.0278389603,-0.0317630321,-0.0188326929,0.0620435923,-0.010255781,0.0002911579,0.021211328,-0.0255820788,0.0024345627,0.0291885249,0.000115705,0.0016104309,0.0455627106,-0.0759705529,0.0153949149,0.0064483131,-0.0144711556,-0.0016537072,0.0440506376,-0.0088254428,0.0377631336,-0.0175014678,-0.0583174564,-0.0820869133,-0.033006344,0.0245944299,0.02968679,-0.0469231606,0.0495434739,-0.0535877384,-0.0219251309,-0.0025718722,0.0389634557,0.058440093,-0.0104173692,0.0641255006,-0.0407529362,-0.0365292579,-0.0048353458,-0.0027731454,-0.0129557634,-0.0493802503,-0.013672662,-0.0424514711,0.0464889444,-0.0534849577,-0.0150040295,-0.0101576941,-0.0498293303,-0.0315617323,0.0808106884,-0.0032066798,-0.038816981,0.0083785942,-0.0381766371,0.0492415763,0.001814533,-0.0225953534,0.0810625851,-0.0314342268,0.0056100609,-0.0113549707,-0.0173703078,0.0220395606,0.0376179516,0.0206102878,0.0373572372,0.0459778458,-0.0307237934,0.0008417832,-0.0207527634,0.0169575214,0.0643905699,-0.0041531934,-0.0161239337,-0.019483963,0.0406333581,0.0286633857,-0.0581610613,0.0318596885,0.0731648877,0.0334894173,-0.0167216305,0.0246426836,0.029671669,-0.0091401711,0.057170257,0.0313179307,0.0502508916,-0.0116085168,0.046994146,0.0396463759,-0.0583741628,-0.0123800952,-0.0154854199,-0.0112778936,0.0391976424,0.0037596102,0.0222963355,-0.0418485999,-0.0663141012,0.05730398,0.0346376151,-0.0126249911,0.0449520946,-0.0316501409,-0.0225095749,-0.0284323655,-0.0457302257,-0.0081300316,-0.010613407,-0.0063025183,-0.0344832167,0.0083885035,0.0287123527,-0.023300603,-0.0180692151,0.0255515762,0.020080002,0.0185595397,-0.0833108723,0.0172804445,0.0467355028,0.0204082821,-0.0331584141,-0.0510560721,0.0451525711,0.0156749543,-0.0074086874,-0.0217595957,0.0278544091,0.0245080031,-0.0235103536,0.0411930457,-0.0407663397,-0.0184988789,0.0118345795,0.0304773841,-0.0377540663,-0.0807573274,-0.0293431561,-0.0052070711,-0.0453884229,-0.0341072008,0.0002989469,-0.0069519738,0.0003548999,0.0334852673,-0.0414493307,-0.0291394461,-0.0184899252,-0.0650704131,-0.0824523866,0.0180439278,0.0320122652,-0.0275137331,-0.0344887637,0.0430019125,-0.03168552,0.0386008918,-0.0225950871,-0.0244322531,0.0268868711,-0.0138520524,0.015586731,-0.0434686691,0.0369291529,-0.0178313013,0.0105644418,0.0219256692,0.0313052572,0.0548861064,-0.0362937078,0.0131031657,0.0647995472,-0.0511051901,0.0362779908,-0.0003625708,0.0307211149,-0.0155950552,0.014040472,0.0055361944,0.0484714434,-0.0101865409,-0.0152125042,-0.0648031905,-0.0057649659,-0.0070249136,0.0043118773,0.0180685949,-0.0022196115,-0.0313310884,-0.0541736409,0.0222185552,-0.0251662564,-0.0380394384,0.0041277474,0.0751252249,0.0247656833,0.0011937231,0.0520051308,-0.071479395,-0.0017390349,0.0135969352,-0.0361514837,0.0366877094,-0.0065927086,0.0345956758,-0.0355690755,-0.046120204,0.0110011948,-0.0076681073,-0.0391231924,-0.001345286,0.00634707,0.0168764982,-0.0050656032,-0.0472633243,0.0284642875,0.0277833976,-0.0426309891,0.0250072237,-0.0023183895,-0.0034561509,-0.0446028039,-0.0564214885,-0.0128953597,-0.0036487128,0.0276031215,-0.0669623539,-0.0196220577,0.0174978077,0.0305763576,0.0071853865,-0.0017507526,-0.0239502788,0.0198784377,0.0062333136,0.0472647063,0.005197159,-0.0469582155,0.0502053723,0.0060648099,-0.0442328639,0.0093598692,-0.0103170583,-0.0375673473,0.0073622447,0.0360108465,-0.0152070755,0.013281526,-0.0459798612,-0.0496472307,-0.018100746,-0.028604269,0.0160838012,-0.0522346273,0.0030114031,-0.0173729546,-0.0018321554,0.0354613587,0.0021020819,-0.0706061348,-0.0477845035,-0.0311975908,0.003873551,0.0005496855,-0.029855445,0.0067584333,-0.024350971,-0.0204793923,0.0109658428,-0.0427272022,-0.0497047044,-0.0647154376,-0.0196237285,-0.0360073857,0.0244876277,0.0484015532,0.0169808418,0.0062234225,-0.022504691,-0.0141495671,0.031469252,-0.0184206627,-0.0164676327,0.0132916849,-0.0197914522,0.0076709646,-0.0103763621,-0.0287845731,0.0176963564,-0.0086074471,-0.0322059207,0.0087850736,0.025969265,-0.0240650773,0.0131336218,-0.0620290935,0.0277873855,-0.0353711993,-0.0312249176,-0.0457391329,-0.0088511873,-0.0932888091,-0.0158307459,0.0612093173,0.0140262488,0.0345042348,0.0385472365,-0.0380891301,0.027563585,-0.0530252755,0.0165753253,-0.011228038,0.0469365343,-0.0459426865,0.0476080924,0.0210525598,-0.024436906,0.0019814856,0.0619730726,-0.0419199541,-0.0200359412,-0.0058322628,-0.0785945356,0.0462908372,0.0238987058,-0.0501285456,0.0126051493,-0.0501912721,0.0249906722,0.0478039235,-0.0051127081,0.0382622965,-0.0222696457,0.0046741255,0.0465797521,0.0409420244,-0.0489068478,-0.018159939,-0.0340881795,-0.0394175127,-0.0491752066,0.038793236,-0.0276061334,0.0286056139,0.0553503856,-0.0048116888,0.0594340079,-0.0025287305,-0.0450619161,-0.0086614024,0.0135377888,-0.0413561985,0.0217808578,0.0570641495,0.0355352871,0.0142807635,0.0432491265,0.0010081612,-0.0661211982,-0.0233556088,0.0131997596,-0.0009002537,-0.0013084374,0.0146652311,-0.0106183076,-0.0111471247,-0.0027528617,-0.0065487535,-0.1317551732,-0.0428940468,0.019528944,-0.0527162142,-0.032960847,0.0354721807,-0.0844003484,-0.0085803475,-0.0172669031,0.0970115438,0.0020099003,0.0239189882,0.0099698277,-0.0228874534,0.06482853,0.0523819663,0.0404643565,-0.0121831158,0.0239536446,-0.0078838374,0.0301596541,-0.0172700156,-0.0124574928,-0.0070836293,-0.0275478307,-0.0592359789,-0.0034230463,-0.0109624397,0.04472927,-0.0000756873,0.0308670904,-0.0761773512,-0.0182038229,-0.0042293412,-0.0396894254,-0.0093620652,-0.0133261243,-0.0106655732,-0.0058954824,-0.0110260705,-0.0245584212,0.017175097,0.0654335991,0.0715106875,-0.0458775088,-0.0555774048,0.0510900877,-0.0061895656,0.041886963,0.0133248586,-0.0287434421,-0.0438347235,0.0497896448,-0.0784744695,-0.0251435004,0.0456907153,-0.0233567357,0.0400157422,0.046358034,-0.0089887958,-0.0094716651,0.0356821083,0.0061083725,0.0091003831,0.0053779189,-0.0204739086,0.027612973,-0.0432165004,-0.0466809869,0.0585988089,-0.0745554194,-0.0133511685,-0.0305319484,0.01376082,-0.0509516485,0.0054848567,0.0064936588,-0.0186545998,0.0008317182,-0.0330338702,0.0607492104,-0.0092666401,0.0438413993,-0.014188868,-0.0181438178,0.0294558536,-0.012550341,0.0137219084,-0.0431841686,-0.005459473,-0.0064566652,-0.0025561817,0.0056888801,-0.0391759984,0.0363628007,0.0155172898,-0.0374377891,-0.0815196335,0.0177903082,0.0022421328,0.0104214717,-0.0025961539,0.0038550103,-0.0286879614,0.0367487445,-0.0283458866,0.047572419,0.00297397,0.0268275607,0.0375407636,-0.035635598,-0.0511147603,-0.0758418366,-0.0436202474,0.0347603336,-0.0018406247,-0.0003255917,0.0345403254,-0.0566164218,0.0188559256,0.0188683569,-0.0620592646,-0.0009578275,0.090405561,0.0045487676,-0.1219698861,-0.0170839969,-0.0225214921,-0.0764096826,-0.0230120495,0.013207525,0.0257085487,0.0334122181,-0.0096546225,-0.0073994063,-0.0348869897,0.0245441291,0.0038726802,-0.0421291776,0.0011132151,-0.0138472468,0.0221094992,0.0568262413,0.0027847188,-0.0324043371,-0.0456863716,-0.0630647317,0.0705927387,-0.0393004939,0.033186134,0.0276118889,-0.0085284179,0.0374385156,0.0624418072,-0.0098113986,0.0225105509,0.0131943375,0.0143947564,-0.0030663793,0.0209549703,-0.0353118666,-0.0044588125,-0.0059884167,0.0457267612,0.0566981956,0.0156938545,-0.0162916854,-0.056307707,-0.0107314121,0.0151735283,-0.0092341043,-0.0285379943,0.0259220935,0.0129751442,-0.0143868849,0.0011950318,-0.0317416079,0.0215456858,-0.0679872707,-0.0453692339,0.0457131416,0.03940681,0.0272415131,-0.0265973508,0.0373469815,0.0137263974,0.0670810044,0.0695648417,0.0748793855,-0.0768876076,-0.0518680848,0.048705887,0.0103244353,-0.0281114131,-0.0319510587,0.0145796975,-0.0174279474,0.0649385229,-0.0094094845,0.0190497749,0.0150078395,-0.0599946789,-0.024484748,0.0774108544,-0.0151994238,-0.0225524753,-0.0060896799,-0.0072841235,0.0454144105,0.0076066991,-0.0196070019,0.0271493625,-0.0431880765,0.1002453789,0.0055731102,0.0045137652,0.0121815512,-0.045889128,-0.039066352,0.008405217,-0.0143365171,0.021008689,0.0009646519,-0.0731973797,-0.0117669543,-0.0383115634,-0.0198381823,0.0219141003,-0.0658698454,-0.0222440176,-0.0341902412,0.00876603,0.0574561171,-0.0011667069,0.0281115975,-0.0415457524,-0.0084949173,-0.0439306088,0.0065640537,0.0410864279,0.0033178558,-0.0563333109,0.044070743,0.0114036463,-0.0038189231,-0.0275465623]}\n",
            "{\"id\":\"83ccf2fa-d38c-4661-8c5f-05dba43d86c1\",\"embedding\":[-0.0030752083,-0.0315543041,-0.0610734783,0.0538284443,0.0038962725,0.0151967518,0.0537071265,-0.0018602071,0.0473288409,0.0468322784,-0.0318986848,-0.0306273699,0.0076625873,0.0029552982,0.0234444272,-0.0262566283,0.0399915017,0.0505247824,-0.0192817394,-0.0316110961,0.0061775763,0.0191456694,0.0426651761,-0.0264966693,-0.0181372371,-0.028189376,0.0093143936,-0.0606550835,-0.0410499536,0.0172713157,0.0014565018,0.0245747566,-0.0305765867,-0.0187713988,-0.0081856018,-0.0250608549,0.0204735007,0.0293314904,-0.0003049659,0.0237976201,0.022269154,-0.0230220146,0.0153459786,-0.0007736141,0.0233226418,-0.0237755999,-0.0083973594,0.0465786718,0.0181391928,-0.0501720011,-0.0157288853,-0.0182561893,0.0429020785,-0.0199335106,0.0072943727,0.0046571856,0.0209466498,-0.0181970242,0.0230314564,0.0304880366,-0.0220256522,-0.008975598,-0.0291996691,-0.0069702594,-0.0307131577,-0.0496639572,-0.0657832325,0.048649393,0.0470728353,-0.0611273646,0.0321466066,-0.0003170565,0.0369344838,-0.0054070377,-0.0559559278,-0.0990092456,-0.0108708097,0.0538713522,0.0451379381,-0.007280679,-0.0131059065,-0.0052211923,-0.0254874863,-0.0188191235,-0.0532588549,0.0232041795,-0.0583881885,0.0044538383,-0.0196704771,0.0036494434,0.0442150533,0.000576238,0.041288767,-0.0564051382,-0.0157618951,-0.01687303,-0.0417061597,-0.0186179243,0.0148167918,-0.0416943282,-0.0359971561,-0.0270783138,-0.0466047563,0.0158516858,0.0415064879,0.0268209446,0.0254291277,0.0042565516,-0.0303353909,0.0192682575,-0.0523821563,0.0225545615,-0.0174837187,-0.0424196012,0.0272421949,-0.0006003003,0.0081927562,0.0627591759,0.04207642,-0.0299006104,0.0120742135,0.003134124,0.0620607063,-0.0226607304,-0.0042423331,0.043745473,0.0292448774,0.0409457013,0.0559310652,0.0470873453,-0.0092315683,-0.0510663167,0.0018582412,-0.0158532821,0.0279617552,0.0725281015,0.0801973566,0.0385031775,0.0978413075,-0.0363068059,-0.046794448,-0.0070609204,-0.0038181341,0.0394382477,-0.0318749733,-0.0042316634,0.0460463911,-0.0000806132,0.0374239162,-0.0298405681,-0.0124680297,0.0068041151,-0.0205128882,0.0035990363,0.0605339445,-0.0384770408,0.0108674485,0.005122812,-0.0374100097,0.0005010702,0.0662561506,0.0114307227,0.0121012209,0.0377313718,-0.0075724106,0.0190785229,0.0203458983,0.0033164979,-0.0042472365,0.0149648823,0.00065832,0.046708744,-0.0383424237,-0.0385488793,-0.0578698218,-0.0329725966,0.0350150429,-0.0174310412,-0.071398586,0.0456773452,-0.0496065654,-0.0103829987,0.0036112566,0.0345398486,0.0440155044,-0.0278884694,0.0554292388,-0.0454950519,-0.0410324894,-0.0340601578,-0.0135347322,-0.0091667799,-0.0679936931,-0.0448437519,-0.0420515947,0.0713739097,-0.0434358194,0.0044692876,-0.0098772664,-0.0478018709,-0.0021869473,0.0859895423,0.040038377,-0.0087629501,0.0233905911,-0.0154343871,0.0724400356,-0.0134467455,-0.0494370796,0.0447625145,-0.0431688875,-0.0026562153,-0.0286677405,0.0308097601,-0.0146329729,0.0272028111,0.0297852289,0.0220579207,0.0234096833,-0.0433949195,-0.0246325787,0.0097650019,-0.0007985138,0.049067013,-0.0143534252,-0.0325234421,-0.0188829042,0.0268927328,0.0414013714,-0.0713209137,0.0311033893,0.0773950517,0.0307538677,-0.0229711179,0.0141632501,0.0143832387,0.0034303437,0.0430337898,-0.0198837165,0.0259460825,-0.0026916945,0.0541567169,0.053856466,-0.0167543124,-0.0065937117,-0.0529527217,-0.010035296,0.0561434515,-0.0040781782,0.0175572578,-0.0442485996,-0.0653968677,0.0512240715,0.0750204623,-0.0463454016,0.0487260446,-0.0131600099,-0.0249883477,-0.0111324517,-0.0292365327,-0.0237793792,0.0149083817,-0.0122752665,-0.0328379124,0.0077868933,0.0173876062,-0.0146156885,-0.0111645302,0.0268184301,-0.0040473184,-0.008390083,-0.0463388786,0.0085194046,0.0280037392,-0.0156196924,-0.0203422904,-0.0576042235,0.0431793854,-0.0182367563,-0.0261804592,-0.007476822,0.055780977,-0.0000667984,-0.0395956896,0.0168566946,-0.0254802946,-0.026138423,0.0022139899,0.0458488315,-0.0611458384,-0.0575932637,-0.011467088,-0.0242584292,-0.0419735946,-0.0345751904,-0.0149500724,-0.0329520851,0.0045835795,0.0324827284,-0.026755061,-0.014325954,-0.054705333,-0.0504220016,-0.0870471224,0.0087662553,0.0348296873,-0.0435007736,-0.0519023016,0.0233419705,-0.0407463461,0.0316805951,-0.038007658,-0.0105119953,-0.0227368772,-0.0089207739,0.0355793238,-0.0490171276,0.0151985483,-0.0377395488,0.016002411,-0.0237149652,0.0433743708,-0.0052230628,-0.0335796326,0.0119221248,0.0462768786,-0.0483571328,0.0192949269,0.0161318704,0.0140716368,-0.0286107752,-0.0114598833,0.0333524756,0.0347921178,-0.0110843908,-0.0008397074,-0.0752157047,0.0128873112,-0.0299659315,0.0043575838,0.0139281452,-0.0029646091,-0.0349296257,-0.0184827168,0.0090863118,-0.0144622019,-0.0127259465,-0.0258508865,0.0848838314,0.0443269312,-0.0073290602,0.0503287353,-0.0530923344,0.0001217239,0.005110004,-0.0686138794,0.0721513405,-0.0422534645,0.0273527708,-0.0461458191,-0.0266947802,0.0450926498,-0.0352267958,-0.0330689028,0.009381867,-0.0010200694,0.0117328055,0.0040648971,-0.0414683297,0.0110948179,0.0165297277,-0.0664313063,0.03457959,-0.0404950045,-0.0142664295,-0.0429468416,-0.0515896566,-0.0352810174,0.0299388673,0.0089557786,-0.0377992988,0.0184507929,0.0155102322,0.0369105376,0.0164877325,-0.0034117973,0.0027224396,0.010418795,-0.0027229004,0.0428922921,0.000145482,-0.0072385627,0.0989180356,0.0084315063,0.0091143409,0.0340541676,-0.0063599939,-0.0514541753,-0.0102176797,0.0451041199,-0.0087598823,-0.0292773079,-0.0368539989,-0.0457326993,0.0042560115,-0.0378282964,-0.0176542066,-0.0298895594,0.0037378315,-0.0046942118,-0.0215308145,0.04948432,-0.0055344133,-0.0822679922,-0.0496730655,-0.0392744578,0.0205883943,-0.0369070172,-0.0303093493,0.0100604286,-0.0117209004,-0.0279258098,0.0018494964,-0.0416950174,0.0014486912,-0.0615989491,-0.0060333502,-0.0410462506,-0.0017648081,0.0424045958,0.040520981,-0.0176479425,-0.0319555663,-0.0284434725,0.0352347046,-0.0024656332,-0.0101714637,0.015519294,-0.0550624989,0.0043582553,-0.0057041002,-0.029532969,0.0129087726,-0.0029185696,-0.017867554,0.0145686632,0.018082507,-0.051918488,0.0044247098,-0.069830142,0.0141223874,-0.0108242948,-0.0512207709,-0.0380017422,-0.0183944833,-0.0837320983,0.0156158414,0.0659303889,0.0059307786,0.0135022113,0.0447694659,-0.0616287962,0.0105790952,-0.0283918846,0.034778364,-0.0148595134,0.039293915,-0.066240564,0.0511056446,0.0151349362,0.0070593907,0.0236751772,0.0294195283,-0.0421618447,-0.0578291938,0.0094780046,-0.0559828207,0.078554593,0.0075691324,-0.0531310737,-0.0001921896,-0.0458242074,0.0420711488,0.0525123216,-0.0307064895,0.0398107246,-0.0209346022,0.0079656066,0.0249186773,0.0199273229,-0.0515118763,-0.0254002064,-0.0475914329,-0.0378740542,-0.0362873077,0.0233317222,-0.0002372966,0.0574718639,0.0442927219,-0.0274820942,0.0196085386,-0.0115184104,-0.0404404402,0.0036044647,0.0144650955,-0.0610693097,0.0262142252,0.0469649024,0.0100194598,0.0121513372,0.0642111078,-0.0246077515,-0.0597989298,-0.0176722948,0.0015152543,0.0160425287,0.0038808465,0.0285601057,-0.0160856843,-0.0276958775,0.02110973,-0.0029355474,-0.1069797128,-0.0401174203,-0.010023498,-0.0658288375,-0.0383602045,0.005347752,-0.0968716592,-0.0061473208,-0.0017679314,0.1137058735,-0.0187840257,-0.0037179501,0.0308537968,-0.0446652211,0.0389200933,0.0622966066,0.056876529,0.0188277457,0.0325595215,0.0061578802,-0.0155080557,-0.0187057182,-0.0066056126,0.0337991267,-0.0225186944,-0.0515723638,-0.009556734,0.0052675349,0.0523621179,0.0041151801,-0.0065677771,-0.073862493,0.0005542299,0.0095232017,-0.03756769,0.0221231524,-0.0066994862,-0.0160957947,0.0250890478,-0.0054267384,0.0125677055,0.0110896165,0.065949887,0.0776433274,-0.0311378241,-0.0567327961,0.0443336442,0.0409583338,0.049659308,0.0214647334,-0.0184132066,-0.0211864226,0.0619016588,-0.0986193046,-0.0225493368,0.0261891726,-0.0030124227,0.0118332822,0.0321754031,0.0073514944,-0.0101715159,0.0210067388,0.0076706726,-0.010227995,0.0003804941,-0.0037292293,0.0232792068,-0.0540582128,-0.0220452715,0.0652726516,-0.0557986274,-0.0103612114,-0.0010990538,0.0426579751,-0.0506778993,0.016138522,-0.0454610027,-0.0146462796,-0.015619616,-0.0304658487,0.0482798256,-0.0074046347,0.0001920903,0.0079819504,-0.0016100705,0.0287771095,-0.0237327926,0.010840008,-0.0437950417,-0.0173914339,-0.002014373,-0.0105758356,-0.010313062,-0.011466126,0.0305089056,0.0104046902,-0.0381160863,-0.0800978839,0.0105503704,-0.004876785,-0.0021908539,-0.020101035,0.016716985,-0.0204479452,0.0063315737,-0.0116336746,0.0396640971,-0.0112181855,0.0379834697,0.0845514089,-0.0014147743,-0.0314841531,-0.0765185356,-0.0314881504,0.0150187267,0.0068736887,0.006197989,0.0030659754,-0.0933220312,-0.0127731916,0.0246518012,-0.0520710908,0.0156079065,0.1152586788,0.0045998697,-0.0936291963,-0.0304942336,-0.0101073831,-0.0813761353,0.0075772647,0.0121212443,0.0140835429,0.0137770865,-0.0097772824,0.0067868354,-0.0491264835,0.0014513119,0.0100151841,-0.0292614996,-0.0333535336,-0.0223323256,0.0309205856,0.0459648892,-0.0088242292,-0.0275005475,-0.0378389657,-0.0543145649,0.0559300892,-0.0494241565,0.0255660359,0.046003744,0.0357205532,0.0390245728,0.0490054041,0.010473568,-0.0068496442,0.0277458318,0.0138947396,0.0007315975,-0.0026607227,-0.0067508547,0.0045803911,0.004918972,0.0288447291,0.0540945083,0.0214484949,-0.0064083594,-0.0694988966,0.0102850487,0.0055232774,0.0009007952,-0.0270876307,0.0470105074,0.0077717453,-0.0021554956,-0.0285627972,-0.034836933,0.0679292306,-0.0311200172,-0.0336739011,-0.0032818459,-0.0021797903,-0.0016570741,-0.0100061987,0.0370566659,0.0192931462,0.076609157,0.0402595177,0.1049103811,-0.035841994,-0.057726007,0.0069927601,-0.0170531441,0.0209471229,0.0202501807,0.0054024193,-0.0223939978,0.087547563,0.0072895871,0.0255973581,0.0006945632,-0.0788341686,-0.0150453812,0.0696107149,-0.0234963875,-0.0064175199,-0.0009984287,0.0126634901,0.0318180546,-0.0038601409,0.0071489336,0.0380776115,-0.0272425935,0.1110025346,-0.0013366347,0.0024635382,-0.0108563136,-0.0724001899,-0.0442440137,-0.0180223156,-0.0342425071,0.0440939553,0.0250057131,-0.0950577781,-0.0077562551,-0.0400337428,-0.0068405629,-0.0181527864,-0.0272899475,0.0115052154,-0.0502629653,0.0153302466,0.069862999,0.0118304268,0.0168484934,-0.0256099533,-0.0086291786,-0.0346482843,0.0050960295,0.025419049,-0.027726816,-0.0311147738,0.012986972,0.0420683771,0.0181760304,-0.0027720255]}\n",
            "{\"id\":\"840c021c-7bb0-4e8d-af15-3a351a9fc967\",\"embedding\":[0.0030909569,-0.0153295742,-0.061958313,0.0174998026,0.0365276299,0.0147572663,0.018653499,-0.0128670596,0.0722006857,0.0164129399,-0.0228985716,-0.0393322967,0.0165311638,-0.004337918,0.0450792052,-0.0318939164,0.0344283208,0.0771313384,-0.0056355726,-0.0292346347,0.0133409537,-0.0101444107,0.0049620708,-0.0492167287,-0.0570429452,-0.0268706568,0.0020959089,-0.0396728888,-0.0503725521,0.0027104875,-0.0270612035,0.0474200845,-0.0839455724,0.0189215746,0.0041394955,-0.0473599359,-0.0109426854,0.0064386236,-0.0309581496,0.0159754269,0.0129697723,0.0032710359,0.0213494338,-0.0191855896,-0.0028359219,0.000092212,0.0070267469,0.0296317581,-0.0195873678,-0.0291117188,-0.039068725,-0.0209121108,0.0573691241,-0.0100480122,0.0233324822,-0.0104842512,0.0007490264,-0.0119250081,-0.00874901,0.0228135362,-0.0021939047,0.0101504996,-0.0359296463,0.0150537267,-0.0262298081,-0.0440088362,-0.0724394992,0.0192024875,0.0712302998,-0.0644719973,0.0572847463,-0.0058408435,0.0206583031,-0.0208413005,-0.070691362,-0.1181889325,-0.0346437208,0.0640351251,0.0163034163,0.0146108838,-0.0054318979,0.0025412634,-0.0175411925,-0.0441432372,-0.0545336455,0.0032222439,-0.0356928147,0.0036045043,-0.0430769511,-0.0132603236,0.0469650626,-0.0056401109,0.075261198,-0.0475165993,0.0202439465,-0.0043933811,0.0065410812,-0.0147598628,0.0121681904,-0.0627295524,-0.0356633663,-0.0179433636,-0.030861875,-0.0177684985,0.0519241467,0.0120117022,0.0205185618,0.0232013892,-0.0645803958,-0.0008695654,-0.0276849438,0.0048712571,0.0117209246,-0.0366965644,0.0208386034,-0.0130653083,-0.0271402914,0.0608314909,0.0350869521,0.0002238929,0.0299260635,-0.0285805147,0.0400189795,0.0127076013,-0.0347840972,0.0368685983,0.0242249165,0.0589991435,0.0826470926,0.0754274726,-0.0424574651,-0.0452555567,0.0097445715,0.0055370014,0.033278808,0.0510250963,0.0436975956,0.0437088199,0.0651520267,0.0093164146,-0.0685090125,0.0062613632,-0.0044941246,0.0322642028,0.0031929053,-0.0383847505,0.0220296327,0.0205353834,0.0497538596,-0.0309874471,-0.0134242466,-0.0059542437,-0.0356945321,0.0005516047,0.0239783693,0.000271061,-0.0245388392,0.0309077892,-0.0383971706,0.0110606309,0.0408532694,0.0379912481,0.0182096772,0.0062518986,-0.0574195124,-0.0276787486,0.0157315657,0.0036645071,-0.0136225838,-0.0078495443,-0.0328253619,0.0643408373,-0.008759019,-0.0566023514,-0.0422382802,0.0026276747,0.0414548852,0.0297915135,-0.0667739511,0.047285974,-0.0678040013,-0.0190570839,0.0149597293,0.0165800992,0.0455257893,0.0086046802,0.057340011,-0.0089790272,-0.0331977233,-0.0145610934,-0.0290226433,0.0024239908,-0.0619003735,-0.06377846,-0.0112120407,0.076515764,-0.0306468457,-0.0190412644,-0.0056560016,-0.0488840491,-0.0038828324,0.0633484796,-0.0083500072,-0.0152893653,0.0303570032,-0.0161570199,0.0399069935,-0.0074898107,-0.0331385955,0.0467592776,-0.0802978799,0.0083492761,-0.0123075265,-0.0166046545,0.0156966597,0.0220849942,0.0113661252,0.0353722572,0.0232641138,-0.0423573889,-0.0148727233,0.0140722301,0.0199549738,0.0337777175,0.0024955797,-0.0116315335,-0.0258670505,0.0367224067,0.0367387161,-0.1019581109,0.0117343655,0.0238119215,0.0105546881,-0.0137442388,-0.0070773107,-0.0205929931,-0.021079652,0.0380168781,0.015893532,0.0061083138,0.0252240803,0.0799476877,0.0208112262,-0.0226435047,0.022974981,-0.0708522424,0.044504229,0.0549987331,0.0435930975,0.0210099705,-0.0382342748,-0.0686347187,0.0461697467,0.0734160021,-0.0454760157,0.0498821512,-0.0373011343,-0.0231505744,-0.0362286046,-0.0281747989,0.0216443129,0.0024305033,0.0154122226,-0.0400985368,-0.0145767136,0.0156747904,0.02354284,-0.0667824298,0.0471917316,-0.0262988899,0.0048041493,-0.0832467899,0.0145275081,0.0217908677,-0.0264154077,-0.0269081052,-0.0552590378,0.0594873764,-0.0565572642,0.001001351,-0.019937383,0.0267403759,0.0368907414,-0.0495885536,0.0242260769,-0.0150992004,-0.017451141,-0.0059547047,0.0030397302,-0.068350032,-0.0477027074,0.0082620094,0.006428354,-0.051465679,0.0020370388,-0.0219283011,-0.0188035499,0.0166350454,-0.018701179,-0.0228873342,-0.0263994206,-0.048448734,-0.0617088303,-0.0711465627,-0.002219555,0.0624910034,-0.027199097,-0.0389811881,0.0446282364,-0.0543388166,-0.0239031594,-0.0441831425,-0.0396199897,0.0058568581,-0.0141917821,0.0239960514,-0.0298724901,0.0383833759,-0.0167224333,-0.0164149161,-0.0065434347,0.0380875915,0.027706679,-0.0344813913,0.0192184597,0.0574217588,-0.0324011073,0.0711647719,-0.0082445433,0.0011572285,-0.0055657672,-0.0320590548,-0.0103731565,0.0224991124,0.0178063326,-0.0202213712,-0.0549213625,-0.0079692379,-0.0278957561,-0.0103625972,0.0115677556,-0.0258121248,0.005727706,-0.049173329,0.0086799599,-0.0448756516,-0.0380832031,0.040009737,0.0390293933,0.0439613909,0.0217248369,0.0808183178,-0.055464685,0.0117280362,-0.0081706438,-0.0171301179,0.0479346253,-0.0434757285,0.0472450256,-0.0903657675,-0.0439437255,0.0336452164,-0.0195279699,-0.0164155066,0.0215181522,0.0248974115,0.0177128483,-0.0017089089,-0.059094388,0.0168753564,0.024527356,-0.0506876707,0.0419005938,-0.0170902275,-0.0283530541,-0.0602113158,-0.0462378636,-0.0595481731,0.0265564434,0.034101896,-0.0463695563,0.0019502636,0.0461185798,0.0243969951,-0.0055558044,-0.00414747,0.0046130228,0.0410645157,0.0184335783,0.0548081733,-0.0216810647,0.0035321377,0.0464249104,0.0090290597,0.0031889619,0.0368027724,-0.022407826,-0.0325365812,0.0224754978,0.0419513322,0.0272730514,-0.0466142967,-0.0192697961,-0.0379701108,0.0003025451,-0.0402560644,0.007265674,-0.0268187225,-0.0078322766,-0.0271915272,0.006108392,0.0528386086,0.0190179832,-0.0670360699,-0.0483524986,-0.0284224451,0.0598466992,-0.0228693858,0.006629515,0.0277838223,-0.0153588764,-0.0109323878,-0.0049061421,-0.017886864,0.0098072663,-0.0284794923,-0.0030049689,-0.0330013707,0.0163487755,0.0481116325,0.0410127752,-0.0041737654,-0.014594404,-0.0359105133,0.0530445762,-0.0020862371,-0.0027930029,-0.0071860971,-0.0307002757,0.0127957705,-0.0082847336,-0.0590274036,-0.0103708599,0.0270720534,-0.0234122444,-0.0191641878,0.0331785083,-0.0685635731,-0.0102928923,-0.0868509486,0.034512423,-0.0331971273,-0.0150847333,-0.0003791169,-0.0305432379,-0.0456905887,0.0221380703,0.0722799301,-0.0077294516,0.0213364586,0.0309252534,-0.038838923,0.0127058113,-0.0103049623,0.0457580909,-0.0238626525,0.0370587334,-0.0472313091,0.0325202495,0.0224625096,0.0218284577,-0.0197928715,0.0360249616,-0.0204831753,-0.0515714921,-0.0050004232,-0.0778529495,0.0565569289,0.0132690854,-0.0491855592,0.0343113206,-0.0402383916,0.0188936479,0.0347928219,-0.0083174761,0.0223878864,-0.0605693609,-0.033693213,0.0327049866,0.0101323109,-0.0340820216,-0.0332793593,-0.0434245728,-0.0346314572,-0.0127902124,0.0099179763,0.014237389,0.0382242762,0.0477955006,-0.0290727075,-0.0000868627,-0.0152123068,-0.0384244993,-0.0030419661,0.0108248591,-0.042085357,0.0106793419,0.0299122557,0.0104200337,-0.0062415018,0.0364231616,-0.0275210608,-0.0330262929,0.0033608582,0.0348280631,0.0397865102,-0.0027999068,0.0184154715,-0.0468313172,-0.0534671247,0.0092794467,-0.0056008594,-0.0960884318,-0.006575597,-0.0417644382,-0.0832339525,-0.0543873273,0.0338517874,-0.0787730142,-0.0030076385,-0.0189717598,0.0944530517,0.0141556896,-0.0120236007,0.0073058251,-0.0265697744,0.0350142233,0.0680252537,0.062120866,-0.0149870561,0.0491284132,-0.0143354088,-0.0207103901,-0.0119296135,-0.0328643322,0.0216273963,-0.0093187783,-0.061808791,-0.0111218123,-0.0116703957,0.0349677019,-0.0081361048,-0.011053469,-0.0290071554,0.0311297812,-0.0012345418,-0.0251859985,0.0034219166,-0.0053272154,0.0029754636,0.0283306651,-0.0559596866,0.0185253788,-0.0058714473,0.0410783552,0.0519728586,-0.0391234793,-0.0527836569,0.0541351549,-0.012527355,0.0284011606,-0.0015605404,0.0322021879,-0.0362146124,0.0590705872,-0.0915331021,-0.0148035288,0.0397814848,-0.0198069774,0.0385836065,0.0466108881,-0.0139267882,-0.0198747143,0.0431304201,-0.0181485731,0.0243763924,0.019856466,0.0033663111,0.0198374297,-0.0461334288,-0.0334763564,0.07515008,-0.0618738458,0.021588102,-0.0001375413,0.0129477829,-0.0259634703,-0.0204120763,-0.0361052975,-0.0359000564,-0.0484510474,-0.0224577058,0.0644588396,-0.0157997832,0.0261114687,-0.0064065466,0.0071132495,-0.0102582732,-0.0614864379,0.039078027,-0.0708425939,-0.0130692646,0.0034652611,0.0131819574,-0.0042453646,-0.0111900317,0.0518506952,0.0178692527,-0.0390578434,-0.0952684805,-0.0154657904,0.0098060146,-0.0315120183,0.0154681187,-0.0166700482,-0.0418755747,-0.042906411,-0.00108876,0.0794179812,-0.0269930121,0.0396316312,0.0526151881,-0.0029842108,-0.0139641967,-0.069806546,-0.0018037991,0.02366882,0.0076238043,0.0190776717,-0.0079068942,-0.083608143,-0.0006225515,0.037575122,-0.0470485277,-0.0084219053,0.0814151317,0.003989296,-0.05009754,-0.0362869985,-0.0360485651,-0.0533676408,0.0203248039,0.0038314098,0.0349560603,-0.00764682,-0.0149486959,0.0118941115,-0.0417715497,0.0308635067,0.0135895452,-0.0403329805,-0.0156151121,-0.0017751373,0.0545383133,0.0693623424,-0.0054807472,-0.0582845099,-0.0530443043,-0.0616626665,0.0475215092,-0.0194327626,0.0447273701,0.0411798768,0.0054884395,0.0357501321,0.0524571799,0.0049569011,0.0490402654,0.0097844144,0.0534877479,0.0018821853,-0.0066899927,-0.0113138519,0.0192559417,-0.0004257675,0.0285974927,0.0007638389,0.0364010856,0.0202239882,-0.0567193925,0.0232015103,0.003835581,-0.0280849859,-0.0117464392,-0.0008491807,-0.0094008818,0.0223942455,-0.0184133369,-0.0074777664,0.0314530134,-0.052535627,-0.0420947485,0.007221872,0.0069170338,0.0077142436,0.0240787081,0.0155345695,0.0296947714,0.0751453862,0.0614476651,0.0985035524,-0.0206127372,-0.0455776565,0.0435933806,-0.0200033113,-0.0364261903,-0.0326259732,-0.0129997386,-0.0046588625,0.0772753581,0.0145237269,0.0092394501,0.0015059405,-0.0542280562,-0.0273025725,0.063455075,-0.0324610248,0.0030754143,0.006773476,-0.0094961878,0.0186039247,-0.032157477,-0.0294358358,0.0295819305,-0.0109594613,0.0972753465,0.0081836041,-0.0039751111,0.0284497272,-0.0378707461,-0.0076754475,0.0370759629,0.0125243291,0.0314600654,-0.0026552607,-0.0523507483,-0.0604979247,-0.0261570923,-0.0008276683,-0.0159813873,0.0017250917,0.0013375551,-0.0135467257,0.045229353,0.066207014,-0.0195987485,0.0367034897,-0.0263935365,0.0192118622,-0.0334792733,0.0201083273,0.0329581462,-0.0203202516,-0.0564815365,-0.0085395146,-0.0053179422,0.0027253591,-0.022542879]}\n"
          ]
        }
      ],
      "source": [
        "# save id and embedding as a json file\n",
        "jsonl_string = embedding_df[[\"id\", \"embedding\"]].to_json(orient=\"records\", lines=True)\n",
        "with open(\"data.json\", \"w\") as f:\n",
        "    f.write(jsonl_string)\n",
        "\n",
        "# show the first few lines of the json file\n",
        "! head -n 3 data.json"
      ]
    },
    {
      "cell_type": "code",
      "execution_count": 40,
      "metadata": {
        "id": "CzwDWJfzAk3n",
        "colab": {
          "base_uri": "https://localhost:8080/"
        },
        "outputId": "08af14d3-de61-40d7-cb73-69d7225b7988"
      },
      "outputs": [
        {
          "output_type": "stream",
          "name": "stdout",
          "text": [
            "Creating gs://genai-projects-429119-vector-search-bucket-ht-07112349/...\n",
            "Copying file://data.json [Content-Type=application/json]...\n",
            "/ [1 files][101.1 KiB/101.1 KiB]                                                \n",
            "Operation completed over 1 objects/101.1 KiB.                                    \n"
          ]
        }
      ],
      "source": [
        "# Generates a unique ID for session\n",
        "UID = datetime.now().strftime(\"%m%d%H%M\")\n",
        "\n",
        "# Creates a GCS bucket\n",
        "BUCKET_URI = f\"gs://{VECTOR_SEARCH_EMBEDDING_DIR}-{UID}\"\n",
        "! gsutil mb -l $LOCATION -p {PROJECT_ID} {BUCKET_URI}\n",
        "! gsutil cp data.json {BUCKET_URI}"
      ]
    },
    {
      "cell_type": "markdown",
      "metadata": {
        "id": "xxdbjKw1XDxl"
      },
      "source": [
        "### Create an Index\n",
        "\n",
        "Now it's ready to load the embeddings to Vector Search. Its APIs are available under the [aiplatform](https://cloud.google.com/python/docs/reference/aiplatform/latest/google.cloud.aiplatform) package of the SDK."
      ]
    },
    {
      "cell_type": "markdown",
      "metadata": {
        "id": "xpMUXqWQ75uu"
      },
      "source": [
        "Create an [MatchingEngineIndex](https://cloud.google.com/python/docs/reference/aiplatform/latest/google.cloud.aiplatform.MatchingEngineIndex) with its `create_tree_ah_index` function (Matching Engine is the previous name of Vector Search)."
      ]
    },
    {
      "cell_type": "code",
      "execution_count": 41,
      "metadata": {
        "id": "kKDw5VXMkXb3",
        "colab": {
          "base_uri": "https://localhost:8080/"
        },
        "outputId": "66348f8a-1c92-42fd-9274-da7ce354d632"
      },
      "outputs": [
        {
          "output_type": "stream",
          "name": "stderr",
          "text": [
            "INFO:google.cloud.aiplatform.matching_engine.matching_engine_index:Creating MatchingEngineIndex\n",
            "INFO:google.cloud.aiplatform.matching_engine.matching_engine_index:Create MatchingEngineIndex backing LRO: projects/893929972347/locations/us-east1/indexes/4517752541043228672/operations/5573203164481454080\n",
            "INFO:google.cloud.aiplatform.matching_engine.matching_engine_index:MatchingEngineIndex created. Resource name: projects/893929972347/locations/us-east1/indexes/4517752541043228672\n",
            "INFO:google.cloud.aiplatform.matching_engine.matching_engine_index:To use this MatchingEngineIndex in another session:\n",
            "INFO:google.cloud.aiplatform.matching_engine.matching_engine_index:index = aiplatform.MatchingEngineIndex('projects/893929972347/locations/us-east1/indexes/4517752541043228672')\n"
          ]
        }
      ],
      "source": [
        "# create index\n",
        "my_index = aiplatform.MatchingEngineIndex.create_tree_ah_index(\n",
        "    display_name=f\"{VECTOR_SEARCH_INDEX_NAME}\",\n",
        "    contents_delta_uri=BUCKET_URI,\n",
        "    dimensions=768,\n",
        "    approximate_neighbors_count=20,\n",
        "    distance_measure_type=\"DOT_PRODUCT_DISTANCE\",\n",
        ")"
      ]
    },
    {
      "cell_type": "markdown",
      "metadata": {
        "id": "2rFam_w9U0dI"
      },
      "source": [
        "By calling the `create_tree_ah_index` function, it starts building an Index. This will take under a few minutes if the dataset is small, otherwise about 50 minutes or more depending on the size of the dataset. You can check status of the index creation on [the Vector Search Console > INDEXES tab](https://console.cloud.google.com/vertex-ai/matching-engine/indexes).\n",
        "\n",
        "\n",
        "#### The parameters for creating index\n",
        "\n",
        "- `contents_delta_uri`: The URI of Cloud Storage directory where you stored the embedding JSON files\n",
        "- `dimensions`: Dimension size of each embedding. In this case, it is 768 as we are using the embeddings from the Text Embeddings API.\n",
        "- `approximate_neighbors_count`: how many similar items we want to retrieve in typical cases\n",
        "- `distance_measure_type`: what metrics to measure distance/similarity between embeddings. In this case it's `DOT_PRODUCT_DISTANCE`\n",
        "\n",
        "See [the document](https://cloud.google.com/vertex-ai/docs/vector-search/create-manage-index) for more details on creating Index and the parameters.\n"
      ]
    },
    {
      "cell_type": "markdown",
      "metadata": {
        "id": "3fDs-FDS789e"
      },
      "source": [
        "### Create Index Endpoint and deploy the Index\n",
        "\n",
        "To use the Index, you need to create an [Index Endpoint](https://cloud.google.com/vertex-ai/docs/vector-search/deploy-index-public). It works as a server instance accepting query requests for your Index."
      ]
    },
    {
      "cell_type": "code",
      "execution_count": 42,
      "metadata": {
        "id": "peH6WpSj789m",
        "colab": {
          "base_uri": "https://localhost:8080/"
        },
        "outputId": "c68c33c1-0b7d-42fa-e1c7-4824dab4bf7b"
      },
      "outputs": [
        {
          "output_type": "stream",
          "name": "stderr",
          "text": [
            "INFO:google.cloud.aiplatform.matching_engine.matching_engine_index_endpoint:Creating MatchingEngineIndexEndpoint\n",
            "INFO:google.cloud.aiplatform.matching_engine.matching_engine_index_endpoint:Create MatchingEngineIndexEndpoint backing LRO: projects/893929972347/locations/us-east1/indexEndpoints/4546850016760692736/operations/5523663568580378624\n",
            "INFO:google.cloud.aiplatform.matching_engine.matching_engine_index_endpoint:MatchingEngineIndexEndpoint created. Resource name: projects/893929972347/locations/us-east1/indexEndpoints/4546850016760692736\n",
            "INFO:google.cloud.aiplatform.matching_engine.matching_engine_index_endpoint:To use this MatchingEngineIndexEndpoint in another session:\n",
            "INFO:google.cloud.aiplatform.matching_engine.matching_engine_index_endpoint:index_endpoint = aiplatform.MatchingEngineIndexEndpoint('projects/893929972347/locations/us-east1/indexEndpoints/4546850016760692736')\n"
          ]
        },
        {
          "output_type": "stream",
          "name": "stdout",
          "text": [
            "<google.cloud.aiplatform.matching_engine.matching_engine_index_endpoint.MatchingEngineIndexEndpoint object at 0x7d8b11442410> \n",
            "resource name: projects/893929972347/locations/us-east1/indexEndpoints/4546850016760692736\n"
          ]
        }
      ],
      "source": [
        "# create IndexEndpoint\n",
        "my_index_endpoint = aiplatform.MatchingEngineIndexEndpoint.create(\n",
        "    display_name=f\"{VECTOR_SEARCH_INDEX_NAME}\",\n",
        "    public_endpoint_enabled=True,\n",
        ")\n",
        "print(my_index_endpoint)"
      ]
    },
    {
      "cell_type": "markdown",
      "metadata": {
        "id": "5YtepoMX789m"
      },
      "source": [
        "This tutorial utilizes a [Public Endpoint](https://cloud.google.com/vertex-ai/docs/vector-search/setup/setup#choose-endpoint) and does not support [Virtual Private Cloud (VPC)](https://cloud.google.com/vpc/docs/private-services-access). Unless you have a specific requirement for VPC, we recommend using a Public Endpoint. Despite the term \"public\" in its name, it does not imply open access to the public internet. Rather, it functions like other endpoints in Vertex AI services, which are secured by default through IAM. Without explicit IAM permissions, as we have previously established, no one can access the endpoint."
      ]
    },
    {
      "cell_type": "markdown",
      "metadata": {
        "id": "ytZJmPMs8eav"
      },
      "source": [
        "With the Index Endpoint, deploy the Index by specifying an unique deployed index ID."
      ]
    },
    {
      "cell_type": "code",
      "execution_count": 60,
      "metadata": {
        "id": "G6IKS9GD8ea7",
        "colab": {
          "base_uri": "https://localhost:8080/",
          "height": 653
        },
        "outputId": "7b956420-b48a-4800-cec5-187218c673b8"
      },
      "outputs": [
        {
          "output_type": "stream",
          "name": "stderr",
          "text": [
            "INFO:google.cloud.aiplatform.matching_engine.matching_engine_index_endpoint:Deploying index MatchingEngineIndexEndpoint index_endpoint: projects/893929972347/locations/us-east1/indexEndpoints/4546850016760692736\n"
          ]
        },
        {
          "output_type": "error",
          "ename": "AlreadyExists",
          "evalue": "409 There already exists a DeployedIndex with same ID \"genai_projects_429119_vector_search_index_ht_07112349\" deployed or being deployed at the following IndexEndpoint: projects/893929972347/locations/us-east1/indexEndpoints/4546850016760692736. Please use a different ID.",
          "traceback": [
            "\u001b[0;31m---------------------------------------------------------------------------\u001b[0m",
            "\u001b[0;31m_InactiveRpcError\u001b[0m                         Traceback (most recent call last)",
            "\u001b[0;32m/usr/local/lib/python3.10/dist-packages/google/api_core/grpc_helpers.py\u001b[0m in \u001b[0;36merror_remapped_callable\u001b[0;34m(*args, **kwargs)\u001b[0m\n\u001b[1;32m     78\u001b[0m         \u001b[0;32mtry\u001b[0m\u001b[0;34m:\u001b[0m\u001b[0;34m\u001b[0m\u001b[0;34m\u001b[0m\u001b[0m\n\u001b[0;32m---> 79\u001b[0;31m             \u001b[0;32mreturn\u001b[0m \u001b[0mcallable_\u001b[0m\u001b[0;34m(\u001b[0m\u001b[0;34m*\u001b[0m\u001b[0margs\u001b[0m\u001b[0;34m,\u001b[0m \u001b[0;34m**\u001b[0m\u001b[0mkwargs\u001b[0m\u001b[0;34m)\u001b[0m\u001b[0;34m\u001b[0m\u001b[0;34m\u001b[0m\u001b[0m\n\u001b[0m\u001b[1;32m     80\u001b[0m         \u001b[0;32mexcept\u001b[0m \u001b[0mgrpc\u001b[0m\u001b[0;34m.\u001b[0m\u001b[0mRpcError\u001b[0m \u001b[0;32mas\u001b[0m \u001b[0mexc\u001b[0m\u001b[0;34m:\u001b[0m\u001b[0;34m\u001b[0m\u001b[0;34m\u001b[0m\u001b[0m\n",
            "\u001b[0;32m/usr/local/lib/python3.10/dist-packages/grpc/_channel.py\u001b[0m in \u001b[0;36m__call__\u001b[0;34m(self, request, timeout, metadata, credentials, wait_for_ready, compression)\u001b[0m\n\u001b[1;32m   1180\u001b[0m         )\n\u001b[0;32m-> 1181\u001b[0;31m         \u001b[0;32mreturn\u001b[0m \u001b[0m_end_unary_response_blocking\u001b[0m\u001b[0;34m(\u001b[0m\u001b[0mstate\u001b[0m\u001b[0;34m,\u001b[0m \u001b[0mcall\u001b[0m\u001b[0;34m,\u001b[0m \u001b[0;32mFalse\u001b[0m\u001b[0;34m,\u001b[0m \u001b[0;32mNone\u001b[0m\u001b[0;34m)\u001b[0m\u001b[0;34m\u001b[0m\u001b[0;34m\u001b[0m\u001b[0m\n\u001b[0m\u001b[1;32m   1182\u001b[0m \u001b[0;34m\u001b[0m\u001b[0m\n",
            "\u001b[0;32m/usr/local/lib/python3.10/dist-packages/grpc/_channel.py\u001b[0m in \u001b[0;36m_end_unary_response_blocking\u001b[0;34m(state, call, with_call, deadline)\u001b[0m\n\u001b[1;32m   1005\u001b[0m     \u001b[0;32melse\u001b[0m\u001b[0;34m:\u001b[0m\u001b[0;34m\u001b[0m\u001b[0;34m\u001b[0m\u001b[0m\n\u001b[0;32m-> 1006\u001b[0;31m         \u001b[0;32mraise\u001b[0m \u001b[0m_InactiveRpcError\u001b[0m\u001b[0;34m(\u001b[0m\u001b[0mstate\u001b[0m\u001b[0;34m)\u001b[0m  \u001b[0;31m# pytype: disable=not-instantiable\u001b[0m\u001b[0;34m\u001b[0m\u001b[0;34m\u001b[0m\u001b[0m\n\u001b[0m\u001b[1;32m   1007\u001b[0m \u001b[0;34m\u001b[0m\u001b[0m\n",
            "\u001b[0;31m_InactiveRpcError\u001b[0m: <_InactiveRpcError of RPC that terminated with:\n\tstatus = StatusCode.ALREADY_EXISTS\n\tdetails = \"There already exists a DeployedIndex with same ID \"genai_projects_429119_vector_search_index_ht_07112349\" deployed or being deployed at the following IndexEndpoint: projects/893929972347/locations/us-east1/indexEndpoints/4546850016760692736. Please use a different ID.\"\n\tdebug_error_string = \"UNKNOWN:Error received from peer ipv4:74.125.134.95:443 {created_time:\"2024-07-12T00:30:36.345623413+00:00\", grpc_status:6, grpc_message:\"There already exists a DeployedIndex with same ID \\\"genai_projects_429119_vector_search_index_ht_07112349\\\" deployed or being deployed at the following IndexEndpoint: projects/893929972347/locations/us-east1/indexEndpoints/4546850016760692736. Please use a different ID.\"}\"\n>",
            "\nThe above exception was the direct cause of the following exception:\n",
            "\u001b[0;31mAlreadyExists\u001b[0m                             Traceback (most recent call last)",
            "\u001b[0;32m<ipython-input-60-62b4d8dbac61>\u001b[0m in \u001b[0;36m<cell line: 6>\u001b[0;34m()\u001b[0m\n\u001b[1;32m      4\u001b[0m \u001b[0mDEPLOYED_INDEX_ID\u001b[0m \u001b[0;34m=\u001b[0m \u001b[0;34mf\"{DEPLOYED_INDEX_NAME}_{UID}\"\u001b[0m\u001b[0;34m\u001b[0m\u001b[0;34m\u001b[0m\u001b[0m\n\u001b[1;32m      5\u001b[0m \u001b[0;31m# deploy the Index to the Index Endpoint\u001b[0m\u001b[0;34m\u001b[0m\u001b[0;34m\u001b[0m\u001b[0m\n\u001b[0;32m----> 6\u001b[0;31m \u001b[0mmy_index_endpoint\u001b[0m\u001b[0;34m.\u001b[0m\u001b[0mdeploy_index\u001b[0m\u001b[0;34m(\u001b[0m\u001b[0mindex\u001b[0m\u001b[0;34m=\u001b[0m\u001b[0mmy_index\u001b[0m\u001b[0;34m,\u001b[0m \u001b[0mdeployed_index_id\u001b[0m\u001b[0;34m=\u001b[0m\u001b[0mDEPLOYED_INDEX_ID\u001b[0m\u001b[0;34m)\u001b[0m\u001b[0;34m\u001b[0m\u001b[0;34m\u001b[0m\u001b[0m\n\u001b[0m",
            "\u001b[0;32m/usr/local/lib/python3.10/dist-packages/google/cloud/aiplatform/matching_engine/matching_engine_index_endpoint.py\u001b[0m in \u001b[0;36mdeploy_index\u001b[0;34m(self, index, deployed_index_id, display_name, machine_type, min_replica_count, max_replica_count, enable_access_logging, reserved_ip_ranges, deployment_group, auth_config_audiences, auth_config_allowed_issuers, request_metadata, deploy_request_timeout)\u001b[0m\n\u001b[1;32m   1130\u001b[0m         )\n\u001b[1;32m   1131\u001b[0m \u001b[0;34m\u001b[0m\u001b[0m\n\u001b[0;32m-> 1132\u001b[0;31m         deploy_lro = self.api_client.deploy_index(\n\u001b[0m\u001b[1;32m   1133\u001b[0m             \u001b[0mindex_endpoint\u001b[0m\u001b[0;34m=\u001b[0m\u001b[0mself\u001b[0m\u001b[0;34m.\u001b[0m\u001b[0mresource_name\u001b[0m\u001b[0;34m,\u001b[0m\u001b[0;34m\u001b[0m\u001b[0;34m\u001b[0m\u001b[0m\n\u001b[1;32m   1134\u001b[0m             \u001b[0mdeployed_index\u001b[0m\u001b[0;34m=\u001b[0m\u001b[0mdeployed_index\u001b[0m\u001b[0;34m,\u001b[0m\u001b[0;34m\u001b[0m\u001b[0;34m\u001b[0m\u001b[0m\n",
            "\u001b[0;32m/usr/local/lib/python3.10/dist-packages/google/cloud/aiplatform_v1/services/index_endpoint_service/client.py\u001b[0m in \u001b[0;36mdeploy_index\u001b[0;34m(self, request, index_endpoint, deployed_index, retry, timeout, metadata)\u001b[0m\n\u001b[1;32m   1451\u001b[0m \u001b[0;34m\u001b[0m\u001b[0m\n\u001b[1;32m   1452\u001b[0m         \u001b[0;31m# Send the request.\u001b[0m\u001b[0;34m\u001b[0m\u001b[0;34m\u001b[0m\u001b[0m\n\u001b[0;32m-> 1453\u001b[0;31m         response = rpc(\n\u001b[0m\u001b[1;32m   1454\u001b[0m             \u001b[0mrequest\u001b[0m\u001b[0;34m,\u001b[0m\u001b[0;34m\u001b[0m\u001b[0;34m\u001b[0m\u001b[0m\n\u001b[1;32m   1455\u001b[0m             \u001b[0mretry\u001b[0m\u001b[0;34m=\u001b[0m\u001b[0mretry\u001b[0m\u001b[0;34m,\u001b[0m\u001b[0;34m\u001b[0m\u001b[0;34m\u001b[0m\u001b[0m\n",
            "\u001b[0;32m/usr/local/lib/python3.10/dist-packages/google/api_core/gapic_v1/method.py\u001b[0m in \u001b[0;36m__call__\u001b[0;34m(self, timeout, retry, compression, *args, **kwargs)\u001b[0m\n\u001b[1;32m    129\u001b[0m             \u001b[0mkwargs\u001b[0m\u001b[0;34m[\u001b[0m\u001b[0;34m\"compression\"\u001b[0m\u001b[0;34m]\u001b[0m \u001b[0;34m=\u001b[0m \u001b[0mcompression\u001b[0m\u001b[0;34m\u001b[0m\u001b[0;34m\u001b[0m\u001b[0m\n\u001b[1;32m    130\u001b[0m \u001b[0;34m\u001b[0m\u001b[0m\n\u001b[0;32m--> 131\u001b[0;31m         \u001b[0;32mreturn\u001b[0m \u001b[0mwrapped_func\u001b[0m\u001b[0;34m(\u001b[0m\u001b[0;34m*\u001b[0m\u001b[0margs\u001b[0m\u001b[0;34m,\u001b[0m \u001b[0;34m**\u001b[0m\u001b[0mkwargs\u001b[0m\u001b[0;34m)\u001b[0m\u001b[0;34m\u001b[0m\u001b[0;34m\u001b[0m\u001b[0m\n\u001b[0m\u001b[1;32m    132\u001b[0m \u001b[0;34m\u001b[0m\u001b[0m\n\u001b[1;32m    133\u001b[0m \u001b[0;34m\u001b[0m\u001b[0m\n",
            "\u001b[0;32m/usr/local/lib/python3.10/dist-packages/google/api_core/grpc_helpers.py\u001b[0m in \u001b[0;36merror_remapped_callable\u001b[0;34m(*args, **kwargs)\u001b[0m\n\u001b[1;32m     79\u001b[0m             \u001b[0;32mreturn\u001b[0m \u001b[0mcallable_\u001b[0m\u001b[0;34m(\u001b[0m\u001b[0;34m*\u001b[0m\u001b[0margs\u001b[0m\u001b[0;34m,\u001b[0m \u001b[0;34m**\u001b[0m\u001b[0mkwargs\u001b[0m\u001b[0;34m)\u001b[0m\u001b[0;34m\u001b[0m\u001b[0;34m\u001b[0m\u001b[0m\n\u001b[1;32m     80\u001b[0m         \u001b[0;32mexcept\u001b[0m \u001b[0mgrpc\u001b[0m\u001b[0;34m.\u001b[0m\u001b[0mRpcError\u001b[0m \u001b[0;32mas\u001b[0m \u001b[0mexc\u001b[0m\u001b[0;34m:\u001b[0m\u001b[0;34m\u001b[0m\u001b[0;34m\u001b[0m\u001b[0m\n\u001b[0;32m---> 81\u001b[0;31m             \u001b[0;32mraise\u001b[0m \u001b[0mexceptions\u001b[0m\u001b[0;34m.\u001b[0m\u001b[0mfrom_grpc_error\u001b[0m\u001b[0;34m(\u001b[0m\u001b[0mexc\u001b[0m\u001b[0;34m)\u001b[0m \u001b[0;32mfrom\u001b[0m \u001b[0mexc\u001b[0m\u001b[0;34m\u001b[0m\u001b[0;34m\u001b[0m\u001b[0m\n\u001b[0m\u001b[1;32m     82\u001b[0m \u001b[0;34m\u001b[0m\u001b[0m\n\u001b[1;32m     83\u001b[0m     \u001b[0;32mreturn\u001b[0m \u001b[0merror_remapped_callable\u001b[0m\u001b[0;34m\u001b[0m\u001b[0;34m\u001b[0m\u001b[0m\n",
            "\u001b[0;31mAlreadyExists\u001b[0m: 409 There already exists a DeployedIndex with same ID \"genai_projects_429119_vector_search_index_ht_07112349\" deployed or being deployed at the following IndexEndpoint: projects/893929972347/locations/us-east1/indexEndpoints/4546850016760692736. Please use a different ID."
          ]
        }
      ],
      "source": [
        "# DEPLOYED_INDEX_NAME = VECTOR_SEARCH_INDEX_NAME.replace(\n",
        "#     \"-\", \"_\"\n",
        "# )  # Can't have - in deployment name, only alphanumeric and _ allowed\n",
        "# DEPLOYED_INDEX_ID = f\"{DEPLOYED_INDEX_NAME}_{UID}\"\n",
        "# # deploy the Index to the Index Endpoint\n",
        "# my_index_endpoint.deploy_index(index=my_index, deployed_index_id=DEPLOYED_INDEX_ID)"
      ]
    },
    {
      "cell_type": "markdown",
      "metadata": {
        "id": "xu9ZmWcpXQ55"
      },
      "source": [
        "If it is the first time to deploy an Index to an Index Endpoint, it will take around 25 minutes to automatically build and initiate the backend for it. After the first deployment, it will finish in seconds. To see the status of the index deployment, open [the Vector Search Console > INDEX ENDPOINTS tab](https://console.cloud.google.com/vertex-ai/matching-engine/index-endpoints) and click the Index Endpoint."
      ]
    },
    {
      "cell_type": "markdown",
      "metadata": {
        "id": "fM3a9RQx4pQO"
      },
      "source": [
        "### Ask Questions to the PDF\n",
        "This code snippet establishes a question-answering (QA) system.  It leverages a vector search engine to find relevant information from a dataset and then uses the 'gemini-pro' LLM model to generate and refine the final answer to a user's query."
      ]
    },
    {
      "cell_type": "code",
      "execution_count": 86,
      "metadata": {
        "id": "dRme7I2hhqC8",
        "colab": {
          "base_uri": "https://localhost:8080/"
        },
        "outputId": "43be0356-c855-4d3f-8455-0b09e86067f5"
      },
      "outputs": [
        {
          "output_type": "stream",
          "name": "stdout",
          "text": [
            "The steps of the Transformer Manufacturing Flow are as follows:\n",
            "\n",
            "1. Material reception\n",
            "2. Winding\n",
            "3. Coil assembly\n",
            "4. Iron plate cutting\n",
            "5. Core stacking\n",
            "6. Core assembly\n",
            "7. Coil and core assembly\n",
            "8. Coil and core preliminary testing\n",
            "9. Coil and core drying\n",
            "10. Tank/cover\n",
            "11. Inner tank insertion\n",
            "12. Overall assembly (final assembly)\n",
            "13. Vacuum lubrication, degassing circulation\n",
            "14. Testing\n",
            "15. Readying for delivery\n",
            "16. Transportation\n"
          ]
        }
      ],
      "source": [
        "def Test_LLM_Response(txt):\n",
        "    \"\"\"\n",
        "    Determines whether a given text response generated by an LLM indicates a lack of information.\n",
        "\n",
        "    Args:\n",
        "        txt (str): The text response generated by the LLM.\n",
        "\n",
        "    Returns:\n",
        "        bool: True if the LLM's response suggests it was able to generate a meaningful answer,\n",
        "              False if the response indicates it could not find relevant information.\n",
        "\n",
        "    This function works by presenting a formatted classification prompt to the LLM (`gemini_pro_model`).\n",
        "    The prompt includes the original text and specific categories indicating whether sufficient information was available.\n",
        "    The function analyzes the LLM's classification output to make the determination.\n",
        "    \"\"\"\n",
        "\n",
        "    classification_prompt = f\"\"\" Classify the text as one of the following categories:\n",
        "        -Information Present\n",
        "        -Information Not Present\n",
        "        Text=The provided context does not contain information.\n",
        "        Category:Information Not Present\n",
        "        Text=I cannot answer this question from the provided context.\n",
        "        Category:Information Not Present\n",
        "        Text:{txt}\n",
        "        Category:\"\"\"\n",
        "    classification_response = model.generate_content(classification_prompt).text\n",
        "\n",
        "    if \"Not Present\" in classification_response:\n",
        "        return False  # Indicates that the LLM couldn't provide an answer\n",
        "    else:\n",
        "        return True  # Suggests the LLM generated a meaningful response\n",
        "\n",
        "\n",
        "def get_prompt_text(question, context):\n",
        "    \"\"\"\n",
        "    Generates a formatted prompt string suitable for a language model, combining the provided question and context.\n",
        "\n",
        "    Args:\n",
        "        question (str): The user's original question.\n",
        "        context (str): The relevant text to be used as context for the answer.\n",
        "\n",
        "    Returns:\n",
        "        str: A formatted prompt string with placeholders for the question and context, designed to guide the language model's answer generation.\n",
        "    \"\"\"\n",
        "    prompt = \"\"\"\n",
        "      Answer the question using the context below. Respond with only from the text provided\n",
        "      Question: {question}\n",
        "      Context : {context}\n",
        "      \"\"\".format(\n",
        "        question=question, context=context\n",
        "    )\n",
        "    return prompt\n",
        "\n",
        "\n",
        "def get_answer(query):\n",
        "    \"\"\"\n",
        "    Retrieves an answer to a provided query using multimodal retrieval augmented generation (RAG).\n",
        "\n",
        "    This function leverages a vector search system to find relevant text documents from a\n",
        "    pre-indexed store of multimodal data. Then, it uses a large language model (LLM) to generate\n",
        "    an answer, using the retrieved documents as context.\n",
        "\n",
        "    Args:\n",
        "        query (str): The user's original query.\n",
        "\n",
        "    Returns:\n",
        "        dict: A dictionary containing the following keys:\n",
        "            * 'result' (str): The LLM-generated answer.\n",
        "            * 'neighbor_index' (int): The index of the most relevant document used for generation\n",
        "                                     (for fetching image path).\n",
        "\n",
        "    Raises:\n",
        "        RuntimeError: If no valid answer could be generated within the specified search attempts.\n",
        "    \"\"\"\n",
        "\n",
        "    neighbor_index = 0  # Initialize index for tracking the most relevant document\n",
        "    answer_found_flag = 0  # Flag to signal if an acceptable answer is found\n",
        "    result = \"\"  # Initialize the answer string\n",
        "    # Use a default image if the reference is not found\n",
        "    page_source = \"./Images/blank.jpg\"  # Initialize the blank image\n",
        "    query_embeddings = generate_text_embedding(\n",
        "        query\n",
        "    )  # Generate embeddings for the query\n",
        "\n",
        "    response = my_index_endpoint.find_neighbors(\n",
        "        deployed_index_id=DEPLOYED_INDEX_ID,\n",
        "        queries=[query_embeddings],\n",
        "        num_neighbors=5,\n",
        "    )  # Retrieve up to 5 relevant documents from the vector store\n",
        "\n",
        "    while answer_found_flag == 0 and neighbor_index < 4:\n",
        "        context = embedding_df[\n",
        "            embedding_df[\"id\"] == response[0][neighbor_index].id\n",
        "        ].text.values[\n",
        "            0\n",
        "        ]  # Extract text context from the relevant document\n",
        "\n",
        "        prompt = get_prompt_text(\n",
        "            query, context\n",
        "        )  # Create a prompt using the question and context\n",
        "        result = model.generate_content(prompt).text  # Generate an answer with the LLM\n",
        "\n",
        "        if Test_LLM_Response(result):\n",
        "            answer_found_flag = 1  # Exit loop when getting a valid response\n",
        "        else:\n",
        "            neighbor_index += (\n",
        "                1  # Try the next retrieved document if the answer is unsatisfactory\n",
        "            )\n",
        "\n",
        "    if answer_found_flag == 1:\n",
        "        page_source = embedding_df[\n",
        "            embedding_df[\"id\"] == response[0][neighbor_index].id\n",
        "        ].page_source.values[\n",
        "            0\n",
        "        ]  # Extract image_path from the relevant document\n",
        "    return result, page_source\n",
        "\n",
        "\n",
        "query = (\n",
        "    \"what is the steps of Transformer Manufacturing Flow ?\")\n",
        "\n",
        "result, page_source = get_answer(query)\n",
        "print(result)"
      ]
    },
    {
      "cell_type": "code",
      "source": [
        "result, page_source = get_answer(\"wh\")\n",
        "print(result)"
      ],
      "metadata": {
        "id": "ozPopEpTfN2G",
        "outputId": "546078db-3051-4df8-c916-f2d288acadfd",
        "colab": {
          "base_uri": "https://localhost:8080/"
        }
      },
      "execution_count": 88,
      "outputs": [
        {
          "output_type": "stream",
          "name": "stdout",
          "text": [
            "The answer to the question is in the table in the context. The table shows the actions to take when disconnecting and connecting the lead wire. \n",
            "\n",
            "When disconnecting the existing transformer lead wire, the following actions should be taken:\n",
            "\n",
            "1. Connect the grounding wire to the CH section.\n",
            "2. Disconnect the grounding wire connected to the neutral point.\n",
            "3. Measure the current flowing to the lead wire with a clamp meter.\n",
            "4. If there is no energized current or the current is low, cut the lead wire (x section) according to the worksite instructions (quality assurance staff).\n",
            "5. After work, reconnect the grounding wire to the neutral point. \n",
            "\n",
            "When connecting the new transformer lead wire, the following actions should be taken:\n",
            "\n",
            "1. Connect the lead wire as in step (4) above.\n",
            "2. Further reduce the induced voltage by limiting the output of unit No. 9 (from normal level of 500 MW to 250 MW during work).\n"
          ]
        }
      ]
    },
    {
      "cell_type": "markdown",
      "metadata": {
        "id": "UeIDns8neIdO"
      },
      "source": [
        "# Ask Questions to the PDF using Gradio UI\n",
        " this code creates a web-based frontend for your question-answering system, allowing users to easily enter queries and see the results along with relevant images."
      ]
    },
    {
      "cell_type": "code",
      "source": [
        "import gradio as gr\n",
        "from PIL import Image as PIL_Image\n",
        "\n",
        "def gradio_query(query):\n",
        "    print(query)\n",
        "\n",
        "    # Retrieve the answer from your QA system\n",
        "    result, image_path = get_answer(query)\n",
        "    print(\"result here\")\n",
        "    print(result)\n",
        "\n",
        "    try:\n",
        "        # Attempt to fetch the source image reference\n",
        "        image = PIL_Image.open(image_path)  # Open the reference image\n",
        "    except:\n",
        "        # Use a default image if the reference is not found\n",
        "        image = PIL_Image.open(\"./Images/blank.jpg\")\n",
        "\n",
        "    return result, image  # Return both the text answer and the image\n",
        "\n",
        "gr.close_all()  # Ensure a clean Gradio interface\n",
        "with gr.Blocks() as demo:\n",
        "    with gr.Row():\n",
        "        with gr.Column():\n",
        "            # Input / Output Components\n",
        "            query = gr.Textbox(label=\"Query\", info=\"Enter your query\")\n",
        "            btn_enter = gr.Button(\"Process\")\n",
        "            answer = gr.Textbox(label=\"Response\", interactive=False)  # Use gr.Textbox for plain text response\n",
        "            btn_clear = gr.Button(\"Clear\")\n",
        "        with gr.Column():\n",
        "            image = gr.Image(label=\"Reference\", visible=True)\n",
        "\n",
        "    # Button Click Event\n",
        "    btn_enter.click(fn=gradio_query, inputs=query, outputs=[answer, image])\n",
        "    btn_clear.click(lambda: (\"\", None), inputs=None, outputs=[query, answer, image])\n",
        "\n",
        "demo.launch(share=True, debug=True, inbrowser=True)  # Launch the Gradio app\n"
      ],
      "metadata": {
        "id": "uV2j1lB8YKD1",
        "outputId": "7c3f6310-9d76-4114-d0db-ee6864a145e0",
        "colab": {
          "base_uri": "https://localhost:8080/",
          "height": 898
        }
      },
      "execution_count": 89,
      "outputs": [
        {
          "output_type": "stream",
          "name": "stdout",
          "text": [
            "Colab notebook detected. This cell will run indefinitely so that you can see errors and logs. To turn off, set debug=False in launch().\n",
            "Running on public URL: https://4c4fa257d30d558da1.gradio.live\n",
            "\n",
            "This share link expires in 72 hours. For free permanent hosting and GPU upgrades, run `gradio deploy` from Terminal to deploy to Spaces (https://huggingface.co/spaces)\n"
          ]
        },
        {
          "output_type": "display_data",
          "data": {
            "text/plain": [
              "<IPython.core.display.HTML object>"
            ],
            "text/html": [
              "<div><iframe src=\"https://4c4fa257d30d558da1.gradio.live\" width=\"100%\" height=\"500\" allow=\"autoplay; camera; microphone; clipboard-read; clipboard-write;\" frameborder=\"0\" allowfullscreen></iframe></div>"
            ]
          },
          "metadata": {}
        },
        {
          "output_type": "stream",
          "name": "stdout",
          "text": [
            "check\n",
            "result here\n",
            "The check box should be checked.\n",
            "what is the 5th step of Transformer Manufacturing Flow ?\n",
            "result here\n",
            "The fifth step in the Transformer Manufacturing Flow is Core Stacking, following Core Assembly and Coil Assembly.\n",
            "why sky is blue?\n",
            "result here\n",
            "I'm sorry, but the provided context appears to be a table summarizing information about the authors of a paper about the Japanese power grid, along with the paper's references. It does not contain any information about the sky or why it is blue.\n",
            "\n",
            "Would you like me to try finding an answer to your question from a different source instead?\n",
            "what is color of water\n",
            "result here\n",
            "The text does not contain information about the color of water.\n",
            "Keyboard interruption in main thread... closing server.\n",
            "Killing tunnel 127.0.0.1:7860 <> https://4c4fa257d30d558da1.gradio.live\n"
          ]
        },
        {
          "output_type": "execute_result",
          "data": {
            "text/plain": []
          },
          "metadata": {},
          "execution_count": 89
        }
      ]
    },
    {
      "cell_type": "markdown",
      "metadata": {
        "id": "Xbj4ooqjNUXv"
      },
      "source": [
        "### Close the demo\n",
        "\n",
        "Note: Stop the previous cell to close the Gradio server running locally then run this cell to free up the port utilised for running the server"
      ]
    },
    {
      "cell_type": "code",
      "execution_count": null,
      "metadata": {
        "id": "mgqWI-Z1xlVp"
      },
      "outputs": [],
      "source": [
        "demo.close()"
      ]
    },
    {
      "cell_type": "markdown",
      "metadata": {
        "id": "eUac1wDXPDC2"
      },
      "source": [
        "### Cleaning up\n",
        "To clean up all Google Cloud resources used in this project, you can delete the Google Cloud project you used for the tutorial.\n",
        "\n",
        "Otherwise, you can delete the individual resources you created in this tutorial."
      ]
    },
    {
      "cell_type": "code",
      "execution_count": null,
      "metadata": {
        "id": "ItrB6IIUCMb1"
      },
      "outputs": [],
      "source": [
        "delete_bucket = False\n",
        "\n",
        "# Force undeployment of indexes and delete endpoint\n",
        "my_index_endpoint.delete(force=True)\n",
        "\n",
        "# Delete indexes\n",
        "my_index.delete()\n",
        "\n",
        "if delete_bucket:\n",
        "    ! gsutil rm -rf {BUCKET_URI}"
      ]
    }
  ],
  "metadata": {
    "colab": {
      "name": "Talk2Documents_using_gemini_and_vector_search.ipynb",
      "provenance": []
    },
    "environment": {
      "kernel": "python3",
      "name": "tf2-gpu.2-12.m110",
      "type": "gcloud",
      "uri": "gcr.io/deeplearning-platform-release/tf2-gpu.2-12:m110"
    },
    "kernelspec": {
      "display_name": "Python 3",
      "language": "python",
      "name": "python3"
    },
    "language_info": {
      "codemirror_mode": {
        "name": "ipython",
        "version": 3
      },
      "file_extension": ".py",
      "mimetype": "text/x-python",
      "name": "python",
      "nbconvert_exporter": "python",
      "pygments_lexer": "ipython3",
      "version": "3.10.12"
    }
  },
  "nbformat": 4,
  "nbformat_minor": 0
}