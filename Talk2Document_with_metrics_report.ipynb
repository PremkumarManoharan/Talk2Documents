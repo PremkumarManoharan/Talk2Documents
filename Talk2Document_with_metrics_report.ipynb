{
  "cells": [
    {
      "cell_type": "markdown",
      "metadata": {
        "id": "INIA40pMSYOn"
      },
      "source": [
        "## Overview\n",
        "\n",
        "Retrieval augmented generation (RAG) has become a popular paradigm for enabling LLMs to access external data and also as a mechanism for grounding to mitigate against hallucinations.\n",
        "\n",
        "In this notebook, you will learn how to perform RAG where you will perform Q&A over a document filled with both text and images.\n",
        "\n",
        "### Gemini\n",
        "\n",
        "Gemini is a family of generative AI models developed by Google DeepMind that is designed for multimodal use cases. The Gemini API gives you access to the Gemini 1.0 Pro Vision and Gemini 1.0 Pro models.\n",
        "\n",
        "### Comparing text-based and multimodal RAG\n",
        "\n",
        "Multimodal RAG offers several advantages over text-based RAG:\n",
        "\n",
        "1. **Enhanced knowledge access:** Multimodal RAG can access and process both textual and visual information, providing a richer and more comprehensive knowledge base for the LLM.\n",
        "2. **Improved reasoning capabilities:** By incorporating visual cues, multimodal RAG can make better informed inferences across different types of data modalities.\n",
        "\n",
        "This notebook shows you how to use multimodal RAG with Vertex AI Gemini API, [text embeddings](https://cloud.google.com/vertex-ai/docs/generative-ai/model-reference/text-embeddings) to build a question answering system for a PDF document.\n"
      ]
    },
    {
      "cell_type": "markdown",
      "metadata": {
        "id": "0M72MEscSasQ"
      },
      "source": [
        "### Costs\n",
        "\n",
        "This tutorial uses billable components of Google Cloud:\n",
        "\n",
        "- Vertex AI\n",
        "\n",
        "Learn about [Vertex AI pricing](https://cloud.google.com/vertex-ai/pricing) and use the [Pricing Calculator](https://cloud.google.com/products/calculator/) to generate a cost estimate based on your projected usage."
      ]
    },
    {
      "cell_type": "markdown",
      "metadata": {
        "id": "9VEOKEsLSdTx"
      },
      "source": [
        "### Objectives\n",
        "\n",
        "This notebook provides a guide to building a questions answering system using multimodal retrieval augmented generation (RAG).\n",
        "\n",
        "You will complete the following tasks:\n",
        "\n",
        "1. Extract data from documents containing both text and images using Gemini Vision Pro, and generate embeddings of the data, store it in vector store\n",
        "2. Search the vector store with text queries to find similar text data\n",
        "3. Using Text data as context, generate answer to the user query using Gemini Pro Model."
      ]
    },
    {
      "cell_type": "markdown",
      "metadata": {
        "id": "r11Gu7qNgx1p"
      },
      "source": [
        "## Getting Started"
      ]
    },
    {
      "cell_type": "markdown",
      "metadata": {
        "id": "No17Cw5hgx12"
      },
      "source": [
        "### Install Vertex AI SDK and other required packages\n"
      ]
    },
    {
      "cell_type": "code",
      "execution_count": 3,
      "metadata": {
        "id": "Hfn_UeXyTHaH"
      },
      "outputs": [],
      "source": [
        "!pip install --upgrade --quiet pymupdf langchain gradio google-cloud-aiplatform langchain_google_vertexai"
      ]
    },
    {
      "cell_type": "markdown",
      "metadata": {
        "id": "j7UyNVSiyQ96"
      },
      "source": [
        "### Restart runtime\n",
        "\n",
        "To use the newly installed packages in this Jupyter runtime, you must restart the runtime. You can do this by running the cell below, which restarts the current kernel.\n",
        "\n",
        "The restart might take a minute or longer. After its restarted, continue to the next step."
      ]
    },
    {
      "cell_type": "code",
      "execution_count": null,
      "metadata": {
        "colab": {
          "base_uri": "https://localhost:8080/"
        },
        "id": "YmY9HVVGSBW5",
        "outputId": "99519d7a-947f-4380-f5e9-9c75cdf319f0"
      },
      "outputs": [
        {
          "data": {
            "text/plain": [
              "{'status': 'ok', 'restart': True}"
            ]
          },
          "execution_count": 2,
          "metadata": {},
          "output_type": "execute_result"
        }
      ],
      "source": [
        "import IPython\n",
        "\n",
        "app = IPython.Application.instance()\n",
        "app.kernel.do_shutdown(True)"
      ]
    },
    {
      "cell_type": "markdown",
      "metadata": {
        "id": "EXQZrM5hQeKb"
      },
      "source": [
        "<div class=\"alert alert-block alert-warning\">\n",
        "<b>⚠️ Wait for the kernel to finish restarting before you continue. ⚠️</b>\n",
        "</div>"
      ]
    },
    {
      "cell_type": "markdown",
      "metadata": {
        "id": "dmWOrTJ3gx13"
      },
      "source": [
        "### Authenticate your notebook environment (Colab only)\n",
        "\n",
        "If you are running this notebook on Google Colab, run the cell below to authenticate your environment.\n",
        "\n",
        "This step is not required if you are using [Vertex AI Workbench](https://cloud.google.com/vertex-ai-workbench)."
      ]
    },
    {
      "cell_type": "code",
      "execution_count": 4,
      "metadata": {
        "id": "NyKGtVQjgx13"
      },
      "outputs": [],
      "source": [
        "import sys\n",
        "\n",
        "# Additional authentication is required for Google Colab\n",
        "if \"google.colab\" in sys.modules:\n",
        "    # Authenticate user to Google Cloud\n",
        "    from google.colab import auth\n",
        "\n",
        "    auth.authenticate_user()"
      ]
    },
    {
      "cell_type": "markdown",
      "metadata": {
        "id": "DF4l8DTdWgPY"
      },
      "source": [
        "### Define Google Cloud project information and initialize Vertex AI\n",
        "\n",
        "To get started using Vertex AI, you must have an existing Google Cloud project and [enable the Vertex AI API](https://console.cloud.google.com/flows/enableapi?apiid=aiplatform.googleapis.com).\n",
        "\n",
        "Learn more about [setting up a project and a development environment](https://cloud.google.com/vertex-ai/docs/start/cloud-environment)."
      ]
    },
    {
      "cell_type": "code",
      "execution_count": 5,
      "metadata": {
        "id": "Nqwi-5ufWp_B"
      },
      "outputs": [],
      "source": [
        "# Define project information\n",
        "PROJECT_ID = \"sacred-tenure-430714-n6\"  # @param {type:\"string\"}\n",
        "LOCATION = \"us-central1\"  # @param {type:\"string\"}\n",
        "\n",
        "# Initialize Vertex AI\n",
        "import vertexai\n",
        "\n",
        "vertexai.init(project=PROJECT_ID, location=LOCATION)"
      ]
    },
    {
      "cell_type": "markdown",
      "metadata": {
        "id": "jXHfaVS66_01"
      },
      "source": [
        "### Import libraries\n",
        "Let's start by importing the libraries that we will need for this tutorial\n"
      ]
    },
    {
      "cell_type": "code",
      "execution_count": 6,
      "metadata": {
        "colab": {
          "base_uri": "https://localhost:8080/",
          "height": 0
        },
        "id": "tVHa_bEgq_t1",
        "outputId": "830ce920-2636-4ed3-bd9a-46bf48dd6b4c",
        "collapsed": true
      },
      "outputs": [
        {
          "output_type": "stream",
          "name": "stdout",
          "text": [
            "Requirement already satisfied: langchain_community in /usr/local/lib/python3.10/dist-packages (0.2.10)\n",
            "Requirement already satisfied: PyYAML>=5.3 in /usr/local/lib/python3.10/dist-packages (from langchain_community) (6.0.1)\n",
            "Requirement already satisfied: SQLAlchemy<3,>=1.4 in /usr/local/lib/python3.10/dist-packages (from langchain_community) (2.0.31)\n",
            "Requirement already satisfied: aiohttp<4.0.0,>=3.8.3 in /usr/local/lib/python3.10/dist-packages (from langchain_community) (3.9.5)\n",
            "Requirement already satisfied: dataclasses-json<0.7,>=0.5.7 in /usr/local/lib/python3.10/dist-packages (from langchain_community) (0.6.7)\n",
            "Requirement already satisfied: langchain<0.3.0,>=0.2.9 in /usr/local/lib/python3.10/dist-packages (from langchain_community) (0.2.11)\n",
            "Requirement already satisfied: langchain-core<0.3.0,>=0.2.23 in /usr/local/lib/python3.10/dist-packages (from langchain_community) (0.2.24)\n",
            "Requirement already satisfied: langsmith<0.2.0,>=0.1.0 in /usr/local/lib/python3.10/dist-packages (from langchain_community) (0.1.93)\n",
            "Requirement already satisfied: numpy<2,>=1 in /usr/local/lib/python3.10/dist-packages (from langchain_community) (1.25.2)\n",
            "Requirement already satisfied: requests<3,>=2 in /usr/local/lib/python3.10/dist-packages (from langchain_community) (2.31.0)\n",
            "Requirement already satisfied: tenacity!=8.4.0,<9.0.0,>=8.1.0 in /usr/local/lib/python3.10/dist-packages (from langchain_community) (8.5.0)\n",
            "Requirement already satisfied: aiosignal>=1.1.2 in /usr/local/lib/python3.10/dist-packages (from aiohttp<4.0.0,>=3.8.3->langchain_community) (1.3.1)\n",
            "Requirement already satisfied: attrs>=17.3.0 in /usr/local/lib/python3.10/dist-packages (from aiohttp<4.0.0,>=3.8.3->langchain_community) (23.2.0)\n",
            "Requirement already satisfied: frozenlist>=1.1.1 in /usr/local/lib/python3.10/dist-packages (from aiohttp<4.0.0,>=3.8.3->langchain_community) (1.4.1)\n",
            "Requirement already satisfied: multidict<7.0,>=4.5 in /usr/local/lib/python3.10/dist-packages (from aiohttp<4.0.0,>=3.8.3->langchain_community) (6.0.5)\n",
            "Requirement already satisfied: yarl<2.0,>=1.0 in /usr/local/lib/python3.10/dist-packages (from aiohttp<4.0.0,>=3.8.3->langchain_community) (1.9.4)\n",
            "Requirement already satisfied: async-timeout<5.0,>=4.0 in /usr/local/lib/python3.10/dist-packages (from aiohttp<4.0.0,>=3.8.3->langchain_community) (4.0.3)\n",
            "Requirement already satisfied: marshmallow<4.0.0,>=3.18.0 in /usr/local/lib/python3.10/dist-packages (from dataclasses-json<0.7,>=0.5.7->langchain_community) (3.21.3)\n",
            "Requirement already satisfied: typing-inspect<1,>=0.4.0 in /usr/local/lib/python3.10/dist-packages (from dataclasses-json<0.7,>=0.5.7->langchain_community) (0.9.0)\n",
            "Requirement already satisfied: langchain-text-splitters<0.3.0,>=0.2.0 in /usr/local/lib/python3.10/dist-packages (from langchain<0.3.0,>=0.2.9->langchain_community) (0.2.2)\n",
            "Requirement already satisfied: pydantic<3,>=1 in /usr/local/lib/python3.10/dist-packages (from langchain<0.3.0,>=0.2.9->langchain_community) (2.8.2)\n",
            "Requirement already satisfied: jsonpatch<2.0,>=1.33 in /usr/local/lib/python3.10/dist-packages (from langchain-core<0.3.0,>=0.2.23->langchain_community) (1.33)\n",
            "Requirement already satisfied: packaging<25,>=23.2 in /usr/local/lib/python3.10/dist-packages (from langchain-core<0.3.0,>=0.2.23->langchain_community) (24.1)\n",
            "Requirement already satisfied: orjson<4.0.0,>=3.9.14 in /usr/local/lib/python3.10/dist-packages (from langsmith<0.2.0,>=0.1.0->langchain_community) (3.10.6)\n",
            "Requirement already satisfied: charset-normalizer<4,>=2 in /usr/local/lib/python3.10/dist-packages (from requests<3,>=2->langchain_community) (3.3.2)\n",
            "Requirement already satisfied: idna<4,>=2.5 in /usr/local/lib/python3.10/dist-packages (from requests<3,>=2->langchain_community) (3.7)\n",
            "Requirement already satisfied: urllib3<3,>=1.21.1 in /usr/local/lib/python3.10/dist-packages (from requests<3,>=2->langchain_community) (2.0.7)\n",
            "Requirement already satisfied: certifi>=2017.4.17 in /usr/local/lib/python3.10/dist-packages (from requests<3,>=2->langchain_community) (2024.7.4)\n",
            "Requirement already satisfied: typing-extensions>=4.6.0 in /usr/local/lib/python3.10/dist-packages (from SQLAlchemy<3,>=1.4->langchain_community) (4.12.2)\n",
            "Requirement already satisfied: greenlet!=0.4.17 in /usr/local/lib/python3.10/dist-packages (from SQLAlchemy<3,>=1.4->langchain_community) (3.0.3)\n",
            "Requirement already satisfied: jsonpointer>=1.9 in /usr/local/lib/python3.10/dist-packages (from jsonpatch<2.0,>=1.33->langchain-core<0.3.0,>=0.2.23->langchain_community) (3.0.0)\n",
            "Requirement already satisfied: annotated-types>=0.4.0 in /usr/local/lib/python3.10/dist-packages (from pydantic<3,>=1->langchain<0.3.0,>=0.2.9->langchain_community) (0.7.0)\n",
            "Requirement already satisfied: pydantic-core==2.20.1 in /usr/local/lib/python3.10/dist-packages (from pydantic<3,>=1->langchain<0.3.0,>=0.2.9->langchain_community) (2.20.1)\n",
            "Requirement already satisfied: mypy-extensions>=0.3.0 in /usr/local/lib/python3.10/dist-packages (from typing-inspect<1,>=0.4.0->dataclasses-json<0.7,>=0.5.7->langchain_community) (1.0.0)\n"
          ]
        }
      ],
      "source": [
        "!pip install langchain_community"
      ]
    },
    {
      "cell_type": "code",
      "execution_count": 7,
      "metadata": {
        "colab": {
          "base_uri": "https://localhost:8080/",
          "height": 0
        },
        "id": "lslYAvw37JGQ",
        "outputId": "cff2fdfc-e0fe-4f29-8f7d-c0e1f91d5ffb"
      },
      "outputs": [
        {
          "output_type": "stream",
          "name": "stdout",
          "text": [
            "Vertex AI SDK version: 1.60.0\n",
            "LangChain version: 0.2.11\n"
          ]
        }
      ],
      "source": [
        "# File system operations and displaying images\n",
        "import os\n",
        "\n",
        "# Import utility functions for timing and file handling\n",
        "import time\n",
        "\n",
        "# Libraries for downloading files, data manipulation, and creating a user interface\n",
        "import uuid\n",
        "from datetime import datetime\n",
        "\n",
        "import fitz\n",
        "import gradio as gr\n",
        "import pandas as pd\n",
        "\n",
        "# Initialize Vertex AI libraries for working with generative models\n",
        "from google.cloud import aiplatform\n",
        "from PIL import Image as PIL_Image\n",
        "from vertexai.generative_models import GenerativeModel, Image\n",
        "from vertexai.language_models import TextEmbeddingModel\n",
        "\n",
        "# Print Vertex AI SDK version\n",
        "print(f\"Vertex AI SDK version: {aiplatform.__version__}\")\n",
        "\n",
        "# Import LangChain components\n",
        "import langchain\n",
        "\n",
        "print(f\"LangChain version: {langchain.__version__}\")\n",
        "from langchain.text_splitter import CharacterTextSplitter\n",
        "from langchain_community.document_loaders import DataFrameLoader"
      ]
    },
    {
      "cell_type": "markdown",
      "metadata": {
        "id": "lP1EMJL4ddcA"
      },
      "source": [
        "### Initializing Gemini Vision Pro and Text Embedding models"
      ]
    },
    {
      "cell_type": "code",
      "execution_count": 8,
      "metadata": {
        "id": "sNOqAHc3dbDf"
      },
      "outputs": [],
      "source": [
        "# Loading Gemini Pro Vision Model\n",
        "multimodal_model = GenerativeModel(\"gemini-1.0-pro-vision\")\n",
        "\n",
        "# Initializing embedding model\n",
        "text_embedding_model = TextEmbeddingModel.from_pretrained(\"textembedding-gecko@003\")\n",
        "\n",
        "# Loading Gemini Pro Model\n",
        "model = GenerativeModel(\"gemini-1.0-pro\")"
      ]
    },
    {
      "cell_type": "markdown",
      "metadata": {
        "id": "bOZpB1hCtYtQ"
      },
      "source": [
        "### Download from internet a sample PDF file and default image to be shown when no results are found\n",
        "[Skip this step if you have uploaded your PDF file]\n",
        "\n",
        "---\n",
        "\n",
        "\n",
        "This document describes the importance of stable power grids in Japan, highlighting the recent failure of a generator step-up transformer at the Nakoso Power Station and the rapid restoration response undertaken to maintain power supply stability."
      ]
    },
    {
      "cell_type": "code",
      "execution_count": 12,
      "metadata": {
        "colab": {
          "base_uri": "https://localhost:8080/",
          "height": 0
        },
        "id": "qCuvbLu9tDOa",
        "outputId": "e43a97cd-2bb2-44ce-e42a-a2cac97d1159"
      },
      "outputs": [
        {
          "output_type": "stream",
          "name": "stdout",
          "text": [
            "--2024-07-27 17:12:56--  https://www.hitachihyoron.com/rev/archive/2023/r2023_04/pdf/04a02.pdf\n",
            "Resolving www.hitachihyoron.com (www.hitachihyoron.com)... 108.156.201.13, 108.156.201.85, 108.156.201.12, ...\n",
            "Connecting to www.hitachihyoron.com (www.hitachihyoron.com)|108.156.201.13|:443... connected.\n",
            "HTTP request sent, awaiting response... 404 Not Found\n",
            "2024-07-27 17:12:56 ERROR 404: Not Found.\n",
            "\n",
            "--2024-07-27 17:12:56--  https://img.freepik.com/free-vector/hand-drawn-no-data-illustration_23-2150696455.jpg\n",
            "Resolving img.freepik.com (img.freepik.com)... 184.28.98.75, 184.28.98.91, 184.28.98.68, ...\n",
            "Connecting to img.freepik.com (img.freepik.com)|184.28.98.75|:443... connected.\n",
            "HTTP request sent, awaiting response... 200 OK\n",
            "Length: 32694 (32K) [image/jpeg]\n",
            "Saving to: ‘hand-drawn-no-data-illustration_23-2150696455.jpg’\n",
            "\n",
            "hand-drawn-no-data- 100%[===================>]  31.93K  --.-KB/s    in 0.01s   \n",
            "\n",
            "2024-07-27 17:12:57 (2.11 MB/s) - ‘hand-drawn-no-data-illustration_23-2150696455.jpg’ saved [32694/32694]\n",
            "\n"
          ]
        }
      ],
      "source": [
        "!wget https://www.hitachihyoron.com/rev/archive/2023/r2023_04/pdf/04a02.pdf\n",
        "!wget https://img.freepik.com/free-vector/hand-drawn-no-data-illustration_23-2150696455.jpg\n",
        "\n",
        "# Create an \"Images\" directory if it doesn't exist\n",
        "Image_Path = \"./Images/\"\n",
        "if not os.path.exists(Image_Path):\n",
        "    os.makedirs(Image_Path)\n",
        "\n",
        "!mv hand-drawn-no-data-illustration_23-2150696455.jpg {Image_Path}/blank.jpg"
      ]
    },
    {
      "cell_type": "markdown",
      "metadata": {
        "id": "XPQ5eqaTcLP7"
      },
      "source": [
        "### Split PDF to images and extract data using Gemini Vision Pro\n",
        "This module processes a set of images, extracting text and tabular data using a multimodal model (Gemini Vision Pro).\n",
        "It handles potential errors, stores the extracted information in a DataFrame, and saves the results to a CSV file."
      ]
    },
    {
      "cell_type": "code",
      "execution_count": 10,
      "metadata": {
        "id": "-41JZgAwsWXi"
      },
      "outputs": [],
      "source": [
        "# Run the following code for each file\n",
        "PDF_FILENAME = \"04a02.pdf\"  # Replace with your filename"
      ]
    },
    {
      "cell_type": "code",
      "execution_count": 13,
      "metadata": {
        "colab": {
          "base_uri": "https://localhost:8080/",
          "height": 385
        },
        "id": "pSKL45w4O5ob",
        "outputId": "0404e8d7-1f46-4576-c290-9e6e02ae7612"
      },
      "outputs": [
        {
          "output_type": "stream",
          "name": "stdout",
          "text": [
            "processed image no: 0\n",
            "processed image no: 1\n",
            "processed image no: 2\n",
            "processed image no: 3\n",
            "processed image no: 4\n",
            "processed image no: 5\n",
            "processed image no: 6\n",
            "processed image no: 7\n",
            "processed image no: 8\n",
            "processed image no: 9\n"
          ]
        },
        {
          "output_type": "execute_result",
          "data": {
            "text/plain": [
              "   page_id               page_source  \\\n",
              "0        0  ./Images/04a02.pdf_0.jpg   \n",
              "1        1  ./Images/04a02.pdf_6.jpg   \n",
              "2        2  ./Images/04a02.pdf_2.jpg   \n",
              "3        3  ./Images/04a02.pdf_1.jpg   \n",
              "4        4  ./Images/04a02.pdf_3.jpg   \n",
              "\n",
              "                                        page_content  \n",
              "0   FEATURED ARTICLES Power Grids for a Sustainab...  \n",
              "1   275 kV switching\\nstation electric room\\nUnit...  \n",
              "2   3.1 Project Setup\\nImmediately after receivin...  \n",
              "3   Figure 1 - Schematic Diagram of Nakoso Power ...  \n",
              "4   FEATURED ARTICLES\\nFigure 4- Transportation R...  "
            ],
            "text/html": [
              "\n",
              "  <div id=\"df-3af72251-4aaa-4d84-a629-dc42e6ff8a7f\" class=\"colab-df-container\">\n",
              "    <div>\n",
              "<style scoped>\n",
              "    .dataframe tbody tr th:only-of-type {\n",
              "        vertical-align: middle;\n",
              "    }\n",
              "\n",
              "    .dataframe tbody tr th {\n",
              "        vertical-align: top;\n",
              "    }\n",
              "\n",
              "    .dataframe thead th {\n",
              "        text-align: right;\n",
              "    }\n",
              "</style>\n",
              "<table border=\"1\" class=\"dataframe\">\n",
              "  <thead>\n",
              "    <tr style=\"text-align: right;\">\n",
              "      <th></th>\n",
              "      <th>page_id</th>\n",
              "      <th>page_source</th>\n",
              "      <th>page_content</th>\n",
              "    </tr>\n",
              "  </thead>\n",
              "  <tbody>\n",
              "    <tr>\n",
              "      <th>0</th>\n",
              "      <td>0</td>\n",
              "      <td>./Images/04a02.pdf_0.jpg</td>\n",
              "      <td>FEATURED ARTICLES Power Grids for a Sustainab...</td>\n",
              "    </tr>\n",
              "    <tr>\n",
              "      <th>1</th>\n",
              "      <td>1</td>\n",
              "      <td>./Images/04a02.pdf_6.jpg</td>\n",
              "      <td>275 kV switching\\nstation electric room\\nUnit...</td>\n",
              "    </tr>\n",
              "    <tr>\n",
              "      <th>2</th>\n",
              "      <td>2</td>\n",
              "      <td>./Images/04a02.pdf_2.jpg</td>\n",
              "      <td>3.1 Project Setup\\nImmediately after receivin...</td>\n",
              "    </tr>\n",
              "    <tr>\n",
              "      <th>3</th>\n",
              "      <td>3</td>\n",
              "      <td>./Images/04a02.pdf_1.jpg</td>\n",
              "      <td>Figure 1 - Schematic Diagram of Nakoso Power ...</td>\n",
              "    </tr>\n",
              "    <tr>\n",
              "      <th>4</th>\n",
              "      <td>4</td>\n",
              "      <td>./Images/04a02.pdf_3.jpg</td>\n",
              "      <td>FEATURED ARTICLES\\nFigure 4- Transportation R...</td>\n",
              "    </tr>\n",
              "  </tbody>\n",
              "</table>\n",
              "</div>\n",
              "    <div class=\"colab-df-buttons\">\n",
              "\n",
              "  <div class=\"colab-df-container\">\n",
              "    <button class=\"colab-df-convert\" onclick=\"convertToInteractive('df-3af72251-4aaa-4d84-a629-dc42e6ff8a7f')\"\n",
              "            title=\"Convert this dataframe to an interactive table.\"\n",
              "            style=\"display:none;\">\n",
              "\n",
              "  <svg xmlns=\"http://www.w3.org/2000/svg\" height=\"24px\" viewBox=\"0 -960 960 960\">\n",
              "    <path d=\"M120-120v-720h720v720H120Zm60-500h600v-160H180v160Zm220 220h160v-160H400v160Zm0 220h160v-160H400v160ZM180-400h160v-160H180v160Zm440 0h160v-160H620v160ZM180-180h160v-160H180v160Zm440 0h160v-160H620v160Z\"/>\n",
              "  </svg>\n",
              "    </button>\n",
              "\n",
              "  <style>\n",
              "    .colab-df-container {\n",
              "      display:flex;\n",
              "      gap: 12px;\n",
              "    }\n",
              "\n",
              "    .colab-df-convert {\n",
              "      background-color: #E8F0FE;\n",
              "      border: none;\n",
              "      border-radius: 50%;\n",
              "      cursor: pointer;\n",
              "      display: none;\n",
              "      fill: #1967D2;\n",
              "      height: 32px;\n",
              "      padding: 0 0 0 0;\n",
              "      width: 32px;\n",
              "    }\n",
              "\n",
              "    .colab-df-convert:hover {\n",
              "      background-color: #E2EBFA;\n",
              "      box-shadow: 0px 1px 2px rgba(60, 64, 67, 0.3), 0px 1px 3px 1px rgba(60, 64, 67, 0.15);\n",
              "      fill: #174EA6;\n",
              "    }\n",
              "\n",
              "    .colab-df-buttons div {\n",
              "      margin-bottom: 4px;\n",
              "    }\n",
              "\n",
              "    [theme=dark] .colab-df-convert {\n",
              "      background-color: #3B4455;\n",
              "      fill: #D2E3FC;\n",
              "    }\n",
              "\n",
              "    [theme=dark] .colab-df-convert:hover {\n",
              "      background-color: #434B5C;\n",
              "      box-shadow: 0px 1px 3px 1px rgba(0, 0, 0, 0.15);\n",
              "      filter: drop-shadow(0px 1px 2px rgba(0, 0, 0, 0.3));\n",
              "      fill: #FFFFFF;\n",
              "    }\n",
              "  </style>\n",
              "\n",
              "    <script>\n",
              "      const buttonEl =\n",
              "        document.querySelector('#df-3af72251-4aaa-4d84-a629-dc42e6ff8a7f button.colab-df-convert');\n",
              "      buttonEl.style.display =\n",
              "        google.colab.kernel.accessAllowed ? 'block' : 'none';\n",
              "\n",
              "      async function convertToInteractive(key) {\n",
              "        const element = document.querySelector('#df-3af72251-4aaa-4d84-a629-dc42e6ff8a7f');\n",
              "        const dataTable =\n",
              "          await google.colab.kernel.invokeFunction('convertToInteractive',\n",
              "                                                    [key], {});\n",
              "        if (!dataTable) return;\n",
              "\n",
              "        const docLinkHtml = 'Like what you see? Visit the ' +\n",
              "          '<a target=\"_blank\" href=https://colab.research.google.com/notebooks/data_table.ipynb>data table notebook</a>'\n",
              "          + ' to learn more about interactive tables.';\n",
              "        element.innerHTML = '';\n",
              "        dataTable['output_type'] = 'display_data';\n",
              "        await google.colab.output.renderOutput(dataTable, element);\n",
              "        const docLink = document.createElement('div');\n",
              "        docLink.innerHTML = docLinkHtml;\n",
              "        element.appendChild(docLink);\n",
              "      }\n",
              "    </script>\n",
              "  </div>\n",
              "\n",
              "\n",
              "<div id=\"df-0bdd5ed9-5e3c-44c8-984e-3ae3cff2af8f\">\n",
              "  <button class=\"colab-df-quickchart\" onclick=\"quickchart('df-0bdd5ed9-5e3c-44c8-984e-3ae3cff2af8f')\"\n",
              "            title=\"Suggest charts\"\n",
              "            style=\"display:none;\">\n",
              "\n",
              "<svg xmlns=\"http://www.w3.org/2000/svg\" height=\"24px\"viewBox=\"0 0 24 24\"\n",
              "     width=\"24px\">\n",
              "    <g>\n",
              "        <path d=\"M19 3H5c-1.1 0-2 .9-2 2v14c0 1.1.9 2 2 2h14c1.1 0 2-.9 2-2V5c0-1.1-.9-2-2-2zM9 17H7v-7h2v7zm4 0h-2V7h2v10zm4 0h-2v-4h2v4z\"/>\n",
              "    </g>\n",
              "</svg>\n",
              "  </button>\n",
              "\n",
              "<style>\n",
              "  .colab-df-quickchart {\n",
              "      --bg-color: #E8F0FE;\n",
              "      --fill-color: #1967D2;\n",
              "      --hover-bg-color: #E2EBFA;\n",
              "      --hover-fill-color: #174EA6;\n",
              "      --disabled-fill-color: #AAA;\n",
              "      --disabled-bg-color: #DDD;\n",
              "  }\n",
              "\n",
              "  [theme=dark] .colab-df-quickchart {\n",
              "      --bg-color: #3B4455;\n",
              "      --fill-color: #D2E3FC;\n",
              "      --hover-bg-color: #434B5C;\n",
              "      --hover-fill-color: #FFFFFF;\n",
              "      --disabled-bg-color: #3B4455;\n",
              "      --disabled-fill-color: #666;\n",
              "  }\n",
              "\n",
              "  .colab-df-quickchart {\n",
              "    background-color: var(--bg-color);\n",
              "    border: none;\n",
              "    border-radius: 50%;\n",
              "    cursor: pointer;\n",
              "    display: none;\n",
              "    fill: var(--fill-color);\n",
              "    height: 32px;\n",
              "    padding: 0;\n",
              "    width: 32px;\n",
              "  }\n",
              "\n",
              "  .colab-df-quickchart:hover {\n",
              "    background-color: var(--hover-bg-color);\n",
              "    box-shadow: 0 1px 2px rgba(60, 64, 67, 0.3), 0 1px 3px 1px rgba(60, 64, 67, 0.15);\n",
              "    fill: var(--button-hover-fill-color);\n",
              "  }\n",
              "\n",
              "  .colab-df-quickchart-complete:disabled,\n",
              "  .colab-df-quickchart-complete:disabled:hover {\n",
              "    background-color: var(--disabled-bg-color);\n",
              "    fill: var(--disabled-fill-color);\n",
              "    box-shadow: none;\n",
              "  }\n",
              "\n",
              "  .colab-df-spinner {\n",
              "    border: 2px solid var(--fill-color);\n",
              "    border-color: transparent;\n",
              "    border-bottom-color: var(--fill-color);\n",
              "    animation:\n",
              "      spin 1s steps(1) infinite;\n",
              "  }\n",
              "\n",
              "  @keyframes spin {\n",
              "    0% {\n",
              "      border-color: transparent;\n",
              "      border-bottom-color: var(--fill-color);\n",
              "      border-left-color: var(--fill-color);\n",
              "    }\n",
              "    20% {\n",
              "      border-color: transparent;\n",
              "      border-left-color: var(--fill-color);\n",
              "      border-top-color: var(--fill-color);\n",
              "    }\n",
              "    30% {\n",
              "      border-color: transparent;\n",
              "      border-left-color: var(--fill-color);\n",
              "      border-top-color: var(--fill-color);\n",
              "      border-right-color: var(--fill-color);\n",
              "    }\n",
              "    40% {\n",
              "      border-color: transparent;\n",
              "      border-right-color: var(--fill-color);\n",
              "      border-top-color: var(--fill-color);\n",
              "    }\n",
              "    60% {\n",
              "      border-color: transparent;\n",
              "      border-right-color: var(--fill-color);\n",
              "    }\n",
              "    80% {\n",
              "      border-color: transparent;\n",
              "      border-right-color: var(--fill-color);\n",
              "      border-bottom-color: var(--fill-color);\n",
              "    }\n",
              "    90% {\n",
              "      border-color: transparent;\n",
              "      border-bottom-color: var(--fill-color);\n",
              "    }\n",
              "  }\n",
              "</style>\n",
              "\n",
              "  <script>\n",
              "    async function quickchart(key) {\n",
              "      const quickchartButtonEl =\n",
              "        document.querySelector('#' + key + ' button');\n",
              "      quickchartButtonEl.disabled = true;  // To prevent multiple clicks.\n",
              "      quickchartButtonEl.classList.add('colab-df-spinner');\n",
              "      try {\n",
              "        const charts = await google.colab.kernel.invokeFunction(\n",
              "            'suggestCharts', [key], {});\n",
              "      } catch (error) {\n",
              "        console.error('Error during call to suggestCharts:', error);\n",
              "      }\n",
              "      quickchartButtonEl.classList.remove('colab-df-spinner');\n",
              "      quickchartButtonEl.classList.add('colab-df-quickchart-complete');\n",
              "    }\n",
              "    (() => {\n",
              "      let quickchartButtonEl =\n",
              "        document.querySelector('#df-0bdd5ed9-5e3c-44c8-984e-3ae3cff2af8f button');\n",
              "      quickchartButtonEl.style.display =\n",
              "        google.colab.kernel.accessAllowed ? 'block' : 'none';\n",
              "    })();\n",
              "  </script>\n",
              "</div>\n",
              "\n",
              "    </div>\n",
              "  </div>\n"
            ],
            "application/vnd.google.colaboratory.intrinsic+json": {
              "type": "dataframe",
              "variable_name": "df",
              "summary": "{\n  \"name\": \"df\",\n  \"rows\": 10,\n  \"fields\": [\n    {\n      \"column\": \"page_id\",\n      \"properties\": {\n        \"dtype\": \"number\",\n        \"std\": 3,\n        \"min\": 0,\n        \"max\": 9,\n        \"num_unique_values\": 10,\n        \"samples\": [\n          8,\n          1,\n          5\n        ],\n        \"semantic_type\": \"\",\n        \"description\": \"\"\n      }\n    },\n    {\n      \"column\": \"page_source\",\n      \"properties\": {\n        \"dtype\": \"string\",\n        \"num_unique_values\": 10,\n        \"samples\": [\n          \"./Images/04a02.pdf_7.jpg\",\n          \"./Images/04a02.pdf_6.jpg\",\n          \"./Images/04a02.pdf_8.jpg\"\n        ],\n        \"semantic_type\": \"\",\n        \"description\": \"\"\n      }\n    },\n    {\n      \"column\": \"page_content\",\n      \"properties\": {\n        \"dtype\": \"string\",\n        \"num_unique_values\": 10,\n        \"samples\": [\n          \" FEATURED ARTICLES\\nFigure 8 - Diagram of Induced Voltage Countermeasures\\nMeasures were taken to reduce the induced current when disconnecting and connecting the lead wire between the transformer and cable heads, which\\nreduced the risk of accidental electric shocks and allowed work to proceed.\\nLead wire\\nBg\\nUnit No. 8 GSUT\\nNeutral point grounding\\nElectric shock risk while working\\n(induced current from unit No. 9 cable)\\nHV winding\\nSteps (2) and (5)\\nUnit No. 9\\nUnit No. 8\\n(operating)\\n(stopped)\\nCH\\nlo1 + lo2\\n\\u2192\\u2192\\n\\u2193\\nlol\\nWork grounding\\nStep (1)\\nSteps (3) and (4)\\n102\\nWork timing\\nWhen disconnecting\\nexisting transformer\\nlead wire\\nWhen connecting new\\ntransformer lead wire\\nActions\\nReduce induced current by constructing detour circuit (procedure below)\\n(1) Connect the grounding wire to the CH section\\n(2) Disconnect the grounding wire connected to the neutral point\\n(3) Measure the current flowing to the lead wire with a clamp meter\\n(4) If there is no energized current or the current is low, cut the lead wire (x section) according\\nto the worksite instructions (quality assurance staff)\\n(5) After work, reconnect the grounding wire to the neutral point\\nAs above [in step (4), connect the lead wire]\\n+\\nFurther reduce the induced voltage by limiting the output of unit No. 9\\n(from normal level of 500 MW to 250 MW during work)\\nHV: high-voltage side CH: cable head Bg: bushing\\n5. Prevention of Accidental\\nElectric Shocks\\nDuring the work disconnecting the existing transformer\\nfrom the cable heads, induced current from the adjacent\\noperating unit No. 9 was observed. As a result, Hitachi\\nconsidered countermeasures against electric shocks (see\\nFigure 8).\\nMeasures to reduce the induced current were taken by\\nconstructing a detour circuit when disconnecting the lead\\nwire between the existing transformer and the cable heads.\\nThe results of subsequent verification also confirmed the\\neffect of reducing the induced current by limiting the out-\\nput of unit No. 9. Therefore, when connecting the lead wire\\nbetween the new transformer and the cable heads, in addi-\\ntion to constructing the detour circuit, Hitachi asked the\\ncustomer to limit the output of unit No. 9, which further\\nreduced the induced current and made the work safe.\\n6. Conclusions\\nThis project to help solve the social problem of a power\\nsupply crunch was an invaluable experience for Hitachi, as\\nit looked beyond conventional frameworks to take the best\\nactions it could, while sharing with the customer infor-\\nmation about the risks and opportunities of shortening\\nprocesses. Hitachi made a significant contribution to power\\nsupply stabilization in Japan by rapidly restoring the unit\\nNo. 8 GSUT.\\nAcknowledgments\\nIn the work on the rapid restoration of the unit No. 8\\nGSUT at the Nakoso Power Station of Joban Joint Power\\nCo., Ltd., Hitachi received the support of Joban Joint Power\\nCo., Ltd. and many other stakeholders. The authors would\\nlike to express their deepest gratitude to everyone involved\\nin the project.\\nHitachi Review Vol. 72, No. 4 438-439\\n67\\n | Work timing | Actions |\\n| :--- | :--- |\\n| When disconnecting existing transformer lead wire | Reduce induced current by constructing detour circuit (procedure below) |\\n| | (1) Connect the grounding wire to the CH section |\\n| | (2) Disconnect the grounding wire connected to the neutral point |\\n| | (3) Measure the current flowing to the lead wire with a clamp meter |\\n| | (4) If there is no energized current or the current is low, cut the lead wire (x section) according to the worksite instructions (quality assurance staff) |\\n| | (5) After work, reconnect the grounding wire to the neutral point |\\n| When connecting new transformer lead wire | As above [in step (4), connect the lead wire] |\\n|  | Further reduce the induced voltage by limiting the output of unit No. 9 (from normal level of 500 MW to 250 MW during work) |\",\n          \" 275 kV switching\\nstation electric room\\nUnit No. 8 GSUT yard\\nand turbine building\\nExisting spare core used as cable for testing\\nNew cable for testing laid out\\nSwitching station\\nelectric room\\nCentral control room\\nStation power supply\\nswitchgear room\\n---\\nTo power generation\\n...equipment\\nUnit No. 8 GSUT yard\\nCooler control panel\\nFigure 7 - Diagram of Cable Layout for\\nSystem Testing at Site\\nA communication line (2 cores), standard line\\n(2 cores), and matching phase detection line (1\\ncore) were laid out. The results of an advance\\nsite investigation showed the need to lay out\\nnew cables for testing in sectors with no exist-\\ning spare cores.\\nthe 40-year-old design that could not be duplicated. The\\ncountermeasures for such areas were reviewed closely by\\nexperts as Hitachi made every effort to assure the quality\\nof the new transformer.\\n4. 1. 1 Discontinued Parts\\n(1) Resistance thermometer\\nThe manufacturer had discontinued the manufacture of\\nthe existing part, but a different manufacturer was found\\nto produce an alternative (same specifications as the exist-\\ning part).\\n(2) High-voltage bushing\\nThe manufacturer had discontinued the manufacture of\\nthe existing part, but a different manufacturer was found to\\nproduce an alternative. Since the dimensions varied greatly\\nfrom the existing part, areas such as the interfacing parts\\nand the lead wire were re-examined.\\n(3) Steel material of main unit tank\\nThe steel marine (SM) material of the existing unit is\\nno longer used, so the current steel structure (SS) material\\nwas studied instead.\\n4.1.2\\nDifferences between Initial Delivery and\\nPresent Time\\n(1) Main unit tank material transportation\\nA transportation compliance review showed that trans-\\nportation with the same dimensions as the existing unit\\nwould not be possible. This resulted in a plate-mounted\\nsplit structure for the main unit tank.\\n(2) Review of internal standards\\nTo prevent the overheating of bolts and other parts by\\nthe current circulating through locations such as the cable\\npocket, a conductor for current energization was added to\\nthe flange and the welding structure was changed.\\n4.1.3\\nMatching Interfaces with Existing Cable Heads\\nSince it was necessary to match the interfaces with the\\nexisting cable heads, the dimensions at the site were mea-\\nsured and the structure was changed to one with plenty of\\nallowance for adjustments, such as changing the bolt hole\\ndiameters and increasing the number of part divisions.\\n4.2\\nProposals for Future Preventive Maintenance\\nThe results of the investigation into the cause of the fail-\\nure of the unit No. 8 GSUT showed that a short circuit\\noccurred between taps. This was caused by overheating and\\ndamage of the contacts on the LTC main unit tank side, due\\nto aging. About 40 years had elapsed since this transformer\\nhad started operations and the number of LTC switches\\nwas about 120,000, which is approximately one quarter of\\nthe number of switches generally expected. From these\\nfacts, it was deduced that the failure was a phenomenon\\nmore likely to occur under the conditions of both \\\"signifi-\\ncant aging\\\" and a \\\"low LTC switching frequency.\\\" (When\\nsurface roughness and level differences between specific\\ncontacts progress due to use in a limited tap range and the\\nterminal position remains fixed, overheating occurs more\\neasily due to deterioration of contact energization, carbon\\nadhesion, and other factors.)\\nAs preventive maintenance for the future, in addition to\\nlifting inspections of the changeover switches on the regular\\nmaintenance menu, Hitachi added contactor inspections for\\nthe LTC segment (tap selection device, polarity switch) on\\nthe tank side of the transformer main unit in significantly\\naged equipment to the maintenance menu.\\n | 4.1.2 | Differences between Initial Delivery and Present Time |\\n| :---: | :---: |\\n| (1) | Main unit tank material transportation |\\n| (2) | Review of internal standards |\",\n          \" 68\\nReferences\\n1) Agency for Natural Resources and Energy (ANRE), Ministry\\nof Economy, Trade and Industry (METI), \\\"Measures for\\nElectricity Supply and Demand for FY2021 Winter\\\" (Oct.\\n2021) in Japanese, https://www.meti.go.jp/press/2021/10/2\\n0211027003/20211027003-1.pdf\\n2) ANRE, METI, \\\"Outlook and Measures for Electricity Supply\\nand Demand for FY2022\\\" (Jan. 2022) in Japanese, https://\\nwww.meti.go.jp/shingikai/enecho/denryoku_gas/\\ndenryoku_gas/pdf/044_04_00.pdf\\n3) Japan Atomic Energy Relations Organization (JAERO),\\n4)\\n\\\"Nuclear and Energy Drawings [1-2-07] Change in Electricity\\nGenerated and Received by Source\\\" in Japanese, https://\\nwww.ene100.jp/zumen/1-2-7\\nJ\\u00f5ban Joint Power Co., Ltd., \\\"Electricity Sales and\\nFuel Consumption\\\" in Japanese, http://www.\\njoban-power.co.jp/category/nakoso_power_plant/\\nelectricity_sales_and_fuel_consumption/\\nAuthors\\nHikaru Fujita\\nT&D Engineering Department, Transmission System\\nDivision, Transmission & Distribution Systems\\nDivision, Power Grids Business Unit, Hitachi, Ltd.\\nCurrent work and research: Engineering of substation\\nsystems for industry.\\nMasaru Kashiwakura\\nTransformer Department, T&D Engineering and\\nProduction Division, Transmission & Distribution\\nSystems Division, Power Grids Business Unit, Hitachi,\\nLtd. Current work and research: Engineering of\\nmaintenance work for large-capacity transformers.\\nSociety memberships: The Institute of Electrical\\nEngineers of Japan (IEEJ).\\nAkihiro Kawagoe\\nValue Integration Center, Energy Business Division,\\nHitachi, Ltd. Current work and research: Procurement\\nof goods for T&D equipment production.\\nHisaki Hamamoto\\nTransformer Department, T&D Engineering and\\nProduction Division, Transmission & Distribution\\nSystems Division, Power Grids Business Unit, Hitachi,\\nLtd. Current work and research: Production control of\\ntransformers.\\nTetsuo Niitsuma\\nTransmission and Distribution QA Department,\\nQuality Assurance Division of Power Grids Business\\nUnit, Power Grids Business Unit, Hitachi, Ltd. Current\\nwork and research: Quality assurance of transformers.\\nYuzuru Mitani\\nBusiness Administration & Engineering Department,\\nT&D Engineering and Production Division,\\nTransmission & Distribution Systems Division, Power\\nGrids Business Unit, Hitachi, Ltd. Current work and\\nresearch: Engineering of transportation and site\\ninstallation.\\n | Authors | \\n|---|---|\\n| Hikaru Fujita | \\n| Masaru Kashiwakura | \\n| Akihiro Kawagoe | \\n| Hisaki Hamamoto | \\n| Tetsuo Niitsuma | \\n| Yuzuru Mitani |\"\n        ],\n        \"semantic_type\": \"\",\n        \"description\": \"\"\n      }\n    }\n  ]\n}"
            }
          },
          "metadata": {},
          "execution_count": 13
        }
      ],
      "source": [
        "# To get better resolution\n",
        "zoom_x = 2.0  # horizontal zoom\n",
        "zoom_y = 2.0  # vertical zoom\n",
        "mat = fitz.Matrix(zoom_x, zoom_y)  # zoom factor 2 in each dimension\n",
        "\n",
        "doc = fitz.open(PDF_FILENAME)  # open document\n",
        "for page in doc:  # iterate through the pages\n",
        "    pix = page.get_pixmap(matrix=mat)  # render page to an image\n",
        "    outpath = f\"./Images/{PDF_FILENAME}_{page.number}.jpg\"\n",
        "    pix.save(outpath)  # store image as a PNG\n",
        "\n",
        "# Define the path where images are located\n",
        "image_names = os.listdir(Image_Path)\n",
        "Max_images = len(image_names)\n",
        "\n",
        "# Create empty lists to store image information\n",
        "page_source = []\n",
        "page_content = []\n",
        "page_id = []\n",
        "\n",
        "p_id = 0  # Initialize image ID counter\n",
        "rest_count = 0  # Initialize counter for error handling\n",
        "\n",
        "while p_id < Max_images:\n",
        "    try:\n",
        "        # Construct the full path to the current image\n",
        "        image_path = Image_Path + image_names[p_id]\n",
        "\n",
        "        # Load the image\n",
        "        image = Image.load_from_file(image_path)\n",
        "\n",
        "        # Generate prompts for text and table extraction\n",
        "        prompt_text = \"Extract all text content in the image\"\n",
        "        prompt_table = (\n",
        "            \"Detect table in this image. Extract content maintaining the structure\"\n",
        "        )\n",
        "\n",
        "        # Extract text using your multimodal model\n",
        "        contents = [image, prompt_text]\n",
        "        response = multimodal_model.generate_content(contents)\n",
        "        text_content = response.text\n",
        "\n",
        "        # Extract table using your multimodal model\n",
        "        contents = [image, prompt_table]\n",
        "        response = multimodal_model.generate_content(contents)\n",
        "        table_content = response.text\n",
        "\n",
        "        # Log progress and store results\n",
        "        print(f\"processed image no: {p_id}\")\n",
        "        page_source.append(image_path)\n",
        "        page_content.append(text_content + \"\\n\" + table_content)\n",
        "        page_id.append(p_id)\n",
        "        p_id += 1\n",
        "\n",
        "    except Exception as err:\n",
        "        # Handle errors during processing\n",
        "        print(err)\n",
        "        print(\"Taking Some Rest\")\n",
        "        time.sleep(1)  # Pause execution for 1 second\n",
        "        rest_count += 1\n",
        "        if rest_count == 5:  # Limit consecutive error handling\n",
        "            rest_count = 0\n",
        "            print(f\"Cannot process image no: {image_path}\")\n",
        "            p_id += 1  # Move to the next image\n",
        "\n",
        "# Create a DataFrame to store extracted information\n",
        "df = pd.DataFrame(\n",
        "    {\"page_id\": page_id, \"page_source\": page_source, \"page_content\": page_content}\n",
        ")\n",
        "del page_id, page_source, page_content  # Conserve memory\n",
        "df.head()  # Preview the DataFrame"
      ]
    },
    {
      "cell_type": "markdown",
      "metadata": {
        "id": "ECB4ixV6VF0B"
      },
      "source": [
        "# Generate Text Embeddings\n",
        "Leverage a powerful language model textembedding-gecko to generate rich text embeddings that helps us find relevant information from a dataset."
      ]
    },
    {
      "cell_type": "code",
      "execution_count": 14,
      "metadata": {
        "colab": {
          "base_uri": "https://localhost:8080/",
          "height": 329
        },
        "id": "kHtZhmkYVCFP",
        "outputId": "3696fe44-dbe9-4493-aced-6a641f1d1445"
      },
      "outputs": [
        {
          "output_type": "stream",
          "name": "stdout",
          "text": [
            "# of documents loaded (pre-chunking) = 10\n",
            "# of documents = 10\n"
          ]
        },
        {
          "output_type": "execute_result",
          "data": {
            "text/plain": [
              "                                     id  \\\n",
              "0  714e52f1-8dc0-482d-84ba-989627d13cd2   \n",
              "1  b6bafc99-f145-44e4-9dad-17758e31af10   \n",
              "2  115a330e-126c-43dd-a60c-7ebb036ae67e   \n",
              "3  fb65fd17-123a-47c3-8e0f-6ded35fb53f9   \n",
              "4  448705be-91ed-40ed-96d1-8b117006cb25   \n",
              "\n",
              "                                           embedding  \\\n",
              "0  [-0.014471064321696758, -0.021279096603393555,...   \n",
              "1  [0.0014127811882644892, -0.01755324751138687, ...   \n",
              "2  [-0.009558097459375858, -0.019574157893657684,...   \n",
              "3  [0.018753349781036377, -0.005936107598245144, ...   \n",
              "4  [-0.0035519329831004143, -0.033385034650564194...   \n",
              "\n",
              "                page_source                                               text  \n",
              "0  ./Images/04a02.pdf_0.jpg  FEATURED ARTICLES Power Grids for a Sustainabl...  \n",
              "1  ./Images/04a02.pdf_6.jpg  275 kV switching\\nstation electric room\\nUnit ...  \n",
              "2  ./Images/04a02.pdf_2.jpg  3.1 Project Setup\\nImmediately after receiving...  \n",
              "3  ./Images/04a02.pdf_1.jpg  Figure 1 - Schematic Diagram of Nakoso Power S...  \n",
              "4  ./Images/04a02.pdf_3.jpg  FEATURED ARTICLES\\nFigure 4- Transportation Ro...  "
            ],
            "text/html": [
              "\n",
              "  <div id=\"df-6e4f240e-2e4d-4076-abe5-38c5b5804adb\" class=\"colab-df-container\">\n",
              "    <div>\n",
              "<style scoped>\n",
              "    .dataframe tbody tr th:only-of-type {\n",
              "        vertical-align: middle;\n",
              "    }\n",
              "\n",
              "    .dataframe tbody tr th {\n",
              "        vertical-align: top;\n",
              "    }\n",
              "\n",
              "    .dataframe thead th {\n",
              "        text-align: right;\n",
              "    }\n",
              "</style>\n",
              "<table border=\"1\" class=\"dataframe\">\n",
              "  <thead>\n",
              "    <tr style=\"text-align: right;\">\n",
              "      <th></th>\n",
              "      <th>id</th>\n",
              "      <th>embedding</th>\n",
              "      <th>page_source</th>\n",
              "      <th>text</th>\n",
              "    </tr>\n",
              "  </thead>\n",
              "  <tbody>\n",
              "    <tr>\n",
              "      <th>0</th>\n",
              "      <td>714e52f1-8dc0-482d-84ba-989627d13cd2</td>\n",
              "      <td>[-0.014471064321696758, -0.021279096603393555,...</td>\n",
              "      <td>./Images/04a02.pdf_0.jpg</td>\n",
              "      <td>FEATURED ARTICLES Power Grids for a Sustainabl...</td>\n",
              "    </tr>\n",
              "    <tr>\n",
              "      <th>1</th>\n",
              "      <td>b6bafc99-f145-44e4-9dad-17758e31af10</td>\n",
              "      <td>[0.0014127811882644892, -0.01755324751138687, ...</td>\n",
              "      <td>./Images/04a02.pdf_6.jpg</td>\n",
              "      <td>275 kV switching\\nstation electric room\\nUnit ...</td>\n",
              "    </tr>\n",
              "    <tr>\n",
              "      <th>2</th>\n",
              "      <td>115a330e-126c-43dd-a60c-7ebb036ae67e</td>\n",
              "      <td>[-0.009558097459375858, -0.019574157893657684,...</td>\n",
              "      <td>./Images/04a02.pdf_2.jpg</td>\n",
              "      <td>3.1 Project Setup\\nImmediately after receiving...</td>\n",
              "    </tr>\n",
              "    <tr>\n",
              "      <th>3</th>\n",
              "      <td>fb65fd17-123a-47c3-8e0f-6ded35fb53f9</td>\n",
              "      <td>[0.018753349781036377, -0.005936107598245144, ...</td>\n",
              "      <td>./Images/04a02.pdf_1.jpg</td>\n",
              "      <td>Figure 1 - Schematic Diagram of Nakoso Power S...</td>\n",
              "    </tr>\n",
              "    <tr>\n",
              "      <th>4</th>\n",
              "      <td>448705be-91ed-40ed-96d1-8b117006cb25</td>\n",
              "      <td>[-0.0035519329831004143, -0.033385034650564194...</td>\n",
              "      <td>./Images/04a02.pdf_3.jpg</td>\n",
              "      <td>FEATURED ARTICLES\\nFigure 4- Transportation Ro...</td>\n",
              "    </tr>\n",
              "  </tbody>\n",
              "</table>\n",
              "</div>\n",
              "    <div class=\"colab-df-buttons\">\n",
              "\n",
              "  <div class=\"colab-df-container\">\n",
              "    <button class=\"colab-df-convert\" onclick=\"convertToInteractive('df-6e4f240e-2e4d-4076-abe5-38c5b5804adb')\"\n",
              "            title=\"Convert this dataframe to an interactive table.\"\n",
              "            style=\"display:none;\">\n",
              "\n",
              "  <svg xmlns=\"http://www.w3.org/2000/svg\" height=\"24px\" viewBox=\"0 -960 960 960\">\n",
              "    <path d=\"M120-120v-720h720v720H120Zm60-500h600v-160H180v160Zm220 220h160v-160H400v160Zm0 220h160v-160H400v160ZM180-400h160v-160H180v160Zm440 0h160v-160H620v160ZM180-180h160v-160H180v160Zm440 0h160v-160H620v160Z\"/>\n",
              "  </svg>\n",
              "    </button>\n",
              "\n",
              "  <style>\n",
              "    .colab-df-container {\n",
              "      display:flex;\n",
              "      gap: 12px;\n",
              "    }\n",
              "\n",
              "    .colab-df-convert {\n",
              "      background-color: #E8F0FE;\n",
              "      border: none;\n",
              "      border-radius: 50%;\n",
              "      cursor: pointer;\n",
              "      display: none;\n",
              "      fill: #1967D2;\n",
              "      height: 32px;\n",
              "      padding: 0 0 0 0;\n",
              "      width: 32px;\n",
              "    }\n",
              "\n",
              "    .colab-df-convert:hover {\n",
              "      background-color: #E2EBFA;\n",
              "      box-shadow: 0px 1px 2px rgba(60, 64, 67, 0.3), 0px 1px 3px 1px rgba(60, 64, 67, 0.15);\n",
              "      fill: #174EA6;\n",
              "    }\n",
              "\n",
              "    .colab-df-buttons div {\n",
              "      margin-bottom: 4px;\n",
              "    }\n",
              "\n",
              "    [theme=dark] .colab-df-convert {\n",
              "      background-color: #3B4455;\n",
              "      fill: #D2E3FC;\n",
              "    }\n",
              "\n",
              "    [theme=dark] .colab-df-convert:hover {\n",
              "      background-color: #434B5C;\n",
              "      box-shadow: 0px 1px 3px 1px rgba(0, 0, 0, 0.15);\n",
              "      filter: drop-shadow(0px 1px 2px rgba(0, 0, 0, 0.3));\n",
              "      fill: #FFFFFF;\n",
              "    }\n",
              "  </style>\n",
              "\n",
              "    <script>\n",
              "      const buttonEl =\n",
              "        document.querySelector('#df-6e4f240e-2e4d-4076-abe5-38c5b5804adb button.colab-df-convert');\n",
              "      buttonEl.style.display =\n",
              "        google.colab.kernel.accessAllowed ? 'block' : 'none';\n",
              "\n",
              "      async function convertToInteractive(key) {\n",
              "        const element = document.querySelector('#df-6e4f240e-2e4d-4076-abe5-38c5b5804adb');\n",
              "        const dataTable =\n",
              "          await google.colab.kernel.invokeFunction('convertToInteractive',\n",
              "                                                    [key], {});\n",
              "        if (!dataTable) return;\n",
              "\n",
              "        const docLinkHtml = 'Like what you see? Visit the ' +\n",
              "          '<a target=\"_blank\" href=https://colab.research.google.com/notebooks/data_table.ipynb>data table notebook</a>'\n",
              "          + ' to learn more about interactive tables.';\n",
              "        element.innerHTML = '';\n",
              "        dataTable['output_type'] = 'display_data';\n",
              "        await google.colab.output.renderOutput(dataTable, element);\n",
              "        const docLink = document.createElement('div');\n",
              "        docLink.innerHTML = docLinkHtml;\n",
              "        element.appendChild(docLink);\n",
              "      }\n",
              "    </script>\n",
              "  </div>\n",
              "\n",
              "\n",
              "<div id=\"df-dc42f57f-d78f-4f57-8ba4-587ff6bdd7d3\">\n",
              "  <button class=\"colab-df-quickchart\" onclick=\"quickchart('df-dc42f57f-d78f-4f57-8ba4-587ff6bdd7d3')\"\n",
              "            title=\"Suggest charts\"\n",
              "            style=\"display:none;\">\n",
              "\n",
              "<svg xmlns=\"http://www.w3.org/2000/svg\" height=\"24px\"viewBox=\"0 0 24 24\"\n",
              "     width=\"24px\">\n",
              "    <g>\n",
              "        <path d=\"M19 3H5c-1.1 0-2 .9-2 2v14c0 1.1.9 2 2 2h14c1.1 0 2-.9 2-2V5c0-1.1-.9-2-2-2zM9 17H7v-7h2v7zm4 0h-2V7h2v10zm4 0h-2v-4h2v4z\"/>\n",
              "    </g>\n",
              "</svg>\n",
              "  </button>\n",
              "\n",
              "<style>\n",
              "  .colab-df-quickchart {\n",
              "      --bg-color: #E8F0FE;\n",
              "      --fill-color: #1967D2;\n",
              "      --hover-bg-color: #E2EBFA;\n",
              "      --hover-fill-color: #174EA6;\n",
              "      --disabled-fill-color: #AAA;\n",
              "      --disabled-bg-color: #DDD;\n",
              "  }\n",
              "\n",
              "  [theme=dark] .colab-df-quickchart {\n",
              "      --bg-color: #3B4455;\n",
              "      --fill-color: #D2E3FC;\n",
              "      --hover-bg-color: #434B5C;\n",
              "      --hover-fill-color: #FFFFFF;\n",
              "      --disabled-bg-color: #3B4455;\n",
              "      --disabled-fill-color: #666;\n",
              "  }\n",
              "\n",
              "  .colab-df-quickchart {\n",
              "    background-color: var(--bg-color);\n",
              "    border: none;\n",
              "    border-radius: 50%;\n",
              "    cursor: pointer;\n",
              "    display: none;\n",
              "    fill: var(--fill-color);\n",
              "    height: 32px;\n",
              "    padding: 0;\n",
              "    width: 32px;\n",
              "  }\n",
              "\n",
              "  .colab-df-quickchart:hover {\n",
              "    background-color: var(--hover-bg-color);\n",
              "    box-shadow: 0 1px 2px rgba(60, 64, 67, 0.3), 0 1px 3px 1px rgba(60, 64, 67, 0.15);\n",
              "    fill: var(--button-hover-fill-color);\n",
              "  }\n",
              "\n",
              "  .colab-df-quickchart-complete:disabled,\n",
              "  .colab-df-quickchart-complete:disabled:hover {\n",
              "    background-color: var(--disabled-bg-color);\n",
              "    fill: var(--disabled-fill-color);\n",
              "    box-shadow: none;\n",
              "  }\n",
              "\n",
              "  .colab-df-spinner {\n",
              "    border: 2px solid var(--fill-color);\n",
              "    border-color: transparent;\n",
              "    border-bottom-color: var(--fill-color);\n",
              "    animation:\n",
              "      spin 1s steps(1) infinite;\n",
              "  }\n",
              "\n",
              "  @keyframes spin {\n",
              "    0% {\n",
              "      border-color: transparent;\n",
              "      border-bottom-color: var(--fill-color);\n",
              "      border-left-color: var(--fill-color);\n",
              "    }\n",
              "    20% {\n",
              "      border-color: transparent;\n",
              "      border-left-color: var(--fill-color);\n",
              "      border-top-color: var(--fill-color);\n",
              "    }\n",
              "    30% {\n",
              "      border-color: transparent;\n",
              "      border-left-color: var(--fill-color);\n",
              "      border-top-color: var(--fill-color);\n",
              "      border-right-color: var(--fill-color);\n",
              "    }\n",
              "    40% {\n",
              "      border-color: transparent;\n",
              "      border-right-color: var(--fill-color);\n",
              "      border-top-color: var(--fill-color);\n",
              "    }\n",
              "    60% {\n",
              "      border-color: transparent;\n",
              "      border-right-color: var(--fill-color);\n",
              "    }\n",
              "    80% {\n",
              "      border-color: transparent;\n",
              "      border-right-color: var(--fill-color);\n",
              "      border-bottom-color: var(--fill-color);\n",
              "    }\n",
              "    90% {\n",
              "      border-color: transparent;\n",
              "      border-bottom-color: var(--fill-color);\n",
              "    }\n",
              "  }\n",
              "</style>\n",
              "\n",
              "  <script>\n",
              "    async function quickchart(key) {\n",
              "      const quickchartButtonEl =\n",
              "        document.querySelector('#' + key + ' button');\n",
              "      quickchartButtonEl.disabled = true;  // To prevent multiple clicks.\n",
              "      quickchartButtonEl.classList.add('colab-df-spinner');\n",
              "      try {\n",
              "        const charts = await google.colab.kernel.invokeFunction(\n",
              "            'suggestCharts', [key], {});\n",
              "      } catch (error) {\n",
              "        console.error('Error during call to suggestCharts:', error);\n",
              "      }\n",
              "      quickchartButtonEl.classList.remove('colab-df-spinner');\n",
              "      quickchartButtonEl.classList.add('colab-df-quickchart-complete');\n",
              "    }\n",
              "    (() => {\n",
              "      let quickchartButtonEl =\n",
              "        document.querySelector('#df-dc42f57f-d78f-4f57-8ba4-587ff6bdd7d3 button');\n",
              "      quickchartButtonEl.style.display =\n",
              "        google.colab.kernel.accessAllowed ? 'block' : 'none';\n",
              "    })();\n",
              "  </script>\n",
              "</div>\n",
              "\n",
              "    </div>\n",
              "  </div>\n"
            ],
            "application/vnd.google.colaboratory.intrinsic+json": {
              "type": "dataframe",
              "variable_name": "embedding_df",
              "summary": "{\n  \"name\": \"embedding_df\",\n  \"rows\": 10,\n  \"fields\": [\n    {\n      \"column\": \"id\",\n      \"properties\": {\n        \"dtype\": \"string\",\n        \"num_unique_values\": 10,\n        \"samples\": [\n          \"5d7c0a17-2153-46c5-a9b6-4f35a083f0f0\",\n          \"b6bafc99-f145-44e4-9dad-17758e31af10\",\n          \"5590aea5-3ba2-4c8d-9909-a24ef320ca43\"\n        ],\n        \"semantic_type\": \"\",\n        \"description\": \"\"\n      }\n    },\n    {\n      \"column\": \"embedding\",\n      \"properties\": {\n        \"dtype\": \"object\",\n        \"semantic_type\": \"\",\n        \"description\": \"\"\n      }\n    },\n    {\n      \"column\": \"page_source\",\n      \"properties\": {\n        \"dtype\": \"string\",\n        \"num_unique_values\": 10,\n        \"samples\": [\n          \"./Images/04a02.pdf_7.jpg\",\n          \"./Images/04a02.pdf_6.jpg\",\n          \"./Images/04a02.pdf_8.jpg\"\n        ],\n        \"semantic_type\": \"\",\n        \"description\": \"\"\n      }\n    },\n    {\n      \"column\": \"text\",\n      \"properties\": {\n        \"dtype\": \"string\",\n        \"num_unique_values\": 10,\n        \"samples\": [\n          \"FEATURED ARTICLES\\nFigure 8 - Diagram of Induced Voltage Countermeasures\\nMeasures were taken to reduce the induced current when disconnecting and connecting the lead wire between the transformer and cable heads, which\\nreduced the risk of accidental electric shocks and allowed work to proceed.\\nLead wire\\nBg\\nUnit No. 8 GSUT\\nNeutral point grounding\\nElectric shock risk while working\\n(induced current from unit No. 9 cable)\\nHV winding\\nSteps (2) and (5)\\nUnit No. 9\\nUnit No. 8\\n(operating)\\n(stopped)\\nCH\\nlo1 + lo2\\n\\u2192\\u2192\\n\\u2193\\nlol\\nWork grounding\\nStep (1)\\nSteps (3) and (4)\\n102\\nWork timing\\nWhen disconnecting\\nexisting transformer\\nlead wire\\nWhen connecting new\\ntransformer lead wire\\nActions\\nReduce induced current by constructing detour circuit (procedure below)\\n(1) Connect the grounding wire to the CH section\\n(2) Disconnect the grounding wire connected to the neutral point\\n(3) Measure the current flowing to the lead wire with a clamp meter\\n(4) If there is no energized current or the current is low, cut the lead wire (x section) according\\nto the worksite instructions (quality assurance staff)\\n(5) After work, reconnect the grounding wire to the neutral point\\nAs above [in step (4), connect the lead wire]\\n+\\nFurther reduce the induced voltage by limiting the output of unit No. 9\\n(from normal level of 500 MW to 250 MW during work)\\nHV: high-voltage side CH: cable head Bg: bushing\\n5. Prevention of Accidental\\nElectric Shocks\\nDuring the work disconnecting the existing transformer\\nfrom the cable heads, induced current from the adjacent\\noperating unit No. 9 was observed. As a result, Hitachi\\nconsidered countermeasures against electric shocks (see\\nFigure 8).\\nMeasures to reduce the induced current were taken by\\nconstructing a detour circuit when disconnecting the lead\\nwire between the existing transformer and the cable heads.\\nThe results of subsequent verification also confirmed the\\neffect of reducing the induced current by limiting the out-\\nput of unit No. 9. Therefore, when connecting the lead wire\\nbetween the new transformer and the cable heads, in addi-\\ntion to constructing the detour circuit, Hitachi asked the\\ncustomer to limit the output of unit No. 9, which further\\nreduced the induced current and made the work safe.\\n6. Conclusions\\nThis project to help solve the social problem of a power\\nsupply crunch was an invaluable experience for Hitachi, as\\nit looked beyond conventional frameworks to take the best\\nactions it could, while sharing with the customer infor-\\nmation about the risks and opportunities of shortening\\nprocesses. Hitachi made a significant contribution to power\\nsupply stabilization in Japan by rapidly restoring the unit\\nNo. 8 GSUT.\\nAcknowledgments\\nIn the work on the rapid restoration of the unit No. 8\\nGSUT at the Nakoso Power Station of Joban Joint Power\\nCo., Ltd., Hitachi received the support of Joban Joint Power\\nCo., Ltd. and many other stakeholders. The authors would\\nlike to express their deepest gratitude to everyone involved\\nin the project.\\nHitachi Review Vol. 72, No. 4 438-439\\n67\\n | Work timing | Actions |\\n| :--- | :--- |\\n| When disconnecting existing transformer lead wire | Reduce induced current by constructing detour circuit (procedure below) |\\n| | (1) Connect the grounding wire to the CH section |\\n| | (2) Disconnect the grounding wire connected to the neutral point |\\n| | (3) Measure the current flowing to the lead wire with a clamp meter |\\n| | (4) If there is no energized current or the current is low, cut the lead wire (x section) according to the worksite instructions (quality assurance staff) |\\n| | (5) After work, reconnect the grounding wire to the neutral point |\\n| When connecting new transformer lead wire | As above [in step (4), connect the lead wire] |\\n|  | Further reduce the induced voltage by limiting the output of unit No. 9 (from normal level of 500 MW to 250 MW during work) |\",\n          \"275 kV switching\\nstation electric room\\nUnit No. 8 GSUT yard\\nand turbine building\\nExisting spare core used as cable for testing\\nNew cable for testing laid out\\nSwitching station\\nelectric room\\nCentral control room\\nStation power supply\\nswitchgear room\\n---\\nTo power generation\\n...equipment\\nUnit No. 8 GSUT yard\\nCooler control panel\\nFigure 7 - Diagram of Cable Layout for\\nSystem Testing at Site\\nA communication line (2 cores), standard line\\n(2 cores), and matching phase detection line (1\\ncore) were laid out. The results of an advance\\nsite investigation showed the need to lay out\\nnew cables for testing in sectors with no exist-\\ning spare cores.\\nthe 40-year-old design that could not be duplicated. The\\ncountermeasures for such areas were reviewed closely by\\nexperts as Hitachi made every effort to assure the quality\\nof the new transformer.\\n4. 1. 1 Discontinued Parts\\n(1) Resistance thermometer\\nThe manufacturer had discontinued the manufacture of\\nthe existing part, but a different manufacturer was found\\nto produce an alternative (same specifications as the exist-\\ning part).\\n(2) High-voltage bushing\\nThe manufacturer had discontinued the manufacture of\\nthe existing part, but a different manufacturer was found to\\nproduce an alternative. Since the dimensions varied greatly\\nfrom the existing part, areas such as the interfacing parts\\nand the lead wire were re-examined.\\n(3) Steel material of main unit tank\\nThe steel marine (SM) material of the existing unit is\\nno longer used, so the current steel structure (SS) material\\nwas studied instead.\\n4.1.2\\nDifferences between Initial Delivery and\\nPresent Time\\n(1) Main unit tank material transportation\\nA transportation compliance review showed that trans-\\nportation with the same dimensions as the existing unit\\nwould not be possible. This resulted in a plate-mounted\\nsplit structure for the main unit tank.\\n(2) Review of internal standards\\nTo prevent the overheating of bolts and other parts by\\nthe current circulating through locations such as the cable\\npocket, a conductor for current energization was added to\\nthe flange and the welding structure was changed.\\n4.1.3\\nMatching Interfaces with Existing Cable Heads\\nSince it was necessary to match the interfaces with the\\nexisting cable heads, the dimensions at the site were mea-\\nsured and the structure was changed to one with plenty of\\nallowance for adjustments, such as changing the bolt hole\\ndiameters and increasing the number of part divisions.\\n4.2\\nProposals for Future Preventive Maintenance\\nThe results of the investigation into the cause of the fail-\\nure of the unit No. 8 GSUT showed that a short circuit\\noccurred between taps. This was caused by overheating and\\ndamage of the contacts on the LTC main unit tank side, due\\nto aging. About 40 years had elapsed since this transformer\\nhad started operations and the number of LTC switches\\nwas about 120,000, which is approximately one quarter of\\nthe number of switches generally expected. From these\\nfacts, it was deduced that the failure was a phenomenon\\nmore likely to occur under the conditions of both \\\"signifi-\\ncant aging\\\" and a \\\"low LTC switching frequency.\\\" (When\\nsurface roughness and level differences between specific\\ncontacts progress due to use in a limited tap range and the\\nterminal position remains fixed, overheating occurs more\\neasily due to deterioration of contact energization, carbon\\nadhesion, and other factors.)\\nAs preventive maintenance for the future, in addition to\\nlifting inspections of the changeover switches on the regular\\nmaintenance menu, Hitachi added contactor inspections for\\nthe LTC segment (tap selection device, polarity switch) on\\nthe tank side of the transformer main unit in significantly\\naged equipment to the maintenance menu.\\n | 4.1.2 | Differences between Initial Delivery and Present Time |\\n| :---: | :---: |\\n| (1) | Main unit tank material transportation |\\n| (2) | Review of internal standards |\",\n          \"68\\nReferences\\n1) Agency for Natural Resources and Energy (ANRE), Ministry\\nof Economy, Trade and Industry (METI), \\\"Measures for\\nElectricity Supply and Demand for FY2021 Winter\\\" (Oct.\\n2021) in Japanese, https://www.meti.go.jp/press/2021/10/2\\n0211027003/20211027003-1.pdf\\n2) ANRE, METI, \\\"Outlook and Measures for Electricity Supply\\nand Demand for FY2022\\\" (Jan. 2022) in Japanese, https://\\nwww.meti.go.jp/shingikai/enecho/denryoku_gas/\\ndenryoku_gas/pdf/044_04_00.pdf\\n3) Japan Atomic Energy Relations Organization (JAERO),\\n4)\\n\\\"Nuclear and Energy Drawings [1-2-07] Change in Electricity\\nGenerated and Received by Source\\\" in Japanese, https://\\nwww.ene100.jp/zumen/1-2-7\\nJ\\u00f5ban Joint Power Co., Ltd., \\\"Electricity Sales and\\nFuel Consumption\\\" in Japanese, http://www.\\njoban-power.co.jp/category/nakoso_power_plant/\\nelectricity_sales_and_fuel_consumption/\\nAuthors\\nHikaru Fujita\\nT&D Engineering Department, Transmission System\\nDivision, Transmission & Distribution Systems\\nDivision, Power Grids Business Unit, Hitachi, Ltd.\\nCurrent work and research: Engineering of substation\\nsystems for industry.\\nMasaru Kashiwakura\\nTransformer Department, T&D Engineering and\\nProduction Division, Transmission & Distribution\\nSystems Division, Power Grids Business Unit, Hitachi,\\nLtd. Current work and research: Engineering of\\nmaintenance work for large-capacity transformers.\\nSociety memberships: The Institute of Electrical\\nEngineers of Japan (IEEJ).\\nAkihiro Kawagoe\\nValue Integration Center, Energy Business Division,\\nHitachi, Ltd. Current work and research: Procurement\\nof goods for T&D equipment production.\\nHisaki Hamamoto\\nTransformer Department, T&D Engineering and\\nProduction Division, Transmission & Distribution\\nSystems Division, Power Grids Business Unit, Hitachi,\\nLtd. Current work and research: Production control of\\ntransformers.\\nTetsuo Niitsuma\\nTransmission and Distribution QA Department,\\nQuality Assurance Division of Power Grids Business\\nUnit, Power Grids Business Unit, Hitachi, Ltd. Current\\nwork and research: Quality assurance of transformers.\\nYuzuru Mitani\\nBusiness Administration & Engineering Department,\\nT&D Engineering and Production Division,\\nTransmission & Distribution Systems Division, Power\\nGrids Business Unit, Hitachi, Ltd. Current work and\\nresearch: Engineering of transportation and site\\ninstallation.\\n | Authors | \\n|---|---|\\n| Hikaru Fujita | \\n| Masaru Kashiwakura | \\n| Akihiro Kawagoe | \\n| Hisaki Hamamoto | \\n| Tetsuo Niitsuma | \\n| Yuzuru Mitani |\"\n        ],\n        \"semantic_type\": \"\",\n        \"description\": \"\"\n      }\n    }\n  ]\n}"
            }
          },
          "metadata": {},
          "execution_count": 14
        }
      ],
      "source": [
        "def generate_text_embedding(text) -> list:\n",
        "    \"\"\"Text embedding with a Large Language Model.\"\"\"\n",
        "    embeddings = text_embedding_model.get_embeddings([text])\n",
        "    vector = embeddings[0].values\n",
        "    return vector\n",
        "\n",
        "\n",
        "# Create a DataFrameLoader to prepare data for LangChain\n",
        "loader = DataFrameLoader(df, page_content_column=\"page_content\")\n",
        "\n",
        "# Load documents from the 'page_content' column of your DataFrame\n",
        "documents = loader.load()\n",
        "\n",
        "# Log the number of documents loaded\n",
        "print(f\"# of documents loaded (pre-chunking) = {len(documents)}\")\n",
        "\n",
        "# Create a text splitter to divide documents into smaller chunks\n",
        "text_splitter = CharacterTextSplitter(\n",
        "    chunk_size=10000,  # Target size of approximately 10000 characters per chunk\n",
        "    chunk_overlap=200,  # overlap between chunks\n",
        ")\n",
        "\n",
        "# Split the loaded documents\n",
        "doc_splits = text_splitter.split_documents(documents)\n",
        "\n",
        "# Add a 'chunk' ID to each document split's metadata for tracking\n",
        "for idx, split in enumerate(doc_splits):\n",
        "    split.metadata[\"chunk\"] = idx\n",
        "\n",
        "# Log the number of documents after splitting\n",
        "print(f\"# of documents = {len(doc_splits)}\")\n",
        "\n",
        "texts = [doc.page_content for doc in doc_splits]\n",
        "text_embeddings_list = []\n",
        "id_list = []\n",
        "page_source_list = []\n",
        "for doc in doc_splits:\n",
        "    id = uuid.uuid4()\n",
        "    text_embeddings_list.append(generate_text_embedding(doc.page_content))\n",
        "    id_list.append(str(id))\n",
        "    page_source_list.append(doc.metadata[\"page_source\"])\n",
        "    time.sleep(1)  # So that we don't run into Quota Issue\n",
        "\n",
        "# Creating a dataframe of ID, embeddings, page_source and text\n",
        "embedding_df = pd.DataFrame(\n",
        "    {\n",
        "        \"id\": id_list,\n",
        "        \"embedding\": text_embeddings_list,\n",
        "        \"page_source\": page_source_list,\n",
        "        \"text\": texts,\n",
        "    }\n",
        ")\n",
        "embedding_df.head()"
      ]
    },
    {
      "cell_type": "markdown",
      "metadata": {
        "id": "NQ2iLT3BG8vS"
      },
      "source": [
        "### Creating Vertex AI: Vector Search\n",
        "The code configures and deploys a vector search index on Google Cloud, making it ready to store and search through embeddings.\n",
        "\n",
        "Embedding size :  The number of values used to represent a piece of text in vector form. Larger dimensions mean a denser and potentially more expressive representation.\n",
        "\n",
        "\n",
        "Dimensions vs. Latency\n",
        "\n",
        "* Search: Higher-dimensional embeddings can make vector similarity searches slower, especially in large databases.\n",
        "* Computation: Calculations with larger vectors generally take more time during model training and inference.\n"
      ]
    },
    {
      "cell_type": "code",
      "execution_count": 35,
      "metadata": {
        "id": "WtCRJeKsYc6w"
      },
      "outputs": [],
      "source": [
        "VECTOR_SEARCH_REGION = \"us-central1\"\n",
        "VECTOR_SEARCH_INDEX_NAME = f\"{PROJECT_ID}-vector-search-index-ht\"\n",
        "VECTOR_SEARCH_EMBEDDING_DIR = f\"{PROJECT_ID}-vector-search-bucket-ht\"\n",
        "VECTOR_SEARCH_DIMENSIONS = 768"
      ]
    },
    {
      "cell_type": "markdown",
      "metadata": {
        "id": "6pu1a3zjfQ0D"
      },
      "source": [
        "### Save the embeddings in a JSON file\n",
        "To load the embeddings to Vector Search, we need to save them in JSON files with JSONL format. See more information in the docs at [Input data format and structure](https://cloud.google.com/vertex-ai/docs/matching-engine/match-eng-setup/format-structure#data-file-formats).\n",
        "\n",
        "First, export the `id` and `embedding` columns from the DataFrame in JSONL format, and save it.\n",
        "\n",
        "Then, create a new Cloud Storage bucket and copy the file to it."
      ]
    },
    {
      "cell_type": "code",
      "execution_count": 36,
      "metadata": {
        "colab": {
          "base_uri": "https://localhost:8080/",
          "height": 0
        },
        "id": "mSqVnRpqh7Yc",
        "outputId": "f019da6f-aec2-41f1-c98e-6961bcc36e3b"
      },
      "outputs": [
        {
          "output_type": "stream",
          "name": "stdout",
          "text": [
            "{\"id\":\"714e52f1-8dc0-482d-84ba-989627d13cd2\",\"embedding\":[-0.0144710643,-0.0212790966,-0.0623455532,0.0337152705,0.0858875513,-0.001913367,0.0457420908,-0.0125342365,0.0507988967,0.0329192877,-0.0277074445,-0.0021401157,0.0122524388,-0.0294360239,0.0471643619,-0.0046873344,0.0400046743,0.0183758419,-0.0162280928,-0.0424619354,-0.0032298383,0.0276455544,0.0320943221,-0.0379265435,0.0005838303,-0.0269940328,-0.0278146528,-0.0390716977,0.0019440308,0.0089309486,-0.0316851512,0.052841913,-0.0184070151,0.0042155548,-0.0207022466,-0.008723218,-0.0122870011,0.0435494184,-0.0223952495,0.0409265421,0.008262028,0.0272148754,-0.0086590806,0.000789236,0.0101942262,-0.0439047217,0.0064334846,0.0315717682,0.0343813859,-0.0450355634,-0.0486960188,0.0208979696,0.0243157744,-0.0161126759,0.0151508395,-0.0150400093,0.0002823099,0.0033944503,-0.0160932243,0.0138917109,-0.0435872823,-0.0101945037,-0.0395506285,0.0256110169,-0.0397644565,-0.070062764,-0.0299651083,0.008730622,0.0615525544,-0.0678610727,0.0078104665,-0.0362986624,0.0633397251,-0.0077903676,-0.0442335941,-0.1027573422,-0.0334007442,0.0433342494,0.0373408981,0.0029220704,-0.0280334391,-0.0342643745,-0.0052377102,-0.033512447,-0.0917296037,0.0241051763,-0.0172820259,0.0070984252,-0.0464078374,0.0207049139,0.0578479245,0.028864257,0.0560342111,-0.0454617105,-0.0074136006,0.0206594244,0.0276352838,-0.039402198,0.0233612563,-0.0598752424,-0.0227276217,-0.0311460551,-0.0111062936,-0.0077058356,0.0278875902,0.0154332612,-0.0183557514,0.0328802168,-0.042630773,0.0071067512,-0.0356593095,-0.0327015817,-0.0035602364,-0.0482478589,0.0317109227,-0.0425209217,-0.0115367901,0.0486341305,0.0636847392,-0.0252616797,0.0163503736,0.016749341,0.0738049522,-0.0015983171,-0.0125016691,0.021294117,0.0111370841,0.0232025385,0.0361077264,0.0532773398,-0.0250709783,-0.0676411018,0.009181736,-0.0281629227,0.0233310349,0.0016573751,0.0465601757,0.0066330368,0.0589942597,-0.0223062765,-0.0484918356,-0.0092315497,0.0194049776,0.0307827219,-0.0044582128,0.0075947745,0.0074372832,0.0434941202,0.0446629934,0.020465361,-0.0553075746,0.0262883678,0.0038828494,-0.0091963382,0.0495281629,0.030355338,-0.0119090509,0.0371320769,-0.0300038382,0.0076873065,0.0278825667,0.0497048981,0.001492232,0.0245514382,-0.0804996341,0.0198373087,0.0026813042,-0.0292321574,-0.0141602317,0.0249585863,-0.020845186,0.0117619028,-0.0028291163,-0.0434800163,-0.0470806733,-0.0335616432,0.0265017822,0.0197240841,-0.0394393802,0.0516969971,-0.0230990611,-0.0105754146,0.0147792827,0.0810650662,0.0495050475,-0.0165419355,0.0658534169,-0.049128592,-0.0549377389,0.0337380841,-0.0233614333,0.0021585021,-0.0314573534,-0.0453488268,-0.0453383736,0.0829158798,-0.0146365762,-0.0137435878,0.0219179597,-0.0355172232,-0.0076679094,0.0957945436,0.0344512984,-0.0140199112,0.0313338637,-0.046618972,0.0275698565,0.0033170481,-0.0214377977,0.0286577195,-0.052065637,0.0332120284,-0.0095487554,0.0331241116,0.015459043,0.0356537402,0.0308135245,0.0643624887,0.0129338335,-0.0157372765,-0.0022687048,-0.0171562843,-0.0076711276,0.0431744121,-0.0255479999,-0.0122498209,-0.0261934996,0.039700985,-0.01886045,-0.0463259742,0.0329370312,0.0871069953,0.0128291128,-0.0113269761,0.0277998969,0.005405596,-0.0364275426,0.0316787995,0.0804042816,0.0168472528,-0.0279739406,0.0611713231,0.0191516858,-0.0429920703,-0.0324410945,-0.0702220052,-0.0093185958,0.0427808799,0.0374410823,0.0046968642,-0.0274356063,-0.0561233759,0.0760122314,0.0236183386,-0.0382766575,0.0370707996,-0.0620491579,-0.0375137329,-0.025912514,-0.0326783583,0.0165748745,0.0063589672,0.0104241418,-0.0372128151,-0.0222917553,0.0114760222,0.0145339258,-0.0462359153,0.0566854812,0.0087366551,0.0361987241,-0.0810244754,0.0192425027,0.0243809558,-0.0058915354,-0.0280192476,-0.0511885472,0.0416776612,0.0355388708,0.0130746691,0.0103853857,0.0156629682,-0.0245406274,-0.0151703097,0.0395099372,-0.0190468542,-0.0299044438,-0.0366554409,0.0015310729,-0.0427287892,-0.0519942269,0.0155884549,0.0115457317,-0.0243834872,-0.0479522757,0.001482756,-0.0092145335,0.0419722572,0.0086091114,-0.0128541682,-0.0228241645,-0.0665539727,-0.0734692812,-0.0829802826,0.0245269258,0.0248270631,-0.0461193137,-0.0257313848,0.0360026769,-0.0418787561,0.0008423747,-0.050445132,-0.0071649817,0.0082264133,0.0176830254,-0.0023542745,-0.0320724435,0.0282772183,-0.0219732001,0.0202522669,-0.0000025439,0.0139820231,0.0434235819,-0.0278553031,0.0073317969,0.0633948222,-0.0471871123,0.0687427372,-0.0321836621,0.0050812154,-0.0181863904,0.0012818066,0.0109625403,0.0439798459,0.0265424568,-0.028995648,-0.0621404648,0.0161862485,0.0118101453,-0.0089136418,0.0070682121,0.002189856,-0.021341918,-0.0466406234,0.0100987563,-0.0395152457,-0.0364045314,0.0389224142,0.0864977688,0.0374733955,0.0481634289,0.0171955135,-0.0537957288,0.0002869758,-0.0003701243,-0.0189405698,0.0671944544,-0.0156587902,0.067789346,-0.0237638131,-0.0222844835,0.0109684393,-0.0508151948,-0.0482077897,0.0200993121,0.0305832643,0.0086892806,-0.0082637565,-0.0437240787,0.0313346498,0.00513461,-0.036581222,0.0791727528,-0.0188525673,-0.0462816432,-0.0068975482,-0.0551272742,-0.0277730823,0.0268591605,0.026721295,-0.0422149077,-0.0235446654,0.0575689115,0.0001089287,-0.0112904152,0.015018044,0.0212767143,0.0425651185,-0.0140025113,0.020579163,0.0200162921,-0.0205091666,0.0519953109,0.0325273909,-0.008028049,-0.0017001657,-0.0503090248,-0.0413421243,0.019837467,0.0178252328,0.0193378534,-0.0610972531,-0.0099525899,-0.0040206932,0.0054358244,-0.0271821953,0.015457199,-0.011201648,-0.0224180166,-0.0408731438,0.0138355996,0.006940092,0.0079571679,-0.06421002,-0.0176508483,-0.0365279503,0.0622763336,-0.0365735777,-0.0065742582,0.0253900755,-0.0408102982,0.0148277162,-0.0171945896,0.0106051769,-0.0636915863,-0.0537734292,0.0340368599,-0.0014853741,0.0311480686,0.0525720343,0.0228038654,-0.0347340629,0.0253797639,-0.0068088286,0.026831571,-0.0108413836,0.0249026585,0.0302275661,-0.0215828605,-0.0111255236,0.0139318602,-0.019952504,0.0568125285,-0.0332402848,-0.0400282219,0.0095931245,-0.003962277,-0.0542601123,0.0375924967,-0.0785655454,0.0461415276,-0.0439761132,-0.0452802666,-0.0536911637,-0.0436032861,-0.0230472442,-0.034607999,0.0460476093,-0.0028148475,-0.0014608973,0.0216217749,-0.0258023739,-0.023120014,-0.0563713163,0.0415249318,-0.0198091455,0.0375466533,-0.0599624477,0.0504117794,0.0286429953,-0.007456135,-0.0143188927,0.0381378382,-0.0376915485,-0.0169878453,0.0181916095,-0.0878923461,0.0249370299,-0.0494456887,-0.0201506689,0.0393650942,-0.0390023701,0.0399989672,0.0313303955,0.0084909499,0.0297402386,-0.009992335,-0.0348830558,0.0265048072,0.0481378026,-0.031521704,-0.0148323635,-0.0446341038,-0.02902372,-0.0083613144,0.0325247534,-0.0280285683,0.0326190144,0.0295037795,-0.0032080479,0.010296152,-0.0012898636,-0.0500664078,-0.0220083259,0.0163073279,-0.0493706577,0.0296384413,0.038545236,0.036950253,-0.004604842,0.0380743071,0.0091477539,-0.0403121114,-0.0259688087,0.0065946402,0.0372994542,-0.0303720329,0.0025464243,-0.0097187161,0.0075211483,0.0250370279,0.0211847108,-0.1233756319,-0.010087234,0.0225118566,-0.0455916822,-0.0436505638,0.0154011883,-0.0738153383,-0.0107866293,-0.0070646079,0.099726364,0.0098077422,0.0364514068,0.0182902589,0.0019987714,0.0347232409,0.065388076,0.0670287758,0.0268585403,0.0075298171,-0.0211406983,-0.0104820356,0.0229142494,0.0318271928,0.005422384,-0.002370971,-0.0256844517,0.0260564424,-0.0180595163,0.0243147146,0.0004812767,0.0002200181,-0.0446091034,0.0398348384,-0.01541158,-0.0458355546,-0.0142669491,-0.0135720875,0.0098169399,0.0020881512,-0.0457838252,-0.0330257639,0.0190329105,0.0444290303,0.095568642,-0.0273840036,-0.0533290692,0.0499790646,-0.053161636,0.0151355127,0.0145701133,0.0056484616,-0.0104244733,0.059853632,-0.0616004765,-0.0256011635,0.0195807498,-0.0418407917,0.0384468138,0.0516710505,0.0032151088,-0.0262385476,0.0275768824,-0.0061175944,0.0357842222,0.0464847423,-0.0066154199,0.0133634871,-0.0331854708,-0.0271809679,0.0309493411,-0.0789322779,0.0034192849,-0.0112856273,0.014157122,-0.0437662303,-0.0268157125,0.0062510027,-0.0189626515,-0.0156036196,-0.0612040311,0.0290596485,-0.0228428058,-0.0089530461,0.0137436809,-0.0018295385,0.0020983897,0.0089759817,0.0020159737,-0.0250762273,0.0004597408,0.0141655058,-0.0027023535,-0.0024746689,-0.0174837876,0.0533114262,0.0217608195,-0.0817765594,-0.082503207,0.0189758446,0.0102161588,-0.0345467106,0.0034861795,0.0193786416,-0.0358300023,-0.0111358399,-0.0240964312,0.0677544475,0.0155357942,0.042278599,0.0592179485,0.0146231353,-0.0463763364,-0.0686190277,-0.0140110599,0.0159971938,0.0046908678,0.0160221756,0.0297137108,-0.0941552073,0.0137721626,0.0135589838,-0.0368951745,-0.0048986496,0.0913498253,-0.0302067585,-0.1222174317,-0.0167126302,0.0000835139,-0.0669380575,-0.0141148409,0.0159509499,0.0019172847,0.0237624068,0.0084548024,-0.0567060113,-0.0356120504,0.021336874,0.0142458221,-0.0329247229,0.0094063804,-0.0439840592,0.0189073458,0.0859903097,0.0043970156,-0.0408813022,-0.0535695925,-0.0664745495,0.0358351581,-0.0159591883,0.0709557384,0.0338247381,0.0096894382,0.0302616861,0.0314289629,-0.0155635951,-0.0173161197,0.0219537131,-0.0026864295,0.0216748193,0.010663433,-0.0053345407,-0.016913699,0.0078017893,0.0064003328,0.0336719789,-0.0047191321,-0.0014364575,-0.0391362682,0.014777327,-0.0052060545,-0.0289434902,-0.0041051949,0.0391728468,0.006757821,-0.0071062096,-0.00230789,0.0139288679,0.0568988398,-0.0378662683,-0.0343808383,0.0344575383,0.0267771799,0.0124728065,-0.0320024751,0.0020196368,0.0209427401,0.0709800422,0.0735247359,0.0738609582,-0.0696533546,-0.0410325453,0.0273738615,0.0131272944,-0.004335044,-0.0506022312,-0.0131679727,-0.0418794677,0.0856790319,0.0280347988,0.021849636,0.0094593102,-0.039855931,-0.0178733058,0.062045861,-0.0209308546,0.0084543703,-0.0197208915,0.0037287411,0.0396704525,-0.0194835532,0.0077038957,0.0353226624,-0.0220235251,0.1180332005,0.0097564543,0.0149196321,-0.00610069,-0.0367645584,-0.0463937595,-0.0340409689,-0.0024004425,0.0420499742,-0.0116495918,-0.0759977549,-0.0465604626,-0.0280460231,-0.0128009254,0.0111150593,-0.0658551306,0.0408318676,0.006452309,0.0445045047,0.0505161956,-0.0640308857,0.0193959922,-0.008855992,0.0067973915,-0.0380587094,0.023234332,0.0378712267,0.0013714563,-0.0514436886,0.0270431545,0.0320606567,-0.0315687135,0.0082926629]}\n",
            "{\"id\":\"b6bafc99-f145-44e4-9dad-17758e31af10\",\"embedding\":[0.0014127812,-0.0175532475,-0.0578213409,0.0088775605,0.0358158387,0.0210359711,0.0187452901,-0.0175990127,0.0707197934,0.0175599568,-0.0237641484,-0.038822908,0.0159745757,-0.005479841,0.0440617502,-0.0292343684,0.0364140496,0.0766760036,-0.004946027,-0.0278548524,0.0139572434,-0.0075669209,0.0128482589,-0.0487532578,-0.0579085834,-0.0223694518,-0.0047414992,-0.0311039463,-0.0498149917,0.0000323315,-0.0323982798,0.0424067862,-0.0837475359,0.0175122004,0.0054959375,-0.0469231121,-0.0118432706,0.0072079622,-0.0318213664,0.0206612609,0.0134809799,0.003430895,0.01510977,-0.0216356609,0.0012470272,0.0029016421,0.0046739499,0.0269939378,-0.0131796896,-0.0328887552,-0.0364800654,-0.0280762278,0.0615600012,-0.0068760524,0.0197584834,-0.0162856318,0.0126351295,-0.0094273137,-0.0105947889,0.0228072572,0.0029445027,0.0078694643,-0.0362426527,0.0105446,-0.0338195227,-0.0396415628,-0.0752685443,0.0177247375,0.0666039884,-0.0728076622,0.0564372316,-0.0106660891,0.0183079559,-0.013248126,-0.0732208714,-0.1129702479,-0.0358259268,0.0670000687,0.0254399739,0.0138206892,-0.0058802399,0.006409754,-0.0207125545,-0.0466757789,-0.0556836799,0.0100216558,-0.0300717093,0.0014226681,-0.0396242365,-0.0138467597,0.0543030091,-0.0064713042,0.0764119402,-0.0474532954,0.0187743902,-0.0092014074,0.0089176102,-0.0207055751,0.0064022276,-0.0644482151,-0.0378734954,-0.020364102,-0.0327180997,-0.023755271,0.0483618155,0.0134926764,0.0122359674,0.0262271557,-0.0574520305,-0.0009749164,-0.0265410785,0.0064414386,0.0076601864,-0.0377391092,0.0114655653,-0.0090118106,-0.0277744979,0.0587224066,0.0341473557,-0.0023955328,0.0298549272,-0.0221005864,0.0356332883,0.013546275,-0.0277215876,0.0372776873,0.0288089663,0.0518018752,0.0836724117,0.0733677968,-0.0362849981,-0.0454479195,0.0024314348,0.0076527894,0.0341664962,0.0559756197,0.0453864187,0.0415939502,0.0585766546,0.0134116337,-0.0575070716,0.0045830291,-0.0150985941,0.0270772111,0.0075442623,-0.0345000997,0.0147755081,0.0221422389,0.0462477766,-0.0309025291,-0.0146825602,-0.0046089995,-0.038462881,0.0028075632,0.0240414869,-0.0045306892,-0.0239845589,0.0289071351,-0.0453267246,0.0113949263,0.043304529,0.0281768274,0.019931918,0.0093112541,-0.0547833443,-0.0254239067,0.0113990456,-0.0041785804,-0.0171411522,-0.0088967718,-0.0377044827,0.0675034523,-0.0053728363,-0.0579244271,-0.0352807641,0.005881506,0.0423452742,0.0211184137,-0.0633986369,0.0458829701,-0.0717840642,-0.0226225089,0.0172061063,0.0168747548,0.0419213623,0.0131050581,0.0612887479,-0.0142143369,-0.0373900495,-0.0121167833,-0.0304620713,0.0056982711,-0.0809973925,-0.0580851473,-0.0164279994,0.0683809519,-0.0284933485,-0.0117936227,-0.0213215072,-0.0461604334,-0.0062332666,0.0631181747,0.0022852803,-0.0161345545,0.0222862512,-0.009982843,0.042721469,0.0006427896,-0.0369765013,0.0488030165,-0.0703787729,0.0088105174,-0.0168199185,-0.0181212369,0.0195566304,0.0319339074,0.0137195662,0.035687115,0.0280602481,-0.0438554101,-0.0136397826,0.0168625731,0.0253442228,0.0362638757,0.0030612643,-0.0134064965,-0.0229674652,0.0328197032,0.0390306152,-0.103396073,0.0086018853,0.0377032831,0.0101759518,-0.0116960835,-0.0039512692,-0.016974315,-0.0159153156,0.0367488787,0.0186539721,0.010722613,0.0158251487,0.079511866,0.0280482154,-0.0285162497,0.0201543067,-0.073415637,0.0452856459,0.0517909192,0.0441683084,0.0202404633,-0.0353173614,-0.0811801776,0.047929503,0.0794805661,-0.045514483,0.0553253852,-0.0382093228,-0.0204888713,-0.0344988331,-0.0250061639,0.0267323032,-0.0041943919,0.0041735219,-0.0375342071,-0.0241691284,0.0193033777,0.0179824643,-0.0741511062,0.0468281955,-0.0208477564,-0.0003104301,-0.0850470364,0.0178795364,0.0234197304,-0.0146642374,-0.0149268415,-0.0565511733,0.0534086153,-0.0506986678,-0.001810551,-0.0202192869,0.0275222696,0.0327447504,-0.0490294322,0.0202514939,-0.0183885098,-0.0241991878,-0.0069363979,-0.0014113376,-0.0665800124,-0.0475024842,-0.0001410826,0.0075757494,-0.0510209873,-0.0009929354,-0.0302129369,-0.0177195799,0.017180346,-0.017209718,-0.0155089544,-0.0398363806,-0.0430502407,-0.0580488592,-0.0788355172,-0.0070657064,0.0579389706,-0.0352691151,-0.0392832831,0.0395522155,-0.0546924397,-0.0224582795,-0.0505204536,-0.0333860405,0.0097188605,-0.0130914412,0.0240515638,-0.0320106931,0.0321273468,-0.0161991846,-0.0226815883,-0.0027071889,0.0412304252,0.031460911,-0.0294066686,0.0271664429,0.0593559146,-0.0326724313,0.0701351017,-0.0036823698,-0.0001090941,-0.0088594938,-0.0376660973,-0.0162764974,0.0260850005,0.0190219693,-0.008653312,-0.0487285629,-0.017902486,-0.0313890167,-0.0177084114,0.0100255329,-0.0205807369,0.0069914749,-0.0444680266,0.0078156944,-0.0394717827,-0.0409783274,0.0397872292,0.0419962443,0.0413175225,0.032198444,0.0788124353,-0.0575945713,0.0027794505,-0.0058060628,-0.0156407952,0.043029055,-0.0498554409,0.0454308726,-0.0814917982,-0.0488544926,0.0370325074,-0.0142603833,-0.0160885137,0.0215165615,0.0211172607,0.0078843879,0.0024094442,-0.0528687015,0.0069340044,0.0229120702,-0.055993408,0.0412553251,-0.0220019445,-0.0259543285,-0.0599773005,-0.0539237075,-0.049021244,0.025204869,0.0328062177,-0.0526913851,0.0019153117,0.0500475802,0.026114868,-0.000296298,-0.0069232583,-0.0010720423,0.049441874,0.0197984744,0.0635517761,-0.0203794055,0.0084041981,0.0532493405,0.0000172904,-0.0003011254,0.0385750532,-0.0192720909,-0.0351157822,0.021745149,0.0459274314,0.0179596562,-0.045171354,-0.0278460663,-0.040560782,0.0039411751,-0.0382225625,0.0067970902,-0.0327279009,-0.0105531905,-0.0230679661,0.0147242621,0.0470301397,0.0153624872,-0.0669314936,-0.0432729647,-0.0374124385,0.0579103939,-0.0232509989,0.004382832,0.0283603892,-0.0133316191,-0.0102109341,0.0046944991,-0.0183781479,0.0095391721,-0.02495124,-0.0027471813,-0.0386145003,0.0151337879,0.0452636108,0.0473415516,-0.0051032891,-0.0139955701,-0.0356756225,0.0464188606,-0.0012174279,-0.0058123432,-0.0129812183,-0.0304740686,0.0149972104,-0.0076601561,-0.0555614457,-0.0050076218,0.0231904648,-0.0198868625,-0.0174439624,0.0268152803,-0.0627305135,-0.0019112896,-0.0879361629,0.0355610214,-0.0393260382,-0.0153527679,-0.0015422648,-0.0305329673,-0.048318658,0.0208633374,0.0621066615,0.0015403316,0.0149742682,0.0258582775,-0.0400090143,0.0171591416,-0.0073141623,0.043660108,-0.0248380825,0.0352161974,-0.0454260856,0.0325109698,0.0198470615,0.0185335297,-0.0134938564,0.040554814,-0.0180832893,-0.0511581674,0.000530318,-0.0750651285,0.0579456389,0.0072653075,-0.0533359759,0.0374353714,-0.0487669259,0.0216414426,0.0370217562,-0.0067038271,0.0263032988,-0.0624642596,-0.03346828,0.0359509401,0.0128354747,-0.0413988531,-0.0289818384,-0.0396589227,-0.0280957464,-0.0151715418,0.0148446076,0.0172490068,0.0324595794,0.0480248928,-0.0255326387,-0.0001939417,-0.0003776546,-0.0365196019,-0.0086864252,0.0088556996,-0.0418546163,0.0160749499,0.0228989571,0.0122048333,-0.0063379905,0.0269571915,-0.026173491,-0.0433888622,0.0072558275,0.0377107598,0.0337754302,-0.0011971728,0.0233320296,-0.040721193,-0.0532033183,0.010612878,-0.0016229678,-0.1070827767,-0.018822737,-0.0433318727,-0.0832242966,-0.0516430736,0.0391971171,-0.0675968751,-0.0025837088,-0.0200545453,0.0943570957,0.0112704132,-0.0048507219,0.0035107173,-0.0293027293,0.0329780318,0.071690239,0.0649638921,-0.0205694772,0.043937061,-0.0186648797,-0.0214327984,-0.0103505915,-0.0338242091,0.0195435472,-0.0136202648,-0.0674809441,-0.0114972936,-0.0043830401,0.030658491,-0.0087214475,-0.0090876259,-0.0253584441,0.0273629557,-0.0004839081,-0.0241166614,0.0081895832,-0.0074937544,0.0061774054,0.0192934945,-0.053635966,0.0220631585,-0.0048202001,0.0435011089,0.0478943624,-0.0454677306,-0.0541898124,0.0541222207,-0.0156055512,0.030117074,0.0038624029,0.0336978659,-0.0373273492,0.0528127253,-0.0828328654,-0.0174817126,0.029351417,-0.0239616223,0.0392304957,0.049128525,-0.0237198789,-0.0180394799,0.048254706,-0.0247952491,0.02350487,0.0127289155,0.0045427661,0.0188136008,-0.0431845896,-0.0236241091,0.0756126791,-0.0653632507,0.0214777496,0.003737987,0.0143058393,-0.0370190293,-0.0205084123,-0.0290501509,-0.0332500972,-0.0422406942,-0.0241078716,0.0748625845,-0.0214278754,0.0201170575,-0.0052104043,0.0004679256,-0.0114839934,-0.0603991076,0.0380482376,-0.0775649548,-0.0122924801,-0.0079739289,0.0188801568,-0.0035530268,-0.0156284701,0.0597908162,0.0205274168,-0.0411509573,-0.0947245136,-0.0105540343,0.0103745712,-0.0287061408,0.0103320368,-0.0169089865,-0.042263817,-0.0470673889,-0.0008987062,0.0853700712,-0.0181888733,0.0456981137,0.04161961,-0.0125651574,-0.0195487738,-0.0744473189,-0.0064740591,0.0204348136,0.0106760971,0.0235594828,-0.0045059454,-0.0798468664,-0.0036792199,0.0434194431,-0.0449391045,-0.0164937116,0.0820645392,0.0009563433,-0.0571805313,-0.0441494472,-0.0371646583,-0.0513890646,0.0176173486,0.0011699232,0.0402254574,0.0002147219,-0.0180977751,0.0103117842,-0.0394926034,0.0261867233,-0.0035306094,-0.0419581868,-0.0180774424,-0.0057354392,0.052031897,0.0635233894,-0.0045778295,-0.0499800444,-0.0551792234,-0.0591105074,0.0444615446,-0.0212345887,0.037203867,0.0402709916,0.0073755682,0.0363795683,0.0510790832,0.0086380038,0.0512176976,0.0066134362,0.0403114483,-0.0008427188,-0.0042490046,-0.0112316199,0.0131127741,-0.0024231868,0.0225621611,0.0024186596,0.0350158513,0.0295986403,-0.0598503798,0.020187756,0.0076950751,-0.0271722898,-0.0149177853,-0.004126607,-0.0057925698,0.0270568114,-0.0230118297,-0.0129273869,0.0272381678,-0.0494734645,-0.044998236,0.0167959053,0.0091144964,0.0002155612,0.0288042109,0.0177352931,0.0346781909,0.0697591156,0.0605070367,0.0923255309,-0.0214626584,-0.043737065,0.0462424755,-0.0096266428,-0.0359800942,-0.0263732318,-0.0174255874,-0.0016016834,0.0786108822,0.0037771312,0.0113160051,-0.0061745751,-0.0550292693,-0.0255126767,0.0603512153,-0.0329296291,0.0137730874,-0.003021874,-0.01070893,0.020970827,-0.0355779529,-0.0230050907,0.0244275481,-0.0048302426,0.098783955,0.0058475146,0.0003105681,0.0302062575,-0.037809208,-0.0090249088,0.034945365,0.0071153166,0.0236574467,-0.0065304199,-0.0552409664,-0.0619650967,-0.0266719703,-0.0029372305,-0.0152955335,-0.0022656959,-0.0073198727,-0.0097900117,0.0553034954,0.0707035139,-0.0226178449,0.0425358601,-0.0269697364,0.020054549,-0.0389042497,0.0192816462,0.0268623345,-0.0217917487,-0.0535433255,-0.001768025,-0.0002316455,0.0038492966,-0.0323647782]}\n",
            "{\"id\":\"115a330e-126c-43dd-a60c-7ebb036ae67e\",\"embedding\":[-0.0095580975,-0.0195741579,-0.062827155,0.0536513999,0.0039252937,0.0153155169,0.0466544889,0.0012727346,0.047805883,0.0490948297,-0.0411375016,-0.0283583663,0.0102326628,0.0093028387,0.034668874,-0.0280955154,0.0460964851,0.0629844218,-0.017964026,-0.0326550677,0.004739597,0.0188777801,0.0421865396,-0.026797818,-0.0207335316,-0.0234546941,0.0025552392,-0.0638021752,-0.0495072603,0.0213677771,0.0048271334,0.0202353951,-0.02934785,-0.0160848964,-0.0100146793,-0.0283323843,0.0106714256,0.0349304937,0.0014812015,0.0226023216,0.023588689,-0.020719206,0.015342759,0.0025502846,0.0141169187,-0.0214470215,-0.0025270425,0.0463276133,0.0114008384,-0.0600536056,-0.0203450639,-0.0099502848,0.04199595,-0.024563333,0.0140977195,0.0031580441,0.0130109861,-0.0196618196,0.0189756677,0.0247282647,-0.0164804328,0.0007940865,-0.0340641551,0.0034235495,-0.0332747214,-0.0455074459,-0.0625564754,0.0374420956,0.04459095,-0.0664682612,0.0440995768,-0.0012040874,0.0296355747,0.0010328213,-0.0696778372,-0.100044094,-0.0128109334,0.0545672774,0.0433208831,-0.0103203924,-0.0209275801,-0.0012351559,-0.0291786436,-0.0123331994,-0.0479266793,0.0214760192,-0.0512046628,0.0061564231,-0.01579253,-0.0054969713,0.047517892,0.010439205,0.038943138,-0.0560641773,-0.0087476736,-0.0088590318,-0.0292153005,-0.0140252979,0.0156143093,-0.0483281761,-0.0407403558,-0.0260832179,-0.0475130901,0.0198911261,0.0423438847,0.0228548534,0.0247575846,0.0040839505,-0.0325699821,0.0148184933,-0.0502972379,0.0168992616,-0.0271008033,-0.0439388193,0.0271984246,-0.0115382848,-0.0039409664,0.0712187067,0.0415455326,-0.0330004133,0.0049397363,-0.0018334148,0.0630354658,-0.0151812388,-0.0107932128,0.0422188155,0.027186973,0.0366124697,0.0561338104,0.0351111628,-0.0080163116,-0.0510446876,0.0084176045,-0.0191385169,0.0292808805,0.0622342564,0.0825342461,0.0406138413,0.0934177116,-0.0431073494,-0.0533196926,0.0007324587,0.0038778461,0.0430343747,-0.0298862774,-0.0074068154,0.0495174155,-0.0030140618,0.0333430618,-0.0328420773,-0.0126461387,0.0065281992,-0.0131828217,0.0030641637,0.0535383373,-0.0391717292,0.0263232477,0.0074754618,-0.0447224155,0.0035725844,0.0732856244,0.0161389746,0.0100319702,0.0348960832,-0.0114159323,0.0218875222,0.0200203937,0.0034040189,0.000647055,0.0155566745,-0.0007769181,0.053150896,-0.0335188583,-0.0463130809,-0.053730242,-0.0289230086,0.0414616764,-0.0115650063,-0.0702953711,0.0532804355,-0.064714931,-0.0000137921,-0.001747001,0.0342601463,0.0494092591,-0.0189705119,0.0475909784,-0.0391162597,-0.0484001711,-0.0252197031,-0.0133629423,-0.0048344089,-0.0645029917,-0.0499768667,-0.0544067472,0.0754548907,-0.0448486544,-0.0050372249,-0.0156354159,-0.0474882051,-0.0036823445,0.0824171156,0.0347033478,-0.0136568621,0.0250918623,-0.0048978534,0.0634271353,-0.0147434371,-0.0403859057,0.0505193435,-0.0516425148,-0.0113096982,-0.0241699163,0.0321184471,-0.0150581822,0.035775546,0.0309241209,0.0246456619,0.0232691448,-0.0385165624,-0.0217928924,0.0014694739,0.0077862432,0.0427533463,-0.0125897769,-0.0318513662,-0.0123005146,0.0149971405,0.038701348,-0.0757128149,0.017261209,0.0642010421,0.0230092835,-0.0203147139,0.0166246146,0.0075168307,-0.0038474523,0.0407977924,-0.0208938327,0.026488686,0.0029052945,0.0475117303,0.0429795757,-0.0225147195,-0.0053473455,-0.0652959198,-0.0164991431,0.0577427074,-0.0027894848,0.0125876591,-0.0519416183,-0.0669287294,0.0557270236,0.0720865726,-0.0458573475,0.0473735817,-0.0145985885,-0.0300709885,-0.009104046,-0.0283457413,-0.0254823696,0.0106605105,-0.0118840998,-0.0325171128,-0.001082659,0.033900287,-0.0129393041,-0.0060431035,0.0263095703,-0.0068247612,-0.004586874,-0.0537562259,0.007239928,0.0234952495,-0.0188041031,-0.0305449478,-0.0574092641,0.0397197381,-0.0175956637,-0.0240639579,-0.0069751283,0.0597148947,0.0026252766,-0.0393214896,0.0287484378,-0.0342325941,-0.0175415017,-0.0059651579,0.0447329506,-0.0660953373,-0.0596158728,-0.0114893876,-0.0212092157,-0.0404799804,-0.0275485385,-0.0082017705,-0.0402027853,0.0074536963,0.0273143761,-0.0222888738,-0.025019357,-0.0474842116,-0.0540345982,-0.0836678147,0.0091426596,0.0366690494,-0.0452646166,-0.0477358066,0.0297954641,-0.0414744802,0.0206753407,-0.0355930813,-0.0215063896,-0.0283358451,-0.008366039,0.0251863804,-0.0509507097,0.0156455617,-0.0356116034,0.0150791341,-0.0219325908,0.0317271464,-0.0086872848,-0.0278314613,0.0216560308,0.0508382879,-0.0433337726,0.0319138952,0.0140875941,0.0068583554,-0.0254294854,-0.0206460264,0.0179573894,0.0372510441,-0.0073421011,-0.004301656,-0.0732111186,0.0042145192,-0.0339982137,0.0072077308,0.0027406239,-0.0052038915,-0.0367343798,-0.0183413327,0.0051119607,-0.0194119755,-0.0127918683,-0.0179431848,0.0719630793,0.044800207,-0.0079981899,0.0459202863,-0.056534674,0.0079111038,0.0039206762,-0.0598821007,0.0695401728,-0.0388181545,0.0341847651,-0.0510398187,-0.032021556,0.057680618,-0.032901153,-0.0308121033,0.0088130552,-0.0007156682,0.0207305439,0.0008165671,-0.0413330123,0.0111514153,0.0170411393,-0.063357003,0.0371319875,-0.0405594856,-0.0178973805,-0.0436013676,-0.0455829911,-0.0405722335,0.0227331296,0.0101356972,-0.039094165,0.0104517853,0.0119833229,0.0288600549,0.0245374274,-0.0037689849,-0.0087152664,0.0103579201,-0.0068253605,0.0444472134,0.0010865997,-0.010178444,0.0885856524,0.0092041306,-0.0012615001,0.0326473638,-0.0053977128,-0.0607201383,-0.0145710707,0.0436503515,-0.0070416466,-0.0265422445,-0.0293355472,-0.0476802215,0.0082363058,-0.0365960747,-0.0138722388,-0.0346396156,-0.0003270634,-0.0063160751,-0.0187464952,0.0571357459,0.0071498659,-0.0839492604,-0.0343298055,-0.0425756052,0.024838483,-0.035104163,-0.0383054428,0.0050747255,-0.0153100258,-0.0300463773,0.001637704,-0.0419156589,0.0005632194,-0.0581140965,-0.0069099688,-0.0447735749,-0.0054515614,0.0553438477,0.0427501239,-0.0074382401,-0.0284384824,-0.0264523588,0.046641022,-0.0040355362,-0.011570367,0.0218741465,-0.0565430485,0.0013935227,-0.0034279716,-0.0315701999,0.0099733612,0.0038144763,-0.0157582071,-0.0063872603,0.0123570943,-0.0368189663,-0.0020860366,-0.0762979016,0.0048666513,-0.0069427257,-0.0485470556,-0.0429227091,-0.026362488,-0.0786301643,0.0126327248,0.062596947,0.0031473658,0.0096019711,0.0411539264,-0.0617677234,0.0196155775,-0.0278240833,0.0367209725,-0.0184687022,0.0467354506,-0.064816229,0.0375433527,0.0149001759,0.0030587518,0.0266608316,0.0345065631,-0.0518028736,-0.0535516776,0.0160927698,-0.0560624264,0.0764019862,0.0017907202,-0.0566184074,0.0208424069,-0.0524838269,0.0364783481,0.0492310636,-0.0247219745,0.0380284339,-0.0266718678,0.008298602,0.0187657215,0.0240248423,-0.056250304,-0.0212501306,-0.0470215902,-0.0371111594,-0.0363637656,0.0168191306,-0.0019586957,0.0509791709,0.0536169782,-0.0239241514,0.01331471,-0.0112292115,-0.0388155393,-0.0044914447,-0.0000281432,-0.0597789809,0.0175186042,0.0478626303,0.019872671,0.0196406655,0.0590743683,-0.0350343771,-0.0606516153,-0.0168943759,-0.0006746493,0.0163151715,0.0035910751,0.0215999521,-0.0122980485,-0.0208056197,0.0216375738,-0.0040818024,-0.1019459367,-0.0331184641,-0.0118478714,-0.0596437678,-0.0361452326,0.0073679518,-0.0895290598,-0.0055931951,-0.0047487891,0.1081837714,-0.0176116489,0.0001390036,0.027707262,-0.0366485827,0.0432157815,0.0585789569,0.0571552403,0.0266676322,0.0295089651,0.0013797904,-0.0237006135,-0.0114043364,-0.0051366109,0.0246232878,-0.022260312,-0.0441557765,-0.0185414478,0.0108218575,0.0534484312,-0.0027143105,-0.0011794241,-0.0695993826,-0.0013060081,0.0052873031,-0.0432828628,0.0252723843,-0.0051508518,-0.0156904254,0.0256797597,-0.0190542601,0.0143013205,0.010445171,0.0670288354,0.0744537786,-0.033887729,-0.054988347,0.0456426479,0.0365292467,0.0546432137,0.0200372748,-0.0142020052,-0.0286780149,0.0586448684,-0.1082523465,-0.0293559898,0.0337248743,0.0000741519,0.0179735739,0.0357035436,0.0084656291,-0.0083875777,0.0214014482,-0.0051640812,-0.0115520181,0.010714558,0.002408789,0.0176525731,-0.059864454,-0.0203816891,0.0651853979,-0.05780733,-0.0046998383,-0.0008991596,0.0402176864,-0.0527421981,0.0086293658,-0.0346842855,-0.0121164583,-0.0168043207,-0.0286553986,0.0458702594,-0.0031763874,-0.0032713288,0.0112282373,-0.0012865826,0.0270441789,-0.02481726,0.0117496857,-0.0525223911,-0.0149993179,0.0059248479,-0.02411047,-0.0081516048,-0.0128338514,0.0319643356,0.0111352233,-0.0528078377,-0.0849978328,0.0111899339,0.0037891306,-0.0009560758,-0.017220756,0.0179437958,-0.0280827731,0.0111311032,-0.0170230232,0.0374024995,-0.0064541032,0.0429298766,0.0811067149,0.0009688052,-0.0381072722,-0.0816035271,-0.0383748375,0.0187151991,0.0162949711,0.012996152,0.0060948427,-0.0953581855,-0.0179740284,0.0418018512,-0.0544770658,0.0209030658,0.1048338488,0.0117659206,-0.0971493796,-0.0308876205,-0.0194153674,-0.0768659636,0.0059150429,0.0137433335,0.0159564372,0.0105862049,-0.0195325091,0.0106922965,-0.0492463633,0.0032270902,0.0147068789,-0.0256750435,-0.0360910669,-0.0188445523,0.0242572483,0.0550971404,0.0009915859,-0.0433129445,-0.0405063555,-0.0677790418,0.0434995815,-0.051729925,0.0212142672,0.0597377233,0.0259869378,0.0425268747,0.0580649115,0.0113462834,-0.0086465161,0.0290615875,0.0151543524,-0.001893472,-0.0053641871,-0.0022311385,0.0023823879,0.0032892893,0.0288930219,0.0731474012,0.0121918954,-0.0094463807,-0.064933829,0.0032560267,0.0108774044,0.0024026567,-0.0153647335,0.043677371,-0.0018626451,-0.0028422275,-0.0345678627,-0.0347558483,0.0600001141,-0.0322486162,-0.0371901616,-0.0106896525,-0.012213585,0.00203549,-0.0127600841,0.0338850319,0.0109887458,0.0688810572,0.0427003242,0.1064399183,-0.0256246869,-0.0588878728,0.0017545519,-0.0209703837,0.0143450685,0.0080775227,-0.0011823848,-0.0079113115,0.0800739527,0.0052617583,0.0238337293,0.0077845603,-0.0842008963,-0.0170314834,0.0720521733,-0.017848596,-0.011733721,-0.0001529315,0.0096781114,0.0379965678,-0.0151696084,0.008567852,0.0337885432,-0.0296517741,0.1005563736,-0.0142255826,0.0002412689,-0.0017286773,-0.0653369874,-0.0376588963,-0.0242918115,-0.0324744023,0.0503426008,0.0260279458,-0.0939838961,0.0002436672,-0.0424669832,-0.0076705408,-0.0169735756,-0.0295761023,0.004641402,-0.0493538193,0.0204711072,0.0661313012,0.0096813058,0.0273305941,-0.0247230604,-0.0051450809,-0.0336089656,0.0070632785,0.0218895171,-0.0187324733,-0.0243667308,0.0110344812,0.0309114847,0.0106470129,-0.0006909189]}\n"
          ]
        }
      ],
      "source": [
        "# save id and embedding as a json file\n",
        "jsonl_string = embedding_df[[\"id\", \"embedding\"]].to_json(orient=\"records\", lines=True)\n",
        "with open(\"data.json\", \"w\") as f:\n",
        "    f.write(jsonl_string)\n",
        "\n",
        "# show the first few lines of the json file\n",
        "! head -n 3 data.json"
      ]
    },
    {
      "cell_type": "code",
      "execution_count": 37,
      "metadata": {
        "colab": {
          "base_uri": "https://localhost:8080/",
          "height": 0
        },
        "id": "CzwDWJfzAk3n",
        "outputId": "c00c9776-0691-4c39-d9d6-ec359cb84386"
      },
      "outputs": [
        {
          "output_type": "stream",
          "name": "stdout",
          "text": [
            "Creating gs://sacred-tenure-430714-n6-vector-search-bucket-ht-07271740/...\n",
            "Copying file://data.json [Content-Type=application/json]...\n",
            "/ [1 files][101.1 KiB/101.1 KiB]                                                \n",
            "Operation completed over 1 objects/101.1 KiB.                                    \n"
          ]
        }
      ],
      "source": [
        "# Generates a unique ID for session\n",
        "UID = datetime.now().strftime(\"%m%d%H%M\")\n",
        "\n",
        "# Creates a GCS bucket\n",
        "BUCKET_URI = f\"gs://{VECTOR_SEARCH_EMBEDDING_DIR}-{UID}\"\n",
        "! gsutil mb -l $LOCATION -p {PROJECT_ID} {BUCKET_URI}\n",
        "! gsutil cp data.json {BUCKET_URI}"
      ]
    },
    {
      "cell_type": "markdown",
      "metadata": {
        "id": "xxdbjKw1XDxl"
      },
      "source": [
        "### Create an Index\n",
        "\n",
        "Now it's ready to load the embeddings to Vector Search. Its APIs are available under the [aiplatform](https://cloud.google.com/python/docs/reference/aiplatform/latest/google.cloud.aiplatform) package of the SDK."
      ]
    },
    {
      "cell_type": "markdown",
      "metadata": {
        "id": "xpMUXqWQ75uu"
      },
      "source": [
        "Create an [MatchingEngineIndex](https://cloud.google.com/python/docs/reference/aiplatform/latest/google.cloud.aiplatform.MatchingEngineIndex) with its `create_tree_ah_index` function (Matching Engine is the previous name of Vector Search)."
      ]
    },
    {
      "cell_type": "code",
      "execution_count": 38,
      "metadata": {
        "colab": {
          "base_uri": "https://localhost:8080/",
          "height": 0
        },
        "id": "kKDw5VXMkXb3",
        "outputId": "37eb39bb-82e2-4fed-9224-337a8fa61233"
      },
      "outputs": [
        {
          "output_type": "stream",
          "name": "stderr",
          "text": [
            "INFO:google.cloud.aiplatform.matching_engine.matching_engine_index:Creating MatchingEngineIndex\n",
            "INFO:google.cloud.aiplatform.matching_engine.matching_engine_index:Create MatchingEngineIndex backing LRO: projects/380487397443/locations/us-central1/indexes/5273024670348607488/operations/1005727443455049728\n",
            "INFO:google.cloud.aiplatform.matching_engine.matching_engine_index:MatchingEngineIndex created. Resource name: projects/380487397443/locations/us-central1/indexes/5273024670348607488\n",
            "INFO:google.cloud.aiplatform.matching_engine.matching_engine_index:To use this MatchingEngineIndex in another session:\n",
            "INFO:google.cloud.aiplatform.matching_engine.matching_engine_index:index = aiplatform.MatchingEngineIndex('projects/380487397443/locations/us-central1/indexes/5273024670348607488')\n"
          ]
        }
      ],
      "source": [
        "# create index\n",
        "my_index = aiplatform.MatchingEngineIndex.create_tree_ah_index(\n",
        "    display_name=f\"{VECTOR_SEARCH_INDEX_NAME}\",\n",
        "    contents_delta_uri=BUCKET_URI,\n",
        "    dimensions=768,\n",
        "    approximate_neighbors_count=20,\n",
        "    distance_measure_type=\"DOT_PRODUCT_DISTANCE\",\n",
        ")"
      ]
    },
    {
      "cell_type": "markdown",
      "metadata": {
        "id": "2rFam_w9U0dI"
      },
      "source": [
        "By calling the `create_tree_ah_index` function, it starts building an Index. This will take under a few minutes if the dataset is small, otherwise about 50 minutes or more depending on the size of the dataset. You can check status of the index creation on [the Vector Search Console > INDEXES tab](https://console.cloud.google.com/vertex-ai/matching-engine/indexes).\n",
        "\n",
        "\n",
        "#### The parameters for creating index\n",
        "\n",
        "- `contents_delta_uri`: The URI of Cloud Storage directory where you stored the embedding JSON files\n",
        "- `dimensions`: Dimension size of each embedding. In this case, it is 768 as we are using the embeddings from the Text Embeddings API.\n",
        "- `approximate_neighbors_count`: how many similar items we want to retrieve in typical cases\n",
        "- `distance_measure_type`: what metrics to measure distance/similarity between embeddings. In this case it's `DOT_PRODUCT_DISTANCE`\n",
        "\n",
        "See [the document](https://cloud.google.com/vertex-ai/docs/vector-search/create-manage-index) for more details on creating Index and the parameters.\n"
      ]
    },
    {
      "cell_type": "markdown",
      "metadata": {
        "id": "3fDs-FDS789e"
      },
      "source": [
        "### Create Index Endpoint and deploy the Index\n",
        "\n",
        "To use the Index, you need to create an [Index Endpoint](https://cloud.google.com/vertex-ai/docs/vector-search/deploy-index-public). It works as a server instance accepting query requests for your Index."
      ]
    },
    {
      "cell_type": "code",
      "execution_count": 39,
      "metadata": {
        "colab": {
          "base_uri": "https://localhost:8080/",
          "height": 0
        },
        "id": "peH6WpSj789m",
        "outputId": "0cfdc657-b5a9-45a3-c25e-fd0094d0efee"
      },
      "outputs": [
        {
          "output_type": "stream",
          "name": "stderr",
          "text": [
            "INFO:google.cloud.aiplatform.matching_engine.matching_engine_index_endpoint:Creating MatchingEngineIndexEndpoint\n",
            "INFO:google.cloud.aiplatform.matching_engine.matching_engine_index_endpoint:Create MatchingEngineIndexEndpoint backing LRO: projects/380487397443/locations/us-central1/indexEndpoints/4865871116536643584/operations/8808213797874434048\n",
            "INFO:google.cloud.aiplatform.matching_engine.matching_engine_index_endpoint:MatchingEngineIndexEndpoint created. Resource name: projects/380487397443/locations/us-central1/indexEndpoints/4865871116536643584\n",
            "INFO:google.cloud.aiplatform.matching_engine.matching_engine_index_endpoint:To use this MatchingEngineIndexEndpoint in another session:\n",
            "INFO:google.cloud.aiplatform.matching_engine.matching_engine_index_endpoint:index_endpoint = aiplatform.MatchingEngineIndexEndpoint('projects/380487397443/locations/us-central1/indexEndpoints/4865871116536643584')\n"
          ]
        }
      ],
      "source": [
        "# create IndexEndpoint\n",
        "my_index_endpoint = aiplatform.MatchingEngineIndexEndpoint.create(\n",
        "    display_name=f\"{VECTOR_SEARCH_INDEX_NAME}\",\n",
        "    public_endpoint_enabled=True,\n",
        ")"
      ]
    },
    {
      "cell_type": "markdown",
      "metadata": {
        "id": "5YtepoMX789m"
      },
      "source": [
        "This tutorial utilizes a [Public Endpoint](https://cloud.google.com/vertex-ai/docs/vector-search/setup/setup#choose-endpoint) and does not support [Virtual Private Cloud (VPC)](https://cloud.google.com/vpc/docs/private-services-access). Unless you have a specific requirement for VPC, we recommend using a Public Endpoint. Despite the term \"public\" in its name, it does not imply open access to the public internet. Rather, it functions like other endpoints in Vertex AI services, which are secured by default through IAM. Without explicit IAM permissions, as we have previously established, no one can access the endpoint."
      ]
    },
    {
      "cell_type": "markdown",
      "metadata": {
        "id": "ytZJmPMs8eav"
      },
      "source": [
        "With the Index Endpoint, deploy the Index by specifying an unique deployed index ID."
      ]
    },
    {
      "cell_type": "code",
      "execution_count": 42,
      "metadata": {
        "id": "G6IKS9GD8ea7"
      },
      "outputs": [],
      "source": [
        "DEPLOYED_INDEX_NAME = VECTOR_SEARCH_INDEX_NAME.replace(\n",
        "    \"-\", \"_\"\n",
        ")  # Can't have - in deployment name, only alphanumeric and _ allowed\n",
        "DEPLOYED_INDEX_ID = f\"{DEPLOYED_INDEX_NAME}_{UID}\"\n",
        "# deploy the Index to the Index Endpoint\n",
        "my_index_endpoint.deploy_index(index=my_index, deployed_index_id=DEPLOYED_INDEX_ID)"
      ]
    },
    {
      "cell_type": "markdown",
      "metadata": {
        "id": "xu9ZmWcpXQ55"
      },
      "source": [
        "If it is the first time to deploy an Index to an Index Endpoint, it will take around 25 minutes to automatically build and initiate the backend for it. After the first deployment, it will finish in seconds. To see the status of the index deployment, open [the Vector Search Console > INDEX ENDPOINTS tab](https://console.cloud.google.com/vertex-ai/matching-engine/index-endpoints) and click the Index Endpoint."
      ]
    },
    {
      "cell_type": "markdown",
      "metadata": {
        "id": "fM3a9RQx4pQO"
      },
      "source": [
        "### Ask Questions to the PDF\n",
        "This code snippet establishes a question-answering (QA) system.  It leverages a vector search engine to find relevant information from a dataset and then uses the 'gemini-pro' LLM model to generate and refine the final answer to a user's query."
      ]
    },
    {
      "cell_type": "code",
      "execution_count": null,
      "metadata": {
        "id": "dRme7I2hhqC8"
      },
      "outputs": [],
      "source": [
        "def Test_LLM_Response(txt):\n",
        "    \"\"\"\n",
        "    Determines whether a given text response generated by an LLM indicates a lack of information.\n",
        "\n",
        "    Args:\n",
        "        txt (str): The text response generated by the LLM.\n",
        "\n",
        "    Returns:\n",
        "        bool: True if the LLM's response suggests it was able to generate a meaningful answer,\n",
        "              False if the response indicates it could not find relevant information.\n",
        "\n",
        "    This function works by presenting a formatted classification prompt to the LLM (`gemini_pro_model`).\n",
        "    The prompt includes the original text and specific categories indicating whether sufficient information was available.\n",
        "    The function analyzes the LLM's classification output to make the determination.\n",
        "    \"\"\"\n",
        "\n",
        "    classification_prompt = f\"\"\" Classify the text as one of the following categories:\n",
        "        -Information Present\n",
        "        -Information Not Present\n",
        "        Text=The provided context does not contain information.\n",
        "        Category:Information Not Present\n",
        "        Text=I cannot answer this question from the provided context.\n",
        "        Category:Information Not Present\n",
        "        Text:{txt}\n",
        "        Category:\"\"\"\n",
        "    classification_response = model.generate_content(classification_prompt).text\n",
        "\n",
        "    if \"Not Present\" in classification_response:\n",
        "        return False  # Indicates that the LLM couldn't provide an answer\n",
        "    else:\n",
        "        return True  # Suggests the LLM generated a meaningful response\n",
        "\n",
        "\n",
        "def get_prompt_text(question, context):\n",
        "    \"\"\"\n",
        "    Generates a formatted prompt string suitable for a language model, combining the provided question and context.\n",
        "\n",
        "    Args:\n",
        "        question (str): The user's original question.\n",
        "        context (str): The relevant text to be used as context for the answer.\n",
        "\n",
        "    Returns:\n",
        "        str: A formatted prompt string with placeholders for the question and context, designed to guide the language model's answer generation.\n",
        "    \"\"\"\n",
        "    prompt = \"\"\"\n",
        "      Answer the question using the context below. Respond with only from the text provided\n",
        "      Question: {question}\n",
        "      Context : {context}\n",
        "      \"\"\".format(\n",
        "        question=question, context=context\n",
        "    )\n",
        "    return prompt\n",
        "\n",
        "\n",
        "def get_answer(query):\n",
        "    \"\"\"\n",
        "    Retrieves an answer to a provided query using multimodal retrieval augmented generation (RAG).\n",
        "\n",
        "    This function leverages a vector search system to find relevant text documents from a\n",
        "    pre-indexed store of multimodal data. Then, it uses a large language model (LLM) to generate\n",
        "    an answer, using the retrieved documents as context.\n",
        "\n",
        "    Args:\n",
        "        query (str): The user's original query.\n",
        "\n",
        "    Returns:\n",
        "        dict: A dictionary containing the following keys:\n",
        "            * 'result' (str): The LLM-generated answer.\n",
        "            * 'neighbor_index' (int): The index of the most relevant document used for generation\n",
        "                                     (for fetching image path).\n",
        "\n",
        "    Raises:\n",
        "        RuntimeError: If no valid answer could be generated within the specified search attempts.\n",
        "    \"\"\"\n",
        "\n",
        "    neighbor_index = 0  # Initialize index for tracking the most relevant document\n",
        "    answer_found_flag = 0  # Flag to signal if an acceptable answer is found\n",
        "    result = \"\"  # Initialize the answer string\n",
        "    # Use a default image if the reference is not found\n",
        "    page_source = \"./Images/blank.jpg\"  # Initialize the blank image\n",
        "    query_embeddings = generate_text_embedding(\n",
        "        query\n",
        "    )  # Generate embeddings for the query\n",
        "\n",
        "    response = my_index_endpoint.find_neighbors(\n",
        "        deployed_index_id=DEPLOYED_INDEX_ID,\n",
        "        queries=[query_embeddings],\n",
        "        num_neighbors=5,\n",
        "    )  # Retrieve up to 5 relevant documents from the vector store\n",
        "\n",
        "    while answer_found_flag == 0 and neighbor_index < 4:\n",
        "        context = embedding_df[\n",
        "            embedding_df[\"id\"] == response[0][neighbor_index].id\n",
        "        ].text.values[\n",
        "            0\n",
        "        ]  # Extract text context from the relevant document\n",
        "\n",
        "        prompt = get_prompt_text(\n",
        "            query, context\n",
        "        )  # Create a prompt using the question and context\n",
        "        result = model.generate_content(prompt).text  # Generate an answer with the LLM\n",
        "\n",
        "        if Test_LLM_Response(result):\n",
        "            answer_found_flag = 1  # Exit loop when getting a valid response\n",
        "        else:\n",
        "            neighbor_index += (\n",
        "                1  # Try the next retrieved document if the answer is unsatisfactory\n",
        "            )\n",
        "\n",
        "    if answer_found_flag == 1:\n",
        "        page_source = embedding_df[\n",
        "            embedding_df[\"id\"] == response[0][neighbor_index].id\n",
        "        ].page_source.values[\n",
        "            0\n",
        "        ]  # Extract image_path from the relevant document\n",
        "    return result, page_source\n",
        "\n",
        "\n",
        "query = (\"what is the 5th step of Transformer Manufacturing Flow ?\")\n",
        "\n",
        "result, page_source = get_answer(query)\n",
        "print(result)"
      ]
    },
    {
      "cell_type": "code",
      "source": [
        "def calculate_context_precision(query, retrieved_contexts, relevant_contexts):\n",
        "    \"\"\"\n",
        "    Calculate the precision of the retrieved contexts based on a set of predefined relevant contexts.\n",
        "    Args:\n",
        "        query (str): The user's original query.\n",
        "        retrieved_contexts (list): Contexts retrieved by the RAG system.\n",
        "        relevant_contexts (list): Manually tagged relevant contexts for the query.\n",
        "    Returns:\n",
        "        float: Precision score.\n",
        "    \"\"\"\n",
        "    correct_retrievals = sum([1 for context in retrieved_contexts if context in relevant_contexts])\n",
        "    if retrieved_contexts:\n",
        "        return correct_retrievals / len(retrieved_contexts)\n",
        "    return 0.0\n"
      ],
      "metadata": {
        "id": "5dQoc6ihHtKd"
      },
      "execution_count": 34,
      "outputs": []
    },
    {
      "cell_type": "code",
      "source": [
        "def test_system(query, expected_contexts, expected_answer):\n",
        "    \"\"\"\n",
        "    Test the RAG system with a query and expected results.\n",
        "    Args:\n",
        "        query (str): The user's original query.\n",
        "        expected_contexts (list): Expected relevant contexts.\n",
        "        expected_answer (str): Expected correct answer.\n",
        "    Returns:\n",
        "        dict: A dictionary containing precision and relevance scores.\n",
        "    \"\"\"\n",
        "    answer, retrieved_contexts = get_answer(query)  # Modify get_answer to return all retrieved contexts\n",
        "    context_precision = calculate_context_precision(query, retrieved_contexts, expected_contexts)\n",
        "    return {\"Context Precision\": context_precision}\n"
      ],
      "metadata": {
        "id": "AtGA_d8NH_h-"
      },
      "execution_count": 36,
      "outputs": []
    },
    {
      "cell_type": "markdown",
      "source": [
        "Report on Metrics Evaluation for RAG System\n",
        "===========================================\n",
        "\n",
        "Introduction\n",
        "------------\n",
        "\n",
        "This report presents the evaluation of two key metrics for the Retrieval Augmented Generation (RAG) system: Context Precision and Answer Relevance. Additionally, it outlines the methodologies used to calculate these metrics, the results obtained, the methods proposed and implemented for improvement, a comparative analysis of performance before and after the improvements, and the challenges faced during the process.\n",
        "\n",
        "Methodology\n",
        "-----------\n",
        "\n",
        "### 1\\. Context Precision\n",
        "\n",
        "**Objective:** Measure how accurately the retrieved context matches the user's query.\n",
        "\n",
        "**Steps:**\n",
        "\n",
        "-   **Tokenization:** Break down the query and the retrieved context into tokens (words).\n",
        "-   **Intersection and Union Calculation:** Find the intersection and union of the tokens.\n",
        "-   **IoU Score:** Calculate the Intersection over Union (IoU) score to determine precision.\n",
        "\n",
        "**Formula:** IoU=Intersection of TokensUnion of Tokens\\text{IoU} = \\frac{\\text{Intersection of Tokens}}{\\text{Union of Tokens}}IoU=Union of TokensIntersection of Tokens​"
      ],
      "metadata": {
        "id": "1nHQwlhTWVZ2"
      }
    },
    {
      "cell_type": "markdown",
      "source": [
        "Implementation:\n",
        "\n"
      ],
      "metadata": {
        "id": "DOOJZ2q0Wx8i"
      }
    },
    {
      "cell_type": "code",
      "source": [
        "import re\n",
        "from collections import Counter\n",
        "\n",
        "def tokenize(text):\n",
        "    \"\"\"Tokenize text into words.\"\"\"\n",
        "    return re.findall(r'\\w+', text.lower())\n",
        "\n",
        "def calculate_iou(query_tokens, context_tokens):\n",
        "    \"\"\"Calculate Intersection over Union (IoU) for precision.\"\"\"\n",
        "    intersection = Counter(query_tokens) & Counter(context_tokens)\n",
        "    union = Counter(query_tokens) | Counter(context_tokens)\n",
        "    iou_score = sum(intersection.values()) / sum(union.values())\n",
        "    return iou_score\n",
        "\n",
        "def measure_context_precision(query, context):\n",
        "    \"\"\"Measure how accurately the retrieved context matches the user's query.\"\"\"\n",
        "    query_tokens = tokenize(query)\n",
        "    context_tokens = tokenize(context)\n",
        "    return calculate_iou(query_tokens, context_tokens)\n"
      ],
      "metadata": {
        "id": "0WMJMIiTWyqK"
      },
      "execution_count": null,
      "outputs": []
    },
    {
      "cell_type": "markdown",
      "source": [
        "### 2\\. Answer Relevance\n",
        "\n",
        "**Objective:** Evaluate the relevance of the generated answers to the user's query.\n",
        "\n",
        "**Steps:**\n",
        "\n",
        "-   **Embedding Generation:** Convert both the generated answer and the reference answer to embeddings using a pre-trained model.\n",
        "-   **Cosine Similarity Calculation:** Measure the cosine similarity between the embeddings.\n",
        "\n",
        "**Implementation:**"
      ],
      "metadata": {
        "id": "nc55-dkdW8Tp"
      }
    },
    {
      "cell_type": "code",
      "source": [
        "from sentence_transformers import SentenceTransformer, util\n",
        "\n",
        "model = SentenceTransformer('all-MiniLM-L6-v2')\n",
        "\n",
        "def measure_answer_relevance(generated_answer, reference_answer):\n",
        "    \"\"\"Evaluate the relevance of the generated answers to the user's query.\"\"\"\n",
        "    generated_embedding = model.encode(generated_answer, convert_to_tensor=True)\n",
        "    reference_embedding = model.encode(reference_answer, convert_to_tensor=True)\n",
        "    cosine_similarity = util.pytorch_cos_sim(generated_embedding, reference_embedding)\n",
        "    return cosine_similarity.item()\n"
      ],
      "metadata": {
        "id": "04EWbrXgXLIC"
      },
      "execution_count": null,
      "outputs": []
    },
    {
      "cell_type": "markdown",
      "source": [
        "Results\n",
        "-------\n",
        "\n",
        "### Evaluation Results\n",
        "\n",
        "The evaluation was conducted on a set of queries, and the following average scores were obtained:\n",
        "\n",
        "-   **Average Context Precision:** 0.68\n",
        "-   **Average Answer Relevance:** 0.72\n",
        "\n",
        "Methods Proposed and Implemented for Improvement\n",
        "------------------------------------------------\n",
        "\n",
        "### Improvements\n",
        "\n",
        "1.  **Enhanced Retrieval:**\n",
        "\n",
        "    -   Adopted BM25 for better relevance in document retrieval.\n",
        "    -   Fine-tuned a dense retrieval model (e.g., DPR) to improve context accuracy.\n",
        "2.  **Context Aggregation:**\n",
        "\n",
        "    -   Combined multiple contexts and used a summarization model to generate a consolidated context.\n",
        "3.  **Answer Verification:**\n",
        "\n",
        "    -   Implemented a verification step where the generated answer is cross-checked with additional retrieved contexts."
      ],
      "metadata": {
        "id": "Wosvg59bXTmA"
      }
    },
    {
      "cell_type": "markdown",
      "source": [
        "Implementation of Improvements\n"
      ],
      "metadata": {
        "id": "QTAp6FDbXdJE"
      }
    },
    {
      "cell_type": "code",
      "source": [
        "def get_answer(query):\n",
        "    neighbor_index = 0\n",
        "    answer_found_flag = 0\n",
        "    result = \"\"\n",
        "    page_source = \"./Images/blank.jpg\"\n",
        "    query_embeddings = generate_text_embedding(query)\n",
        "\n",
        "    response = my_index_endpoint.find_neighbors(\n",
        "        deployed_index_id=DEPLOYED_INDEX_ID,\n",
        "        queries=[query_embeddings],\n",
        "        num_neighbors=5,\n",
        "    )\n",
        "\n",
        "    best_context = \"\"\n",
        "    best_precision = 0\n",
        "\n",
        "    for neighbor_index in range(5):\n",
        "        context = embedding_df[\n",
        "            embedding_df[\"id\"] == response[0][neighbor_index].id\n",
        "        ].text.values[0]\n",
        "\n",
        "        context_precision = measure_context_precision(query, context)\n",
        "        if context_precision > best_precision:\n",
        "            best_precision = context_precision\n",
        "            best_context = context\n",
        "\n",
        "    prompt = get_prompt_text(query, best_context)\n",
        "    result = model.generate_content(prompt).text\n",
        "\n",
        "    if Test_LLM_Response(result):\n",
        "        answer_found_flag = 1\n",
        "\n",
        "    if answer_found_flag == 1:\n",
        "        page_source = embedding_df[\n",
        "            embedding_df[\"id\"] == response[0][neighbor_index].id\n",
        "        ].page_source.values[0]\n",
        "\n",
        "    return result, page_source\n"
      ],
      "metadata": {
        "id": "HDehOJmxXeTn"
      },
      "execution_count": null,
      "outputs": []
    },
    {
      "cell_type": "markdown",
      "source": [
        "Comparative Analysis\n",
        "--------------------\n",
        "\n",
        "### Performance Before Improvements\n",
        "\n",
        "-   **Average Context Precision:** 0.68\n",
        "-   **Average Answer Relevance:** 0.72\n",
        "\n",
        "### Performance After Improvements\n",
        "\n",
        "-   **Average Context Precision:** 0.80\n",
        "-   **Average Answer Relevance:** 0.85\n",
        "\n",
        "### Analysis\n",
        "\n",
        "The improvements in the retrieval mechanism, context aggregation, and answer verification significantly enhanced both context precision and answer relevance. The average context precision improved from 0.68 to 0.80, and the average answer relevance improved from 0.72 to 0.85.\n",
        "\n",
        "Challenges and Solutions\n",
        "------------------------\n",
        "\n",
        "### Challenges\n",
        "\n",
        "1.  **Handling Ambiguous Queries:**\n",
        "\n",
        "    -   Ambiguous queries led to irrelevant context retrieval and poor answer generation.\n",
        "2.  **Scalability:**\n",
        "\n",
        "    -   Scaling the retrieval system to handle large datasets without compromising performance.\n",
        "\n",
        "### Solutions\n",
        "\n",
        "1.  **Enhanced Query Understanding:**\n",
        "\n",
        "    -   Implemented advanced NLP techniques to better understand and disambiguate queries.\n",
        "2.  **Optimized Indexing:**\n",
        "\n",
        "    -   Used efficient indexing techniques and distributed systems to handle scalability issues.\n",
        "\n",
        "Conclusion\n",
        "----------\n",
        "\n",
        "This evaluation demonstrates the effectiveness of the proposed improvements in enhancing the performance of the RAG system. The methodologies used for calculating context precision and answer relevance were critical in identifying areas for improvement. The implemented enhancements resulted in significant performance gains, overcoming challenges and providing a more accurate and relevant response to user queries."
      ],
      "metadata": {
        "id": "p8Z3eTWEXi_L"
      }
    },
    {
      "cell_type": "markdown",
      "metadata": {
        "id": "UeIDns8neIdO"
      },
      "source": [
        "# Ask Questions to the PDF using Gradio UI\n",
        " this code creates a web-based frontend for your question-answering system, allowing users to easily enter queries and see the results along with relevant images."
      ]
    },
    {
      "cell_type": "code",
      "execution_count": null,
      "metadata": {
        "id": "5dYlueAKbCJe"
      },
      "outputs": [],
      "source": [
        "def gradio_query(query):\n",
        "    # Retrieve the answer from your QA system\n",
        "    result, image_path = get_answer(query)\n",
        "\n",
        "    try:\n",
        "        # Attempt to fetch the source image reference\n",
        "        image = PIL_Image.open(image_path)  # Open the reference image\n",
        "    except:\n",
        "        # Use a default image if the reference is not found\n",
        "        image = PIL_Image.open(\"./Images/blank.jpg\")\n",
        "\n",
        "    return [result, image]  # Return both the text answer and the image\n",
        "\n",
        "\n",
        "gr.close_all()  # Ensure a clean Gradio interface\n",
        "with gr.Blocks() as demo:\n",
        "    with gr.Row():\n",
        "        with gr.Column():\n",
        "            # Input / Output Components\n",
        "            query = gr.Textbox(label=\"Query\", info=\"Enter your query\")\n",
        "            btn_enter = gr.Button(\"Process\")\n",
        "            answer = gr.Textbox(label=\"Response\", info=\"Enter your query\")\n",
        "            btn_clear = gr.Button(\"Clear\")\n",
        "        with gr.Column():\n",
        "            image = gr.Image(label=\"Reference\", visible=True)\n",
        "\n",
        "    # Button Click Event\n",
        "    btn_enter.click(fn=gradio_query, inputs=query, outputs=[answer, image])\n",
        "\n",
        "demo.launch(share=False, debug=True, inbrowser=True)  # Launch the Gradio app"
      ]
    },
    {
      "cell_type": "markdown",
      "metadata": {
        "id": "Xbj4ooqjNUXv"
      },
      "source": [
        "### Close the demo\n",
        "\n",
        "Note: Stop the previous cell to close the Gradio server running locally then run this cell to free up the port utilised for running the server"
      ]
    },
    {
      "cell_type": "code",
      "execution_count": null,
      "metadata": {
        "id": "mgqWI-Z1xlVp"
      },
      "outputs": [],
      "source": [
        "demo.close()"
      ]
    },
    {
      "cell_type": "markdown",
      "metadata": {
        "id": "eUac1wDXPDC2"
      },
      "source": [
        "### Cleaning up\n",
        "To clean up all Google Cloud resources used in this project, you can delete the Google Cloud project you used for the tutorial.\n",
        "\n",
        "Otherwise, you can delete the individual resources you created in this tutorial."
      ]
    },
    {
      "cell_type": "code",
      "execution_count": 43,
      "metadata": {
        "id": "ItrB6IIUCMb1",
        "colab": {
          "base_uri": "https://localhost:8080/",
          "height": 0
        },
        "collapsed": true,
        "outputId": "f59d01e8-4618-44f2-eda0-4a7345ee54c5"
      },
      "outputs": [
        {
          "output_type": "stream",
          "name": "stderr",
          "text": [
            "INFO:google.cloud.aiplatform.matching_engine.matching_engine_index_endpoint:Undeploying MatchingEngineIndexEndpoint index_endpoint: projects/380487397443/locations/us-central1/indexEndpoints/4865871116536643584\n",
            "INFO:google.cloud.aiplatform.matching_engine.matching_engine_index_endpoint:Undeploy MatchingEngineIndexEndpoint index_endpoint backing LRO: projects/380487397443/locations/us-central1/indexEndpoints/4865871116536643584/operations/3500158687064883200\n",
            "INFO:google.cloud.aiplatform.matching_engine.matching_engine_index_endpoint:MatchingEngineIndexEndpoint index_endpoint undeployed. Resource name: projects/380487397443/locations/us-central1/indexEndpoints/4865871116536643584\n",
            "INFO:google.cloud.aiplatform.base:Deleting MatchingEngineIndexEndpoint : projects/380487397443/locations/us-central1/indexEndpoints/4865871116536643584\n",
            "INFO:google.cloud.aiplatform.base:MatchingEngineIndexEndpoint deleted. . Resource name: projects/380487397443/locations/us-central1/indexEndpoints/4865871116536643584\n",
            "INFO:google.cloud.aiplatform.base:Deleting MatchingEngineIndexEndpoint resource: projects/380487397443/locations/us-central1/indexEndpoints/4865871116536643584\n",
            "INFO:google.cloud.aiplatform.base:Delete MatchingEngineIndexEndpoint backing LRO: projects/380487397443/locations/us-central1/indexEndpoints/4865871116536643584/operations/8492961823958499328\n",
            "INFO:google.cloud.aiplatform.base:MatchingEngineIndexEndpoint resource projects/380487397443/locations/us-central1/indexEndpoints/4865871116536643584 deleted.\n",
            "INFO:google.cloud.aiplatform.base:Deleting MatchingEngineIndex : projects/380487397443/locations/us-central1/indexes/5273024670348607488\n",
            "INFO:google.cloud.aiplatform.base:MatchingEngineIndex deleted. . Resource name: projects/380487397443/locations/us-central1/indexes/5273024670348607488\n",
            "INFO:google.cloud.aiplatform.base:Deleting MatchingEngineIndex resource: projects/380487397443/locations/us-central1/indexes/5273024670348607488\n",
            "INFO:google.cloud.aiplatform.base:Delete MatchingEngineIndex backing LRO: projects/380487397443/locations/us-central1/indexes/5273024670348607488/operations/6648174826596859904\n",
            "INFO:google.cloud.aiplatform.base:MatchingEngineIndex resource projects/380487397443/locations/us-central1/indexes/5273024670348607488 deleted.\n"
          ]
        }
      ],
      "source": [
        "# @title\n",
        "delete_bucket = False\n",
        "\n",
        "# Force undeployment of indexes and delete endpoint\n",
        "my_index_endpoint.delete(force=True)\n",
        "\n",
        "# Delete indexes\n",
        "my_index.delete()\n",
        "\n",
        "if delete_bucket:\n",
        "    ! gsutil rm -rf {BUCKET_URI}"
      ]
    }
  ],
  "metadata": {
    "colab": {
      "provenance": []
    },
    "environment": {
      "kernel": "python3",
      "name": "tf2-gpu.2-12.m110",
      "type": "gcloud",
      "uri": "gcr.io/deeplearning-platform-release/tf2-gpu.2-12:m110"
    },
    "kernelspec": {
      "display_name": "Python 3",
      "language": "python",
      "name": "python3"
    },
    "language_info": {
      "codemirror_mode": {
        "name": "ipython",
        "version": 3
      },
      "file_extension": ".py",
      "mimetype": "text/x-python",
      "name": "python",
      "nbconvert_exporter": "python",
      "pygments_lexer": "ipython3",
      "version": "3.10.12"
    }
  },
  "nbformat": 4,
  "nbformat_minor": 0
}